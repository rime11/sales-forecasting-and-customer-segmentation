{
 "cells": [
  {
   "cell_type": "markdown",
   "id": "muslim-priority",
   "metadata": {},
   "source": [
    "<center>\n",
    "<div class=\"alert alert-block alert-info\">\n",
    "    <h1>Clean and Analyse Data for Online Store</h1> \n",
    "</div>"
   ]
  },
  {
   "cell_type": "markdown",
   "id": "selected-enclosure",
   "metadata": {},
   "source": [
    "---"
   ]
  },
  {
   "cell_type": "markdown",
   "id": "downtown-sphere",
   "metadata": {},
   "source": [
    "### This is a transnational data set which contains all the transactions occurring between 01/12/2010 and 09/12/2011 for a UK-based and registered non-store online retail.The company mainly sells unique all-occasion gifts and many customers of the company are wholesalers.\n",
    "\n",
    "### This data set has been acquired from the UCI Machine Learning Repository and was made available by Dr Daqing Chen. It is also available on Kaggle.\n",
    "\n",
    "---"
   ]
  },
  {
   "cell_type": "markdown",
   "id": "color-strand",
   "metadata": {},
   "source": [
    "<center>\n",
    "<div class=\"alert alert-block alert-warning text-style:bold;>\n",
    "    <h1>Table of Contents</h1> \n",
    "</div>"
   ]
  },
  {
   "cell_type": "markdown",
   "id": "balanced-portal",
   "metadata": {},
   "source": [
    "<a id='top'></a>\n",
    "* [Importing Libraries](#import_libraries)\n",
    "* [Importing Data](#importing_data)  \n",
    "* [Creating the Data Frame](#create_dataframe)\n",
    "* [Data Cleaning](#data_cleaning)  \n",
    "    - [Missing Values](#missing_values)\n",
    "    - [Price](#prices)\n",
    "    - [Quantity](#quantity)\n",
    "    - [Stock Code](#stockcode)\n",
    "    - [Missing Customer ID](#missing_customerid)\n",
    "    - [description](#description)\n",
    "    - [Customers](#customers)\n",
    "* [Feature Engineering](#feature_engineering)\n",
    "* [Save Dataframe](#save_file)\n",
    "* [Summary](#summary)\n",
    "    "
   ]
  },
  {
   "cell_type": "markdown",
   "id": "eastern-scholarship",
   "metadata": {},
   "source": [
    "<a id=\"import_libraries\"></a>\n",
    "\n",
    "<center>\n",
    "<div class=\"alert alert-block alert-warning\"; text-style:bold;>\n",
    "    <h1>Importing Libraries</h1> \n",
    "</div>"
   ]
  },
  {
   "cell_type": "code",
   "execution_count": 2,
   "id": "flexible-vulnerability",
   "metadata": {},
   "outputs": [],
   "source": [
    "\n",
    "#import pandas, numpy, stats to investigate outliers\n",
    "\n",
    "import pandas as pd\n",
    "import numpy as np\n",
    "from scipy import stats \n",
    "import datetime\n",
    "#for visualization import matplotlib, seaborn\n",
    "import matplotlib.pyplot as plt\n",
    "import seaborn as sns\n",
    "\n",
    "#ignore warnings\n",
    "import warnings\n",
    "warnings.filterwarnings('ignore')\n",
    "\n",
    "import os"
   ]
  },
  {
   "cell_type": "code",
   "execution_count": 2,
   "id": "electric-equation",
   "metadata": {},
   "outputs": [
    {
     "data": {
      "text/plain": [
       "['Solarize_Light2',\n",
       " '_classic_test_patch',\n",
       " 'bmh',\n",
       " 'classic',\n",
       " 'dark_background',\n",
       " 'fast',\n",
       " 'fivethirtyeight',\n",
       " 'ggplot',\n",
       " 'grayscale',\n",
       " 'seaborn',\n",
       " 'seaborn-bright',\n",
       " 'seaborn-colorblind',\n",
       " 'seaborn-dark',\n",
       " 'seaborn-dark-palette',\n",
       " 'seaborn-darkgrid',\n",
       " 'seaborn-deep',\n",
       " 'seaborn-muted',\n",
       " 'seaborn-notebook',\n",
       " 'seaborn-paper',\n",
       " 'seaborn-pastel',\n",
       " 'seaborn-poster',\n",
       " 'seaborn-talk',\n",
       " 'seaborn-ticks',\n",
       " 'seaborn-white',\n",
       " 'seaborn-whitegrid',\n",
       " 'tableau-colorblind10']"
      ]
     },
     "execution_count": 2,
     "metadata": {},
     "output_type": "execute_result"
    }
   ],
   "source": [
    "plt.style.available"
   ]
  },
  {
   "cell_type": "markdown",
   "id": "bearing-accordance",
   "metadata": {},
   "source": [
    "<a id=\"importing_data\"></a>\n",
    "<center>\n",
    "<div class=\"alert alert-block alert-warning\">\n",
    "    <h1>Importing Data</h1> \n",
    "</div>"
   ]
  },
  {
   "cell_type": "code",
   "execution_count": 3,
   "id": "circular-sphere",
   "metadata": {},
   "outputs": [
    {
     "name": "stdout",
     "output_type": "stream",
     "text": [
      "['cleaned_data', 'Documentation', 'data_analysis', '.DS_Store', 'data modeling', 'presentation_notes.rtf', 'data_wrangling', 'raw_data']\n"
     ]
    }
   ],
   "source": [
    "print(os.listdir('../'))"
   ]
  },
  {
   "cell_type": "code",
   "execution_count": 4,
   "id": "floppy-affair",
   "metadata": {},
   "outputs": [],
   "source": [
    "#print(os.listdir('~/Users/Rime/Documents/Springboard_docs/springboard/capstone_3'))"
   ]
  },
  {
   "cell_type": "code",
   "execution_count": 5,
   "id": "focused-collect",
   "metadata": {},
   "outputs": [
    {
     "data": {
      "text/plain": [
       "['Year 2009-2010', 'Year 2010-2011']"
      ]
     },
     "execution_count": 5,
     "metadata": {},
     "output_type": "execute_result"
    }
   ],
   "source": [
    "#importing data which is an excel file\n",
    "#create an excel object so I can see the sheets\n",
    "data_excel = pd.ExcelFile('../raw_data/online_retail/online_retail_II.xlsx')\n",
    "#read sheets\n",
    "data_excel.sheet_names"
   ]
  },
  {
   "cell_type": "code",
   "execution_count": 3,
   "id": "crazy-canadian",
   "metadata": {},
   "outputs": [
    {
     "data": {
      "text/plain": [
       "dict"
      ]
     },
     "execution_count": 3,
     "metadata": {},
     "output_type": "execute_result"
    }
   ],
   "source": [
    "#create the data\n",
    "data = pd.read_excel('../raw_data/online_retail/online_retail_II.xlsx',sheet_name=[0,1])\n",
    "type(data)"
   ]
  },
  {
   "cell_type": "markdown",
   "id": "placed-miracle",
   "metadata": {},
   "source": [
    ">This is a dictionary with the keys as the sheet names."
   ]
  },
  {
   "cell_type": "code",
   "execution_count": 10,
   "id": "hybrid-priest",
   "metadata": {},
   "outputs": [
    {
     "data": {
      "text/plain": [
       "(525461, 8)"
      ]
     },
     "execution_count": 10,
     "metadata": {},
     "output_type": "execute_result"
    }
   ],
   "source": [
    "data[0].shape"
   ]
  },
  {
   "cell_type": "code",
   "execution_count": 4,
   "id": "silver-promotion",
   "metadata": {},
   "outputs": [
    {
     "data": {
      "text/plain": [
       "(525461, 541910)"
      ]
     },
     "execution_count": 4,
     "metadata": {},
     "output_type": "execute_result"
    }
   ],
   "source": [
    "#size of each sheet\n",
    "len(data[0]),len(data[1])"
   ]
  },
  {
   "cell_type": "code",
   "execution_count": 8,
   "id": "understanding-genome",
   "metadata": {},
   "outputs": [
    {
     "data": {
      "text/html": [
       "<div>\n",
       "<style scoped>\n",
       "    .dataframe tbody tr th:only-of-type {\n",
       "        vertical-align: middle;\n",
       "    }\n",
       "\n",
       "    .dataframe tbody tr th {\n",
       "        vertical-align: top;\n",
       "    }\n",
       "\n",
       "    .dataframe thead th {\n",
       "        text-align: right;\n",
       "    }\n",
       "</style>\n",
       "<table border=\"1\" class=\"dataframe\">\n",
       "  <thead>\n",
       "    <tr style=\"text-align: right;\">\n",
       "      <th></th>\n",
       "      <th>Invoice</th>\n",
       "      <th>StockCode</th>\n",
       "      <th>Description</th>\n",
       "      <th>Quantity</th>\n",
       "      <th>InvoiceDate</th>\n",
       "      <th>Price</th>\n",
       "      <th>Customer ID</th>\n",
       "      <th>Country</th>\n",
       "    </tr>\n",
       "  </thead>\n",
       "  <tbody>\n",
       "    <tr>\n",
       "      <th>0</th>\n",
       "      <td>489434</td>\n",
       "      <td>85048</td>\n",
       "      <td>15CM CHRISTMAS GLASS BALL 20 LIGHTS</td>\n",
       "      <td>12</td>\n",
       "      <td>2009-12-01 07:45:00</td>\n",
       "      <td>6.95</td>\n",
       "      <td>13085.0</td>\n",
       "      <td>United Kingdom</td>\n",
       "    </tr>\n",
       "    <tr>\n",
       "      <th>1</th>\n",
       "      <td>489434</td>\n",
       "      <td>79323P</td>\n",
       "      <td>PINK CHERRY LIGHTS</td>\n",
       "      <td>12</td>\n",
       "      <td>2009-12-01 07:45:00</td>\n",
       "      <td>6.75</td>\n",
       "      <td>13085.0</td>\n",
       "      <td>United Kingdom</td>\n",
       "    </tr>\n",
       "    <tr>\n",
       "      <th>2</th>\n",
       "      <td>489434</td>\n",
       "      <td>79323W</td>\n",
       "      <td>WHITE CHERRY LIGHTS</td>\n",
       "      <td>12</td>\n",
       "      <td>2009-12-01 07:45:00</td>\n",
       "      <td>6.75</td>\n",
       "      <td>13085.0</td>\n",
       "      <td>United Kingdom</td>\n",
       "    </tr>\n",
       "    <tr>\n",
       "      <th>3</th>\n",
       "      <td>489434</td>\n",
       "      <td>22041</td>\n",
       "      <td>RECORD FRAME 7\" SINGLE SIZE</td>\n",
       "      <td>48</td>\n",
       "      <td>2009-12-01 07:45:00</td>\n",
       "      <td>2.10</td>\n",
       "      <td>13085.0</td>\n",
       "      <td>United Kingdom</td>\n",
       "    </tr>\n",
       "    <tr>\n",
       "      <th>4</th>\n",
       "      <td>489434</td>\n",
       "      <td>21232</td>\n",
       "      <td>STRAWBERRY CERAMIC TRINKET BOX</td>\n",
       "      <td>24</td>\n",
       "      <td>2009-12-01 07:45:00</td>\n",
       "      <td>1.25</td>\n",
       "      <td>13085.0</td>\n",
       "      <td>United Kingdom</td>\n",
       "    </tr>\n",
       "    <tr>\n",
       "      <th>5</th>\n",
       "      <td>489434</td>\n",
       "      <td>22064</td>\n",
       "      <td>PINK DOUGHNUT TRINKET POT</td>\n",
       "      <td>24</td>\n",
       "      <td>2009-12-01 07:45:00</td>\n",
       "      <td>1.65</td>\n",
       "      <td>13085.0</td>\n",
       "      <td>United Kingdom</td>\n",
       "    </tr>\n",
       "    <tr>\n",
       "      <th>6</th>\n",
       "      <td>489434</td>\n",
       "      <td>21871</td>\n",
       "      <td>SAVE THE PLANET MUG</td>\n",
       "      <td>24</td>\n",
       "      <td>2009-12-01 07:45:00</td>\n",
       "      <td>1.25</td>\n",
       "      <td>13085.0</td>\n",
       "      <td>United Kingdom</td>\n",
       "    </tr>\n",
       "    <tr>\n",
       "      <th>7</th>\n",
       "      <td>489434</td>\n",
       "      <td>21523</td>\n",
       "      <td>FANCY FONT HOME SWEET HOME DOORMAT</td>\n",
       "      <td>10</td>\n",
       "      <td>2009-12-01 07:45:00</td>\n",
       "      <td>5.95</td>\n",
       "      <td>13085.0</td>\n",
       "      <td>United Kingdom</td>\n",
       "    </tr>\n",
       "    <tr>\n",
       "      <th>8</th>\n",
       "      <td>489435</td>\n",
       "      <td>22350</td>\n",
       "      <td>CAT BOWL</td>\n",
       "      <td>12</td>\n",
       "      <td>2009-12-01 07:46:00</td>\n",
       "      <td>2.55</td>\n",
       "      <td>13085.0</td>\n",
       "      <td>United Kingdom</td>\n",
       "    </tr>\n",
       "    <tr>\n",
       "      <th>9</th>\n",
       "      <td>489435</td>\n",
       "      <td>22349</td>\n",
       "      <td>DOG BOWL , CHASING BALL DESIGN</td>\n",
       "      <td>12</td>\n",
       "      <td>2009-12-01 07:46:00</td>\n",
       "      <td>3.75</td>\n",
       "      <td>13085.0</td>\n",
       "      <td>United Kingdom</td>\n",
       "    </tr>\n",
       "  </tbody>\n",
       "</table>\n",
       "</div>"
      ],
      "text/plain": [
       "  Invoice StockCode                          Description  Quantity  \\\n",
       "0  489434     85048  15CM CHRISTMAS GLASS BALL 20 LIGHTS        12   \n",
       "1  489434    79323P                   PINK CHERRY LIGHTS        12   \n",
       "2  489434    79323W                  WHITE CHERRY LIGHTS        12   \n",
       "3  489434     22041         RECORD FRAME 7\" SINGLE SIZE         48   \n",
       "4  489434     21232       STRAWBERRY CERAMIC TRINKET BOX        24   \n",
       "5  489434     22064           PINK DOUGHNUT TRINKET POT         24   \n",
       "6  489434     21871                  SAVE THE PLANET MUG        24   \n",
       "7  489434     21523   FANCY FONT HOME SWEET HOME DOORMAT        10   \n",
       "8  489435     22350                            CAT BOWL         12   \n",
       "9  489435     22349       DOG BOWL , CHASING BALL DESIGN        12   \n",
       "\n",
       "          InvoiceDate  Price  Customer ID         Country  \n",
       "0 2009-12-01 07:45:00   6.95      13085.0  United Kingdom  \n",
       "1 2009-12-01 07:45:00   6.75      13085.0  United Kingdom  \n",
       "2 2009-12-01 07:45:00   6.75      13085.0  United Kingdom  \n",
       "3 2009-12-01 07:45:00   2.10      13085.0  United Kingdom  \n",
       "4 2009-12-01 07:45:00   1.25      13085.0  United Kingdom  \n",
       "5 2009-12-01 07:45:00   1.65      13085.0  United Kingdom  \n",
       "6 2009-12-01 07:45:00   1.25      13085.0  United Kingdom  \n",
       "7 2009-12-01 07:45:00   5.95      13085.0  United Kingdom  \n",
       "8 2009-12-01 07:46:00   2.55      13085.0  United Kingdom  \n",
       "9 2009-12-01 07:46:00   3.75      13085.0  United Kingdom  "
      ]
     },
     "execution_count": 8,
     "metadata": {},
     "output_type": "execute_result"
    }
   ],
   "source": [
    "#display the first few rows of each sheet\n",
    "data[0][:10]"
   ]
  },
  {
   "cell_type": "code",
   "execution_count": 9,
   "id": "looking-composition",
   "metadata": {},
   "outputs": [
    {
     "data": {
      "text/html": [
       "<div>\n",
       "<style scoped>\n",
       "    .dataframe tbody tr th:only-of-type {\n",
       "        vertical-align: middle;\n",
       "    }\n",
       "\n",
       "    .dataframe tbody tr th {\n",
       "        vertical-align: top;\n",
       "    }\n",
       "\n",
       "    .dataframe thead th {\n",
       "        text-align: right;\n",
       "    }\n",
       "</style>\n",
       "<table border=\"1\" class=\"dataframe\">\n",
       "  <thead>\n",
       "    <tr style=\"text-align: right;\">\n",
       "      <th></th>\n",
       "      <th>Invoice</th>\n",
       "      <th>StockCode</th>\n",
       "      <th>Description</th>\n",
       "      <th>Quantity</th>\n",
       "      <th>InvoiceDate</th>\n",
       "      <th>Price</th>\n",
       "      <th>Customer ID</th>\n",
       "      <th>Country</th>\n",
       "    </tr>\n",
       "  </thead>\n",
       "  <tbody>\n",
       "    <tr>\n",
       "      <th>0</th>\n",
       "      <td>536365</td>\n",
       "      <td>85123A</td>\n",
       "      <td>WHITE HANGING HEART T-LIGHT HOLDER</td>\n",
       "      <td>6</td>\n",
       "      <td>2010-12-01 08:26:00</td>\n",
       "      <td>2.55</td>\n",
       "      <td>17850.0</td>\n",
       "      <td>United Kingdom</td>\n",
       "    </tr>\n",
       "    <tr>\n",
       "      <th>1</th>\n",
       "      <td>536365</td>\n",
       "      <td>71053</td>\n",
       "      <td>WHITE METAL LANTERN</td>\n",
       "      <td>6</td>\n",
       "      <td>2010-12-01 08:26:00</td>\n",
       "      <td>3.39</td>\n",
       "      <td>17850.0</td>\n",
       "      <td>United Kingdom</td>\n",
       "    </tr>\n",
       "    <tr>\n",
       "      <th>2</th>\n",
       "      <td>536365</td>\n",
       "      <td>84406B</td>\n",
       "      <td>CREAM CUPID HEARTS COAT HANGER</td>\n",
       "      <td>8</td>\n",
       "      <td>2010-12-01 08:26:00</td>\n",
       "      <td>2.75</td>\n",
       "      <td>17850.0</td>\n",
       "      <td>United Kingdom</td>\n",
       "    </tr>\n",
       "    <tr>\n",
       "      <th>3</th>\n",
       "      <td>536365</td>\n",
       "      <td>84029G</td>\n",
       "      <td>KNITTED UNION FLAG HOT WATER BOTTLE</td>\n",
       "      <td>6</td>\n",
       "      <td>2010-12-01 08:26:00</td>\n",
       "      <td>3.39</td>\n",
       "      <td>17850.0</td>\n",
       "      <td>United Kingdom</td>\n",
       "    </tr>\n",
       "    <tr>\n",
       "      <th>4</th>\n",
       "      <td>536365</td>\n",
       "      <td>84029E</td>\n",
       "      <td>RED WOOLLY HOTTIE WHITE HEART.</td>\n",
       "      <td>6</td>\n",
       "      <td>2010-12-01 08:26:00</td>\n",
       "      <td>3.39</td>\n",
       "      <td>17850.0</td>\n",
       "      <td>United Kingdom</td>\n",
       "    </tr>\n",
       "    <tr>\n",
       "      <th>5</th>\n",
       "      <td>536365</td>\n",
       "      <td>22752</td>\n",
       "      <td>SET 7 BABUSHKA NESTING BOXES</td>\n",
       "      <td>2</td>\n",
       "      <td>2010-12-01 08:26:00</td>\n",
       "      <td>7.65</td>\n",
       "      <td>17850.0</td>\n",
       "      <td>United Kingdom</td>\n",
       "    </tr>\n",
       "    <tr>\n",
       "      <th>6</th>\n",
       "      <td>536365</td>\n",
       "      <td>21730</td>\n",
       "      <td>GLASS STAR FROSTED T-LIGHT HOLDER</td>\n",
       "      <td>6</td>\n",
       "      <td>2010-12-01 08:26:00</td>\n",
       "      <td>4.25</td>\n",
       "      <td>17850.0</td>\n",
       "      <td>United Kingdom</td>\n",
       "    </tr>\n",
       "    <tr>\n",
       "      <th>7</th>\n",
       "      <td>536366</td>\n",
       "      <td>22633</td>\n",
       "      <td>HAND WARMER UNION JACK</td>\n",
       "      <td>6</td>\n",
       "      <td>2010-12-01 08:28:00</td>\n",
       "      <td>1.85</td>\n",
       "      <td>17850.0</td>\n",
       "      <td>United Kingdom</td>\n",
       "    </tr>\n",
       "    <tr>\n",
       "      <th>8</th>\n",
       "      <td>536366</td>\n",
       "      <td>22632</td>\n",
       "      <td>HAND WARMER RED POLKA DOT</td>\n",
       "      <td>6</td>\n",
       "      <td>2010-12-01 08:28:00</td>\n",
       "      <td>1.85</td>\n",
       "      <td>17850.0</td>\n",
       "      <td>United Kingdom</td>\n",
       "    </tr>\n",
       "    <tr>\n",
       "      <th>9</th>\n",
       "      <td>536368</td>\n",
       "      <td>22960</td>\n",
       "      <td>JAM MAKING SET WITH JARS</td>\n",
       "      <td>6</td>\n",
       "      <td>2010-12-01 08:34:00</td>\n",
       "      <td>4.25</td>\n",
       "      <td>13047.0</td>\n",
       "      <td>United Kingdom</td>\n",
       "    </tr>\n",
       "  </tbody>\n",
       "</table>\n",
       "</div>"
      ],
      "text/plain": [
       "  Invoice StockCode                          Description  Quantity  \\\n",
       "0  536365    85123A   WHITE HANGING HEART T-LIGHT HOLDER         6   \n",
       "1  536365     71053                  WHITE METAL LANTERN         6   \n",
       "2  536365    84406B       CREAM CUPID HEARTS COAT HANGER         8   \n",
       "3  536365    84029G  KNITTED UNION FLAG HOT WATER BOTTLE         6   \n",
       "4  536365    84029E       RED WOOLLY HOTTIE WHITE HEART.         6   \n",
       "5  536365     22752         SET 7 BABUSHKA NESTING BOXES         2   \n",
       "6  536365     21730    GLASS STAR FROSTED T-LIGHT HOLDER         6   \n",
       "7  536366     22633               HAND WARMER UNION JACK         6   \n",
       "8  536366     22632            HAND WARMER RED POLKA DOT         6   \n",
       "9  536368     22960             JAM MAKING SET WITH JARS         6   \n",
       "\n",
       "          InvoiceDate  Price  Customer ID         Country  \n",
       "0 2010-12-01 08:26:00   2.55      17850.0  United Kingdom  \n",
       "1 2010-12-01 08:26:00   3.39      17850.0  United Kingdom  \n",
       "2 2010-12-01 08:26:00   2.75      17850.0  United Kingdom  \n",
       "3 2010-12-01 08:26:00   3.39      17850.0  United Kingdom  \n",
       "4 2010-12-01 08:26:00   3.39      17850.0  United Kingdom  \n",
       "5 2010-12-01 08:26:00   7.65      17850.0  United Kingdom  \n",
       "6 2010-12-01 08:26:00   4.25      17850.0  United Kingdom  \n",
       "7 2010-12-01 08:28:00   1.85      17850.0  United Kingdom  \n",
       "8 2010-12-01 08:28:00   1.85      17850.0  United Kingdom  \n",
       "9 2010-12-01 08:34:00   4.25      13047.0  United Kingdom  "
      ]
     },
     "execution_count": 9,
     "metadata": {},
     "output_type": "execute_result"
    }
   ],
   "source": [
    "data[1][:10]"
   ]
  },
  {
   "cell_type": "markdown",
   "id": "responsible-friend",
   "metadata": {},
   "source": [
    "<a id=\"create_dataframe\"></a>\n",
    "<center>\n",
    "<div class=\"alert alert-block alert-warning\">\n",
    "    <h1>Create Data Frame</h1> \n",
    "</div>\n",
    "\n"
   ]
  },
  {
   "cell_type": "markdown",
   "id": "hungry-cartoon",
   "metadata": {},
   "source": [
    ">To create a data frame out of the values of the dictionary ignoring the index, I need to concatenate the two sheets"
   ]
  },
  {
   "cell_type": "code",
   "execution_count": 13,
   "id": "advised-collectible",
   "metadata": {},
   "outputs": [
    {
     "data": {
      "text/html": [
       "<div>\n",
       "<style scoped>\n",
       "    .dataframe tbody tr th:only-of-type {\n",
       "        vertical-align: middle;\n",
       "    }\n",
       "\n",
       "    .dataframe tbody tr th {\n",
       "        vertical-align: top;\n",
       "    }\n",
       "\n",
       "    .dataframe thead th {\n",
       "        text-align: right;\n",
       "    }\n",
       "</style>\n",
       "<table border=\"1\" class=\"dataframe\">\n",
       "  <thead>\n",
       "    <tr style=\"text-align: right;\">\n",
       "      <th></th>\n",
       "      <th>Invoice</th>\n",
       "      <th>StockCode</th>\n",
       "      <th>Description</th>\n",
       "      <th>Quantity</th>\n",
       "      <th>InvoiceDate</th>\n",
       "      <th>Price</th>\n",
       "      <th>Customer ID</th>\n",
       "      <th>Country</th>\n",
       "    </tr>\n",
       "  </thead>\n",
       "  <tbody>\n",
       "    <tr>\n",
       "      <th>0</th>\n",
       "      <td>489434</td>\n",
       "      <td>85048</td>\n",
       "      <td>15CM CHRISTMAS GLASS BALL 20 LIGHTS</td>\n",
       "      <td>12</td>\n",
       "      <td>2009-12-01 07:45:00</td>\n",
       "      <td>6.95</td>\n",
       "      <td>13085.0</td>\n",
       "      <td>United Kingdom</td>\n",
       "    </tr>\n",
       "    <tr>\n",
       "      <th>1</th>\n",
       "      <td>489434</td>\n",
       "      <td>79323P</td>\n",
       "      <td>PINK CHERRY LIGHTS</td>\n",
       "      <td>12</td>\n",
       "      <td>2009-12-01 07:45:00</td>\n",
       "      <td>6.75</td>\n",
       "      <td>13085.0</td>\n",
       "      <td>United Kingdom</td>\n",
       "    </tr>\n",
       "    <tr>\n",
       "      <th>2</th>\n",
       "      <td>489434</td>\n",
       "      <td>79323W</td>\n",
       "      <td>WHITE CHERRY LIGHTS</td>\n",
       "      <td>12</td>\n",
       "      <td>2009-12-01 07:45:00</td>\n",
       "      <td>6.75</td>\n",
       "      <td>13085.0</td>\n",
       "      <td>United Kingdom</td>\n",
       "    </tr>\n",
       "    <tr>\n",
       "      <th>3</th>\n",
       "      <td>489434</td>\n",
       "      <td>22041</td>\n",
       "      <td>RECORD FRAME 7\" SINGLE SIZE</td>\n",
       "      <td>48</td>\n",
       "      <td>2009-12-01 07:45:00</td>\n",
       "      <td>2.10</td>\n",
       "      <td>13085.0</td>\n",
       "      <td>United Kingdom</td>\n",
       "    </tr>\n",
       "    <tr>\n",
       "      <th>4</th>\n",
       "      <td>489434</td>\n",
       "      <td>21232</td>\n",
       "      <td>STRAWBERRY CERAMIC TRINKET BOX</td>\n",
       "      <td>24</td>\n",
       "      <td>2009-12-01 07:45:00</td>\n",
       "      <td>1.25</td>\n",
       "      <td>13085.0</td>\n",
       "      <td>United Kingdom</td>\n",
       "    </tr>\n",
       "  </tbody>\n",
       "</table>\n",
       "</div>"
      ],
      "text/plain": [
       "  Invoice StockCode                          Description  Quantity  \\\n",
       "0  489434     85048  15CM CHRISTMAS GLASS BALL 20 LIGHTS        12   \n",
       "1  489434    79323P                   PINK CHERRY LIGHTS        12   \n",
       "2  489434    79323W                  WHITE CHERRY LIGHTS        12   \n",
       "3  489434     22041         RECORD FRAME 7\" SINGLE SIZE         48   \n",
       "4  489434     21232       STRAWBERRY CERAMIC TRINKET BOX        24   \n",
       "\n",
       "          InvoiceDate  Price  Customer ID         Country  \n",
       "0 2009-12-01 07:45:00   6.95      13085.0  United Kingdom  \n",
       "1 2009-12-01 07:45:00   6.75      13085.0  United Kingdom  \n",
       "2 2009-12-01 07:45:00   6.75      13085.0  United Kingdom  \n",
       "3 2009-12-01 07:45:00   2.10      13085.0  United Kingdom  \n",
       "4 2009-12-01 07:45:00   1.25      13085.0  United Kingdom  "
      ]
     },
     "execution_count": 13,
     "metadata": {},
     "output_type": "execute_result"
    }
   ],
   "source": [
    "df= pd.concat(data.values(),ignore_index=True)\n",
    "df.head()"
   ]
  },
  {
   "cell_type": "code",
   "execution_count": 14,
   "id": "through-palace",
   "metadata": {},
   "outputs": [
    {
     "data": {
      "text/html": [
       "<div>\n",
       "<style scoped>\n",
       "    .dataframe tbody tr th:only-of-type {\n",
       "        vertical-align: middle;\n",
       "    }\n",
       "\n",
       "    .dataframe tbody tr th {\n",
       "        vertical-align: top;\n",
       "    }\n",
       "\n",
       "    .dataframe thead th {\n",
       "        text-align: right;\n",
       "    }\n",
       "</style>\n",
       "<table border=\"1\" class=\"dataframe\">\n",
       "  <thead>\n",
       "    <tr style=\"text-align: right;\">\n",
       "      <th></th>\n",
       "      <th>Invoice</th>\n",
       "      <th>StockCode</th>\n",
       "      <th>Description</th>\n",
       "      <th>Quantity</th>\n",
       "      <th>InvoiceDate</th>\n",
       "      <th>Price</th>\n",
       "      <th>Customer ID</th>\n",
       "      <th>Country</th>\n",
       "    </tr>\n",
       "  </thead>\n",
       "  <tbody>\n",
       "    <tr>\n",
       "      <th>1067366</th>\n",
       "      <td>581587</td>\n",
       "      <td>22899</td>\n",
       "      <td>CHILDREN'S APRON DOLLY GIRL</td>\n",
       "      <td>6</td>\n",
       "      <td>2011-12-09 12:50:00</td>\n",
       "      <td>2.10</td>\n",
       "      <td>12680.0</td>\n",
       "      <td>France</td>\n",
       "    </tr>\n",
       "    <tr>\n",
       "      <th>1067367</th>\n",
       "      <td>581587</td>\n",
       "      <td>23254</td>\n",
       "      <td>CHILDRENS CUTLERY DOLLY GIRL</td>\n",
       "      <td>4</td>\n",
       "      <td>2011-12-09 12:50:00</td>\n",
       "      <td>4.15</td>\n",
       "      <td>12680.0</td>\n",
       "      <td>France</td>\n",
       "    </tr>\n",
       "    <tr>\n",
       "      <th>1067368</th>\n",
       "      <td>581587</td>\n",
       "      <td>23255</td>\n",
       "      <td>CHILDRENS CUTLERY CIRCUS PARADE</td>\n",
       "      <td>4</td>\n",
       "      <td>2011-12-09 12:50:00</td>\n",
       "      <td>4.15</td>\n",
       "      <td>12680.0</td>\n",
       "      <td>France</td>\n",
       "    </tr>\n",
       "    <tr>\n",
       "      <th>1067369</th>\n",
       "      <td>581587</td>\n",
       "      <td>22138</td>\n",
       "      <td>BAKING SET 9 PIECE RETROSPOT</td>\n",
       "      <td>3</td>\n",
       "      <td>2011-12-09 12:50:00</td>\n",
       "      <td>4.95</td>\n",
       "      <td>12680.0</td>\n",
       "      <td>France</td>\n",
       "    </tr>\n",
       "    <tr>\n",
       "      <th>1067370</th>\n",
       "      <td>581587</td>\n",
       "      <td>POST</td>\n",
       "      <td>POSTAGE</td>\n",
       "      <td>1</td>\n",
       "      <td>2011-12-09 12:50:00</td>\n",
       "      <td>18.00</td>\n",
       "      <td>12680.0</td>\n",
       "      <td>France</td>\n",
       "    </tr>\n",
       "  </tbody>\n",
       "</table>\n",
       "</div>"
      ],
      "text/plain": [
       "        Invoice StockCode                      Description  Quantity  \\\n",
       "1067366  581587     22899     CHILDREN'S APRON DOLLY GIRL          6   \n",
       "1067367  581587     23254    CHILDRENS CUTLERY DOLLY GIRL          4   \n",
       "1067368  581587     23255  CHILDRENS CUTLERY CIRCUS PARADE         4   \n",
       "1067369  581587     22138    BAKING SET 9 PIECE RETROSPOT          3   \n",
       "1067370  581587      POST                          POSTAGE         1   \n",
       "\n",
       "                InvoiceDate  Price  Customer ID Country  \n",
       "1067366 2011-12-09 12:50:00   2.10      12680.0  France  \n",
       "1067367 2011-12-09 12:50:00   4.15      12680.0  France  \n",
       "1067368 2011-12-09 12:50:00   4.15      12680.0  France  \n",
       "1067369 2011-12-09 12:50:00   4.95      12680.0  France  \n",
       "1067370 2011-12-09 12:50:00  18.00      12680.0  France  "
      ]
     },
     "execution_count": 14,
     "metadata": {},
     "output_type": "execute_result"
    }
   ],
   "source": [
    "df.tail()"
   ]
  },
  {
   "cell_type": "code",
   "execution_count": 15,
   "id": "varying-dallas",
   "metadata": {},
   "outputs": [
    {
     "data": {
      "text/plain": [
       "(1067371, 8)"
      ]
     },
     "execution_count": 15,
     "metadata": {},
     "output_type": "execute_result"
    }
   ],
   "source": [
    "#Notice some description is upper case\n",
    "df.shape"
   ]
  },
  {
   "cell_type": "code",
   "execution_count": 16,
   "id": "normal-globe",
   "metadata": {},
   "outputs": [
    {
     "data": {
      "text/plain": [
       "1067371"
      ]
     },
     "execution_count": 16,
     "metadata": {},
     "output_type": "execute_result"
    }
   ],
   "source": [
    "#check if the number of rows is correct\n",
    "len(data[0])+len(data[1])"
   ]
  },
  {
   "cell_type": "markdown",
   "id": "destroyed-diploma",
   "metadata": {},
   "source": [
    ">The data frame has the right number of rows and columns"
   ]
  },
  {
   "cell_type": "markdown",
   "id": "sonic-consumer",
   "metadata": {},
   "source": [
    "<a id=\"data_cleaning\"></a>\n",
    "<center>\n",
    "<div class=\"alert alert-block alert-warning\"; text-style:bold;>\n",
    "    <h1>Data cleaning</h1> \n",
    "</div>"
   ]
  },
  {
   "cell_type": "code",
   "execution_count": 17,
   "id": "monetary-bubble",
   "metadata": {},
   "outputs": [
    {
     "name": "stdout",
     "output_type": "stream",
     "text": [
      "<class 'pandas.core.frame.DataFrame'>\n",
      "RangeIndex: 1067371 entries, 0 to 1067370\n",
      "Data columns (total 8 columns):\n",
      " #   Column       Non-Null Count    Dtype         \n",
      "---  ------       --------------    -----         \n",
      " 0   Invoice      1067371 non-null  object        \n",
      " 1   StockCode    1067371 non-null  object        \n",
      " 2   Description  1062989 non-null  object        \n",
      " 3   Quantity     1067371 non-null  int64         \n",
      " 4   InvoiceDate  1067371 non-null  datetime64[ns]\n",
      " 5   Price        1067371 non-null  float64       \n",
      " 6   Customer ID  824364 non-null   float64       \n",
      " 7   Country      1067371 non-null  object        \n",
      "dtypes: datetime64[ns](1), float64(2), int64(1), object(4)\n",
      "memory usage: 65.1+ MB\n"
     ]
    }
   ],
   "source": [
    "#check data types \n",
    "df.info()"
   ]
  },
  {
   "cell_type": "code",
   "execution_count": 15,
   "id": "mighty-germany",
   "metadata": {},
   "outputs": [
    {
     "data": {
      "text/html": [
       "<div>\n",
       "<style scoped>\n",
       "    .dataframe tbody tr th:only-of-type {\n",
       "        vertical-align: middle;\n",
       "    }\n",
       "\n",
       "    .dataframe tbody tr th {\n",
       "        vertical-align: top;\n",
       "    }\n",
       "\n",
       "    .dataframe thead th {\n",
       "        text-align: right;\n",
       "    }\n",
       "</style>\n",
       "<table border=\"1\" class=\"dataframe\">\n",
       "  <thead>\n",
       "    <tr style=\"text-align: right;\">\n",
       "      <th></th>\n",
       "      <th>Quantity</th>\n",
       "      <th>Price</th>\n",
       "      <th>Customer ID</th>\n",
       "    </tr>\n",
       "  </thead>\n",
       "  <tbody>\n",
       "    <tr>\n",
       "      <th>count</th>\n",
       "      <td>1.067371e+06</td>\n",
       "      <td>1.067371e+06</td>\n",
       "      <td>824364.000000</td>\n",
       "    </tr>\n",
       "    <tr>\n",
       "      <th>mean</th>\n",
       "      <td>9.938898e+00</td>\n",
       "      <td>4.649388e+00</td>\n",
       "      <td>15324.638504</td>\n",
       "    </tr>\n",
       "    <tr>\n",
       "      <th>std</th>\n",
       "      <td>1.727058e+02</td>\n",
       "      <td>1.235531e+02</td>\n",
       "      <td>1697.464450</td>\n",
       "    </tr>\n",
       "    <tr>\n",
       "      <th>min</th>\n",
       "      <td>-8.099500e+04</td>\n",
       "      <td>-5.359436e+04</td>\n",
       "      <td>12346.000000</td>\n",
       "    </tr>\n",
       "    <tr>\n",
       "      <th>25%</th>\n",
       "      <td>1.000000e+00</td>\n",
       "      <td>1.250000e+00</td>\n",
       "      <td>13975.000000</td>\n",
       "    </tr>\n",
       "    <tr>\n",
       "      <th>50%</th>\n",
       "      <td>3.000000e+00</td>\n",
       "      <td>2.100000e+00</td>\n",
       "      <td>15255.000000</td>\n",
       "    </tr>\n",
       "    <tr>\n",
       "      <th>75%</th>\n",
       "      <td>1.000000e+01</td>\n",
       "      <td>4.150000e+00</td>\n",
       "      <td>16797.000000</td>\n",
       "    </tr>\n",
       "    <tr>\n",
       "      <th>max</th>\n",
       "      <td>8.099500e+04</td>\n",
       "      <td>3.897000e+04</td>\n",
       "      <td>18287.000000</td>\n",
       "    </tr>\n",
       "  </tbody>\n",
       "</table>\n",
       "</div>"
      ],
      "text/plain": [
       "           Quantity         Price    Customer ID\n",
       "count  1.067371e+06  1.067371e+06  824364.000000\n",
       "mean   9.938898e+00  4.649388e+00   15324.638504\n",
       "std    1.727058e+02  1.235531e+02    1697.464450\n",
       "min   -8.099500e+04 -5.359436e+04   12346.000000\n",
       "25%    1.000000e+00  1.250000e+00   13975.000000\n",
       "50%    3.000000e+00  2.100000e+00   15255.000000\n",
       "75%    1.000000e+01  4.150000e+00   16797.000000\n",
       "max    8.099500e+04  3.897000e+04   18287.000000"
      ]
     },
     "execution_count": 15,
     "metadata": {},
     "output_type": "execute_result"
    }
   ],
   "source": [
    "df.describe()"
   ]
  },
  {
   "cell_type": "markdown",
   "id": "vocal-growing",
   "metadata": {},
   "source": [
    "<a id=\"missing_values\"></a>\n",
    "### Missing values"
   ]
  },
  {
   "cell_type": "code",
   "execution_count": 16,
   "id": "finite-peripheral",
   "metadata": {},
   "outputs": [
    {
     "data": {
      "text/plain": [
       "Invoice             0\n",
       "StockCode           0\n",
       "Description      4382\n",
       "Quantity            0\n",
       "InvoiceDate         0\n",
       "Price               0\n",
       "Customer ID    243007\n",
       "Country             0\n",
       "dtype: int64"
      ]
     },
     "execution_count": 16,
     "metadata": {},
     "output_type": "execute_result"
    }
   ],
   "source": [
    "#check if there are missing values\n",
    "df.isnull().sum()"
   ]
  },
  {
   "cell_type": "markdown",
   "id": "advisory-james",
   "metadata": {},
   "source": [
    ">There are 4382 item description missing, but what is more concerning is that there are 243007 customer id missing. How can someone order an item from the store with no id. This needs to investigated further."
   ]
  },
  {
   "cell_type": "markdown",
   "id": "functioning-accident",
   "metadata": {},
   "source": [
    "### Investigate Countries"
   ]
  },
  {
   "cell_type": "code",
   "execution_count": 18,
   "id": "applicable-reliance",
   "metadata": {},
   "outputs": [
    {
     "data": {
      "text/plain": [
       "United Kingdom          981330\n",
       "EIRE                     17866\n",
       "Germany                  17624\n",
       "France                   14330\n",
       "Netherlands               5140\n",
       "Spain                     3811\n",
       "Switzerland               3189\n",
       "Belgium                   3123\n",
       "Portugal                  2620\n",
       "Australia                 1913\n",
       "Channel Islands           1664\n",
       "Italy                     1534\n",
       "Norway                    1455\n",
       "Sweden                    1364\n",
       "Cyprus                    1176\n",
       "Finland                   1049\n",
       "Austria                    938\n",
       "Denmark                    817\n",
       "Unspecified                756\n",
       "Greece                     663\n",
       "Japan                      582\n",
       "Poland                     535\n",
       "USA                        535\n",
       "United Arab Emirates       500\n",
       "Israel                     371\n",
       "Hong Kong                  364\n",
       "Singapore                  346\n",
       "Malta                      299\n",
       "Iceland                    253\n",
       "Canada                     228\n",
       "Lithuania                  189\n",
       "RSA                        169\n",
       "Bahrain                    126\n",
       "Brazil                      94\n",
       "Thailand                    76\n",
       "Korea                       63\n",
       "European Community          61\n",
       "Lebanon                     58\n",
       "West Indies                 54\n",
       "Bermuda                     34\n",
       "Nigeria                     32\n",
       "Czech Republic              30\n",
       "Saudi Arabia                10\n",
       "Name: Country, dtype: int64"
      ]
     },
     "execution_count": 18,
     "metadata": {},
     "output_type": "execute_result"
    }
   ],
   "source": [
    "df['Country'].value_counts()"
   ]
  },
  {
   "cell_type": "markdown",
   "id": "considered-friendship",
   "metadata": {},
   "source": [
    ">Most common is UK, what is the percentage"
   ]
  },
  {
   "cell_type": "code",
   "execution_count": 18,
   "id": "pointed-census",
   "metadata": {},
   "outputs": [
    {
     "data": {
      "text/plain": [
       "91.93897904290074"
      ]
     },
     "execution_count": 18,
     "metadata": {},
     "output_type": "execute_result"
    }
   ],
   "source": [
    "df.loc[df['Country']=='United Kingdom'].shape[0] / df.shape[0] *100"
   ]
  },
  {
   "cell_type": "code",
   "execution_count": 19,
   "id": "accurate-spirit",
   "metadata": {},
   "outputs": [
    {
     "name": "stdout",
     "output_type": "stream",
     "text": [
      "(43,)\n"
     ]
    },
    {
     "data": {
      "text/plain": [
       "''"
      ]
     },
     "execution_count": 19,
     "metadata": {},
     "output_type": "execute_result"
    },
    {
     "data": {
      "image/png": "[encoded data removed]",
      "text/plain": [
       "<Figure size 1080x720 with 2 Axes>"
      ]
     },
     "metadata": {},
     "output_type": "display_data"
    }
   ],
   "source": [
    "plt.style.use('seaborn')\n",
    "#sales by countries\n",
    "countries = df[df.Country.notna()]['Country'].value_counts(ascending=False)\n",
    "print(countries.shape)\n",
    "plt.figure(figsize=(15,10))\n",
    "plt.subplot(2,1,1)\n",
    "sns.barplot(countries.index,countries.values,palette='OrRd_r')\n",
    "plt.xticks(rotation=90)\n",
    "plt.ylabel('Count')\n",
    "plt.title('Sales by Country')\n",
    "\n",
    "#remove UK to see sales for other countries\n",
    "\n",
    "plt.subplot(2,1,2)\n",
    "sns.barplot(countries.index[1:],countries.values[1:],palette='OrRd_r')\n",
    "plt.xticks(rotation=90)\n",
    "plt.tight_layout()\n",
    "plt.ylabel('Count')\n",
    "plt.title('Sales by Country without UK')\n",
    ";\n",
    "\n"
   ]
  },
  {
   "cell_type": "markdown",
   "id": "abandoned-english",
   "metadata": {},
   "source": [
    ">* EIRE is Ireland but European Community is an expression that was used before the European union\n",
    ">* RSA is the Republic of South Africa  \n",
    ">* Since the data is for an online UK store, it makes sense that most orders were from UK"
   ]
  },
  {
   "cell_type": "markdown",
   "id": "iraqi-eligibility",
   "metadata": {},
   "source": [
    "___"
   ]
  },
  {
   "cell_type": "markdown",
   "id": "banner-entity",
   "metadata": {},
   "source": [
    "[Back To Top](#top)"
   ]
  },
  {
   "cell_type": "markdown",
   "id": "rental-knowing",
   "metadata": {},
   "source": [
    "<a id=\"prices\"></a>\n",
    "### Investigate Price\n"
   ]
  },
  {
   "cell_type": "code",
   "execution_count": 20,
   "id": "lightweight-worship",
   "metadata": {},
   "outputs": [
    {
     "data": {
      "image/png": "[encoded data removed]",
      "text/plain": [
       "<Figure size 720x504 with 1 Axes>"
      ]
     },
     "metadata": {},
     "output_type": "display_data"
    }
   ],
   "source": [
    "plt.style.use('seaborn')\n",
    "plt.subplots(figsize=(10,7))\n",
    "sns.boxplot(x='Price',data=df)\n",
    "plt.title('Price range');"
   ]
  },
  {
   "cell_type": "markdown",
   "id": "engaged-winter",
   "metadata": {},
   "source": [
    "> There are negative prices which could mean returns, needs investigation"
   ]
  },
  {
   "cell_type": "code",
   "execution_count": 21,
   "id": "rational-housing",
   "metadata": {},
   "outputs": [
    {
     "data": {
      "text/html": [
       "<div>\n",
       "<style scoped>\n",
       "    .dataframe tbody tr th:only-of-type {\n",
       "        vertical-align: middle;\n",
       "    }\n",
       "\n",
       "    .dataframe tbody tr th {\n",
       "        vertical-align: top;\n",
       "    }\n",
       "\n",
       "    .dataframe thead th {\n",
       "        text-align: right;\n",
       "    }\n",
       "</style>\n",
       "<table border=\"1\" class=\"dataframe\">\n",
       "  <thead>\n",
       "    <tr style=\"text-align: right;\">\n",
       "      <th></th>\n",
       "      <th>Invoice</th>\n",
       "      <th>StockCode</th>\n",
       "      <th>Description</th>\n",
       "      <th>Quantity</th>\n",
       "      <th>InvoiceDate</th>\n",
       "      <th>Price</th>\n",
       "      <th>Customer ID</th>\n",
       "      <th>Country</th>\n",
       "    </tr>\n",
       "  </thead>\n",
       "  <tbody>\n",
       "    <tr>\n",
       "      <th>179403</th>\n",
       "      <td>A506401</td>\n",
       "      <td>B</td>\n",
       "      <td>Adjust bad debt</td>\n",
       "      <td>1</td>\n",
       "      <td>2010-04-29 13:36:00</td>\n",
       "      <td>-53594.36</td>\n",
       "      <td>NaN</td>\n",
       "      <td>United Kingdom</td>\n",
       "    </tr>\n",
       "    <tr>\n",
       "      <th>276274</th>\n",
       "      <td>A516228</td>\n",
       "      <td>B</td>\n",
       "      <td>Adjust bad debt</td>\n",
       "      <td>1</td>\n",
       "      <td>2010-07-19 11:24:00</td>\n",
       "      <td>-44031.79</td>\n",
       "      <td>NaN</td>\n",
       "      <td>United Kingdom</td>\n",
       "    </tr>\n",
       "    <tr>\n",
       "      <th>403472</th>\n",
       "      <td>A528059</td>\n",
       "      <td>B</td>\n",
       "      <td>Adjust bad debt</td>\n",
       "      <td>1</td>\n",
       "      <td>2010-10-20 12:04:00</td>\n",
       "      <td>-38925.87</td>\n",
       "      <td>NaN</td>\n",
       "      <td>United Kingdom</td>\n",
       "    </tr>\n",
       "    <tr>\n",
       "      <th>825444</th>\n",
       "      <td>A563186</td>\n",
       "      <td>B</td>\n",
       "      <td>Adjust bad debt</td>\n",
       "      <td>1</td>\n",
       "      <td>2011-08-12 14:51:00</td>\n",
       "      <td>-11062.06</td>\n",
       "      <td>NaN</td>\n",
       "      <td>United Kingdom</td>\n",
       "    </tr>\n",
       "    <tr>\n",
       "      <th>825445</th>\n",
       "      <td>A563187</td>\n",
       "      <td>B</td>\n",
       "      <td>Adjust bad debt</td>\n",
       "      <td>1</td>\n",
       "      <td>2011-08-12 14:52:00</td>\n",
       "      <td>-11062.06</td>\n",
       "      <td>NaN</td>\n",
       "      <td>United Kingdom</td>\n",
       "    </tr>\n",
       "  </tbody>\n",
       "</table>\n",
       "</div>"
      ],
      "text/plain": [
       "        Invoice StockCode      Description  Quantity         InvoiceDate  \\\n",
       "179403  A506401         B  Adjust bad debt         1 2010-04-29 13:36:00   \n",
       "276274  A516228         B  Adjust bad debt         1 2010-07-19 11:24:00   \n",
       "403472  A528059         B  Adjust bad debt         1 2010-10-20 12:04:00   \n",
       "825444  A563186         B  Adjust bad debt         1 2011-08-12 14:51:00   \n",
       "825445  A563187         B  Adjust bad debt         1 2011-08-12 14:52:00   \n",
       "\n",
       "           Price  Customer ID         Country  \n",
       "179403 -53594.36          NaN  United Kingdom  \n",
       "276274 -44031.79          NaN  United Kingdom  \n",
       "403472 -38925.87          NaN  United Kingdom  \n",
       "825444 -11062.06          NaN  United Kingdom  \n",
       "825445 -11062.06          NaN  United Kingdom  "
      ]
     },
     "execution_count": 21,
     "metadata": {},
     "output_type": "execute_result"
    }
   ],
   "source": [
    "#print rows that have negative prices\n",
    "df[df.Price<0]"
   ]
  },
  {
   "cell_type": "code",
   "execution_count": 22,
   "id": "present-scoop",
   "metadata": {},
   "outputs": [
    {
     "data": {
      "text/html": [
       "<div>\n",
       "<style scoped>\n",
       "    .dataframe tbody tr th:only-of-type {\n",
       "        vertical-align: middle;\n",
       "    }\n",
       "\n",
       "    .dataframe tbody tr th {\n",
       "        vertical-align: top;\n",
       "    }\n",
       "\n",
       "    .dataframe thead th {\n",
       "        text-align: right;\n",
       "    }\n",
       "</style>\n",
       "<table border=\"1\" class=\"dataframe\">\n",
       "  <thead>\n",
       "    <tr style=\"text-align: right;\">\n",
       "      <th></th>\n",
       "      <th>Invoice</th>\n",
       "      <th>StockCode</th>\n",
       "      <th>Description</th>\n",
       "      <th>Quantity</th>\n",
       "      <th>InvoiceDate</th>\n",
       "      <th>Price</th>\n",
       "      <th>Customer ID</th>\n",
       "      <th>Country</th>\n",
       "    </tr>\n",
       "  </thead>\n",
       "  <tbody>\n",
       "    <tr>\n",
       "      <th>179403</th>\n",
       "      <td>A506401</td>\n",
       "      <td>B</td>\n",
       "      <td>Adjust bad debt</td>\n",
       "      <td>1</td>\n",
       "      <td>2010-04-29 13:36:00</td>\n",
       "      <td>-53594.36</td>\n",
       "      <td>NaN</td>\n",
       "      <td>United Kingdom</td>\n",
       "    </tr>\n",
       "    <tr>\n",
       "      <th>276274</th>\n",
       "      <td>A516228</td>\n",
       "      <td>B</td>\n",
       "      <td>Adjust bad debt</td>\n",
       "      <td>1</td>\n",
       "      <td>2010-07-19 11:24:00</td>\n",
       "      <td>-44031.79</td>\n",
       "      <td>NaN</td>\n",
       "      <td>United Kingdom</td>\n",
       "    </tr>\n",
       "    <tr>\n",
       "      <th>403472</th>\n",
       "      <td>A528059</td>\n",
       "      <td>B</td>\n",
       "      <td>Adjust bad debt</td>\n",
       "      <td>1</td>\n",
       "      <td>2010-10-20 12:04:00</td>\n",
       "      <td>-38925.87</td>\n",
       "      <td>NaN</td>\n",
       "      <td>United Kingdom</td>\n",
       "    </tr>\n",
       "    <tr>\n",
       "      <th>825443</th>\n",
       "      <td>A563185</td>\n",
       "      <td>B</td>\n",
       "      <td>Adjust bad debt</td>\n",
       "      <td>1</td>\n",
       "      <td>2011-08-12 14:50:00</td>\n",
       "      <td>11062.06</td>\n",
       "      <td>NaN</td>\n",
       "      <td>United Kingdom</td>\n",
       "    </tr>\n",
       "    <tr>\n",
       "      <th>825444</th>\n",
       "      <td>A563186</td>\n",
       "      <td>B</td>\n",
       "      <td>Adjust bad debt</td>\n",
       "      <td>1</td>\n",
       "      <td>2011-08-12 14:51:00</td>\n",
       "      <td>-11062.06</td>\n",
       "      <td>NaN</td>\n",
       "      <td>United Kingdom</td>\n",
       "    </tr>\n",
       "    <tr>\n",
       "      <th>825445</th>\n",
       "      <td>A563187</td>\n",
       "      <td>B</td>\n",
       "      <td>Adjust bad debt</td>\n",
       "      <td>1</td>\n",
       "      <td>2011-08-12 14:52:00</td>\n",
       "      <td>-11062.06</td>\n",
       "      <td>NaN</td>\n",
       "      <td>United Kingdom</td>\n",
       "    </tr>\n",
       "  </tbody>\n",
       "</table>\n",
       "</div>"
      ],
      "text/plain": [
       "        Invoice StockCode      Description  Quantity         InvoiceDate  \\\n",
       "179403  A506401         B  Adjust bad debt         1 2010-04-29 13:36:00   \n",
       "276274  A516228         B  Adjust bad debt         1 2010-07-19 11:24:00   \n",
       "403472  A528059         B  Adjust bad debt         1 2010-10-20 12:04:00   \n",
       "825443  A563185         B  Adjust bad debt         1 2011-08-12 14:50:00   \n",
       "825444  A563186         B  Adjust bad debt         1 2011-08-12 14:51:00   \n",
       "825445  A563187         B  Adjust bad debt         1 2011-08-12 14:52:00   \n",
       "\n",
       "           Price  Customer ID         Country  \n",
       "179403 -53594.36          NaN  United Kingdom  \n",
       "276274 -44031.79          NaN  United Kingdom  \n",
       "403472 -38925.87          NaN  United Kingdom  \n",
       "825443  11062.06          NaN  United Kingdom  \n",
       "825444 -11062.06          NaN  United Kingdom  \n",
       "825445 -11062.06          NaN  United Kingdom  "
      ]
     },
     "execution_count": 22,
     "metadata": {},
     "output_type": "execute_result"
    }
   ],
   "source": [
    "df.loc[df.Description=='Adjust bad debt']"
   ]
  },
  {
   "cell_type": "markdown",
   "id": "harmful-plant",
   "metadata": {},
   "source": [
    ">All are adjust bad debt. There is one more entry in the data with this description which is 11062.06, which is subtracted twice later. I think all these adjusted bad debt should be deleted because they are not a product and their customers are nans. But first investigate if these invoices occur anywhere else in the dataset"
   ]
  },
  {
   "cell_type": "code",
   "execution_count": 22,
   "id": "banned-wholesale",
   "metadata": {},
   "outputs": [
    {
     "data": {
      "text/html": [
       "<div>\n",
       "<style scoped>\n",
       "    .dataframe tbody tr th:only-of-type {\n",
       "        vertical-align: middle;\n",
       "    }\n",
       "\n",
       "    .dataframe tbody tr th {\n",
       "        vertical-align: top;\n",
       "    }\n",
       "\n",
       "    .dataframe thead th {\n",
       "        text-align: right;\n",
       "    }\n",
       "</style>\n",
       "<table border=\"1\" class=\"dataframe\">\n",
       "  <thead>\n",
       "    <tr style=\"text-align: right;\">\n",
       "      <th></th>\n",
       "      <th>Invoice</th>\n",
       "      <th>StockCode</th>\n",
       "      <th>Description</th>\n",
       "      <th>Quantity</th>\n",
       "      <th>InvoiceDate</th>\n",
       "      <th>Price</th>\n",
       "      <th>Customer ID</th>\n",
       "      <th>Country</th>\n",
       "    </tr>\n",
       "  </thead>\n",
       "  <tbody>\n",
       "    <tr>\n",
       "      <th>179403</th>\n",
       "      <td>A506401</td>\n",
       "      <td>B</td>\n",
       "      <td>Adjust bad debt</td>\n",
       "      <td>1</td>\n",
       "      <td>2010-04-29 13:36:00</td>\n",
       "      <td>-53594.36</td>\n",
       "      <td>NaN</td>\n",
       "      <td>United Kingdom</td>\n",
       "    </tr>\n",
       "    <tr>\n",
       "      <th>276274</th>\n",
       "      <td>A516228</td>\n",
       "      <td>B</td>\n",
       "      <td>Adjust bad debt</td>\n",
       "      <td>1</td>\n",
       "      <td>2010-07-19 11:24:00</td>\n",
       "      <td>-44031.79</td>\n",
       "      <td>NaN</td>\n",
       "      <td>United Kingdom</td>\n",
       "    </tr>\n",
       "    <tr>\n",
       "      <th>403472</th>\n",
       "      <td>A528059</td>\n",
       "      <td>B</td>\n",
       "      <td>Adjust bad debt</td>\n",
       "      <td>1</td>\n",
       "      <td>2010-10-20 12:04:00</td>\n",
       "      <td>-38925.87</td>\n",
       "      <td>NaN</td>\n",
       "      <td>United Kingdom</td>\n",
       "    </tr>\n",
       "    <tr>\n",
       "      <th>825443</th>\n",
       "      <td>A563185</td>\n",
       "      <td>B</td>\n",
       "      <td>Adjust bad debt</td>\n",
       "      <td>1</td>\n",
       "      <td>2011-08-12 14:50:00</td>\n",
       "      <td>11062.06</td>\n",
       "      <td>NaN</td>\n",
       "      <td>United Kingdom</td>\n",
       "    </tr>\n",
       "    <tr>\n",
       "      <th>825444</th>\n",
       "      <td>A563186</td>\n",
       "      <td>B</td>\n",
       "      <td>Adjust bad debt</td>\n",
       "      <td>1</td>\n",
       "      <td>2011-08-12 14:51:00</td>\n",
       "      <td>-11062.06</td>\n",
       "      <td>NaN</td>\n",
       "      <td>United Kingdom</td>\n",
       "    </tr>\n",
       "    <tr>\n",
       "      <th>825445</th>\n",
       "      <td>A563187</td>\n",
       "      <td>B</td>\n",
       "      <td>Adjust bad debt</td>\n",
       "      <td>1</td>\n",
       "      <td>2011-08-12 14:52:00</td>\n",
       "      <td>-11062.06</td>\n",
       "      <td>NaN</td>\n",
       "      <td>United Kingdom</td>\n",
       "    </tr>\n",
       "  </tbody>\n",
       "</table>\n",
       "</div>"
      ],
      "text/plain": [
       "        Invoice StockCode      Description  Quantity         InvoiceDate  \\\n",
       "179403  A506401         B  Adjust bad debt         1 2010-04-29 13:36:00   \n",
       "276274  A516228         B  Adjust bad debt         1 2010-07-19 11:24:00   \n",
       "403472  A528059         B  Adjust bad debt         1 2010-10-20 12:04:00   \n",
       "825443  A563185         B  Adjust bad debt         1 2011-08-12 14:50:00   \n",
       "825444  A563186         B  Adjust bad debt         1 2011-08-12 14:51:00   \n",
       "825445  A563187         B  Adjust bad debt         1 2011-08-12 14:52:00   \n",
       "\n",
       "           Price  Customer ID         Country  \n",
       "179403 -53594.36          NaN  United Kingdom  \n",
       "276274 -44031.79          NaN  United Kingdom  \n",
       "403472 -38925.87          NaN  United Kingdom  \n",
       "825443  11062.06          NaN  United Kingdom  \n",
       "825444 -11062.06          NaN  United Kingdom  \n",
       "825445 -11062.06          NaN  United Kingdom  "
      ]
     },
     "execution_count": 22,
     "metadata": {},
     "output_type": "execute_result"
    }
   ],
   "source": [
    "#see if these invoices repeat any where in the data set\n",
    "invoices = df.Invoice.loc[df.Description=='Adjust bad debt'].values\n",
    "df.loc[df.Invoice.isin(invoices)]"
   ]
  },
  {
   "cell_type": "code",
   "execution_count": 23,
   "id": "convertible-broadcast",
   "metadata": {},
   "outputs": [],
   "source": [
    "#delete these rows\n",
    "idx = df[df.Invoice.isin(invoices)].index\n",
    "df_fixed = df.drop(idx)"
   ]
  },
  {
   "cell_type": "code",
   "execution_count": 24,
   "id": "characteristic-hayes",
   "metadata": {},
   "outputs": [
    {
     "data": {
      "text/html": [
       "<div>\n",
       "<style scoped>\n",
       "    .dataframe tbody tr th:only-of-type {\n",
       "        vertical-align: middle;\n",
       "    }\n",
       "\n",
       "    .dataframe tbody tr th {\n",
       "        vertical-align: top;\n",
       "    }\n",
       "\n",
       "    .dataframe thead th {\n",
       "        text-align: right;\n",
       "    }\n",
       "</style>\n",
       "<table border=\"1\" class=\"dataframe\">\n",
       "  <thead>\n",
       "    <tr style=\"text-align: right;\">\n",
       "      <th></th>\n",
       "      <th>Invoice</th>\n",
       "      <th>StockCode</th>\n",
       "      <th>Description</th>\n",
       "      <th>Quantity</th>\n",
       "      <th>InvoiceDate</th>\n",
       "      <th>Price</th>\n",
       "      <th>Customer ID</th>\n",
       "      <th>Country</th>\n",
       "    </tr>\n",
       "  </thead>\n",
       "  <tbody>\n",
       "  </tbody>\n",
       "</table>\n",
       "</div>"
      ],
      "text/plain": [
       "Empty DataFrame\n",
       "Columns: [Invoice, StockCode, Description, Quantity, InvoiceDate, Price, Customer ID, Country]\n",
       "Index: []"
      ]
     },
     "execution_count": 24,
     "metadata": {},
     "output_type": "execute_result"
    }
   ],
   "source": [
    "#check they are deleted\n",
    "df_fixed.loc[df.Invoice.isin(invoices)]\n"
   ]
  },
  {
   "cell_type": "code",
   "execution_count": 25,
   "id": "wired-handy",
   "metadata": {},
   "outputs": [
    {
     "data": {
      "image/png": "[encoded data removed]",
      "text/plain": [
       "<Figure size 720x504 with 1 Axes>"
      ]
     },
     "metadata": {},
     "output_type": "display_data"
    }
   ],
   "source": [
    "#plot prices now\n",
    "plt.style.use('seaborn')\n",
    "plt.subplots(figsize=(10,7))\n",
    "sns.boxplot(x='Price',data=df_fixed)\n",
    "plt.title('Price range');"
   ]
  },
  {
   "cell_type": "code",
   "execution_count": 26,
   "id": "aggressive-binary",
   "metadata": {},
   "outputs": [
    {
     "data": {
      "text/plain": [
       "(38970.0, 0.0)"
      ]
     },
     "execution_count": 26,
     "metadata": {},
     "output_type": "execute_result"
    }
   ],
   "source": [
    "#investigating min and max price values\n",
    "df_fixed.Price.max(),df.Price.loc[df.Price>=0].min()"
   ]
  },
  {
   "cell_type": "markdown",
   "id": "satisfactory-equipment",
   "metadata": {},
   "source": [
    ">Positive prices range from 0 to 38970, but there are some prices at 0. Next look at rows with price equal 0"
   ]
  },
  {
   "cell_type": "code",
   "execution_count": 27,
   "id": "induced-feeling",
   "metadata": {},
   "outputs": [
    {
     "name": "stdout",
     "output_type": "stream",
     "text": [
      "count of 0 price =  6202\n"
     ]
    },
    {
     "data": {
      "text/html": [
       "<div>\n",
       "<style scoped>\n",
       "    .dataframe tbody tr th:only-of-type {\n",
       "        vertical-align: middle;\n",
       "    }\n",
       "\n",
       "    .dataframe tbody tr th {\n",
       "        vertical-align: top;\n",
       "    }\n",
       "\n",
       "    .dataframe thead th {\n",
       "        text-align: right;\n",
       "    }\n",
       "</style>\n",
       "<table border=\"1\" class=\"dataframe\">\n",
       "  <thead>\n",
       "    <tr style=\"text-align: right;\">\n",
       "      <th></th>\n",
       "      <th>Invoice</th>\n",
       "      <th>StockCode</th>\n",
       "      <th>Description</th>\n",
       "      <th>Quantity</th>\n",
       "      <th>InvoiceDate</th>\n",
       "      <th>Price</th>\n",
       "      <th>Customer ID</th>\n",
       "      <th>Country</th>\n",
       "    </tr>\n",
       "  </thead>\n",
       "  <tbody>\n",
       "    <tr>\n",
       "      <th>263</th>\n",
       "      <td>489464</td>\n",
       "      <td>21733</td>\n",
       "      <td>85123a mixed</td>\n",
       "      <td>-96</td>\n",
       "      <td>2009-12-01 10:52:00</td>\n",
       "      <td>0.0</td>\n",
       "      <td>NaN</td>\n",
       "      <td>United Kingdom</td>\n",
       "    </tr>\n",
       "    <tr>\n",
       "      <th>283</th>\n",
       "      <td>489463</td>\n",
       "      <td>71477</td>\n",
       "      <td>short</td>\n",
       "      <td>-240</td>\n",
       "      <td>2009-12-01 10:52:00</td>\n",
       "      <td>0.0</td>\n",
       "      <td>NaN</td>\n",
       "      <td>United Kingdom</td>\n",
       "    </tr>\n",
       "    <tr>\n",
       "      <th>284</th>\n",
       "      <td>489467</td>\n",
       "      <td>85123A</td>\n",
       "      <td>21733 mixed</td>\n",
       "      <td>-192</td>\n",
       "      <td>2009-12-01 10:53:00</td>\n",
       "      <td>0.0</td>\n",
       "      <td>NaN</td>\n",
       "      <td>United Kingdom</td>\n",
       "    </tr>\n",
       "    <tr>\n",
       "      <th>470</th>\n",
       "      <td>489521</td>\n",
       "      <td>21646</td>\n",
       "      <td>NaN</td>\n",
       "      <td>-50</td>\n",
       "      <td>2009-12-01 11:44:00</td>\n",
       "      <td>0.0</td>\n",
       "      <td>NaN</td>\n",
       "      <td>United Kingdom</td>\n",
       "    </tr>\n",
       "    <tr>\n",
       "      <th>3114</th>\n",
       "      <td>489655</td>\n",
       "      <td>20683</td>\n",
       "      <td>NaN</td>\n",
       "      <td>-44</td>\n",
       "      <td>2009-12-01 17:26:00</td>\n",
       "      <td>0.0</td>\n",
       "      <td>NaN</td>\n",
       "      <td>United Kingdom</td>\n",
       "    </tr>\n",
       "    <tr>\n",
       "      <th>...</th>\n",
       "      <td>...</td>\n",
       "      <td>...</td>\n",
       "      <td>...</td>\n",
       "      <td>...</td>\n",
       "      <td>...</td>\n",
       "      <td>...</td>\n",
       "      <td>...</td>\n",
       "      <td>...</td>\n",
       "    </tr>\n",
       "    <tr>\n",
       "      <th>1062442</th>\n",
       "      <td>581234</td>\n",
       "      <td>72817</td>\n",
       "      <td>NaN</td>\n",
       "      <td>27</td>\n",
       "      <td>2011-12-08 10:33:00</td>\n",
       "      <td>0.0</td>\n",
       "      <td>NaN</td>\n",
       "      <td>United Kingdom</td>\n",
       "    </tr>\n",
       "    <tr>\n",
       "      <th>1063965</th>\n",
       "      <td>581406</td>\n",
       "      <td>46000M</td>\n",
       "      <td>POLYESTER FILLER PAD 45x45cm</td>\n",
       "      <td>240</td>\n",
       "      <td>2011-12-08 13:58:00</td>\n",
       "      <td>0.0</td>\n",
       "      <td>NaN</td>\n",
       "      <td>United Kingdom</td>\n",
       "    </tr>\n",
       "    <tr>\n",
       "      <th>1063966</th>\n",
       "      <td>581406</td>\n",
       "      <td>46000S</td>\n",
       "      <td>POLYESTER FILLER PAD 40x40cm</td>\n",
       "      <td>300</td>\n",
       "      <td>2011-12-08 13:58:00</td>\n",
       "      <td>0.0</td>\n",
       "      <td>NaN</td>\n",
       "      <td>United Kingdom</td>\n",
       "    </tr>\n",
       "    <tr>\n",
       "      <th>1064015</th>\n",
       "      <td>581408</td>\n",
       "      <td>85175</td>\n",
       "      <td>NaN</td>\n",
       "      <td>20</td>\n",
       "      <td>2011-12-08 14:06:00</td>\n",
       "      <td>0.0</td>\n",
       "      <td>NaN</td>\n",
       "      <td>United Kingdom</td>\n",
       "    </tr>\n",
       "    <tr>\n",
       "      <th>1064386</th>\n",
       "      <td>581422</td>\n",
       "      <td>23169</td>\n",
       "      <td>smashed</td>\n",
       "      <td>-235</td>\n",
       "      <td>2011-12-08 15:24:00</td>\n",
       "      <td>0.0</td>\n",
       "      <td>NaN</td>\n",
       "      <td>United Kingdom</td>\n",
       "    </tr>\n",
       "  </tbody>\n",
       "</table>\n",
       "<p>6202 rows × 8 columns</p>\n",
       "</div>"
      ],
      "text/plain": [
       "        Invoice StockCode                   Description  Quantity  \\\n",
       "263      489464     21733                  85123a mixed       -96   \n",
       "283      489463     71477                         short      -240   \n",
       "284      489467    85123A                   21733 mixed      -192   \n",
       "470      489521     21646                           NaN       -50   \n",
       "3114     489655     20683                           NaN       -44   \n",
       "...         ...       ...                           ...       ...   \n",
       "1062442  581234     72817                           NaN        27   \n",
       "1063965  581406    46000M  POLYESTER FILLER PAD 45x45cm       240   \n",
       "1063966  581406    46000S  POLYESTER FILLER PAD 40x40cm       300   \n",
       "1064015  581408     85175                           NaN        20   \n",
       "1064386  581422     23169                       smashed      -235   \n",
       "\n",
       "                InvoiceDate  Price  Customer ID         Country  \n",
       "263     2009-12-01 10:52:00    0.0          NaN  United Kingdom  \n",
       "283     2009-12-01 10:52:00    0.0          NaN  United Kingdom  \n",
       "284     2009-12-01 10:53:00    0.0          NaN  United Kingdom  \n",
       "470     2009-12-01 11:44:00    0.0          NaN  United Kingdom  \n",
       "3114    2009-12-01 17:26:00    0.0          NaN  United Kingdom  \n",
       "...                     ...    ...          ...             ...  \n",
       "1062442 2011-12-08 10:33:00    0.0          NaN  United Kingdom  \n",
       "1063965 2011-12-08 13:58:00    0.0          NaN  United Kingdom  \n",
       "1063966 2011-12-08 13:58:00    0.0          NaN  United Kingdom  \n",
       "1064015 2011-12-08 14:06:00    0.0          NaN  United Kingdom  \n",
       "1064386 2011-12-08 15:24:00    0.0          NaN  United Kingdom  \n",
       "\n",
       "[6202 rows x 8 columns]"
      ]
     },
     "execution_count": 27,
     "metadata": {},
     "output_type": "execute_result"
    }
   ],
   "source": [
    "#create a dataframe with only the zero prices called zero_price\n",
    "print('count of 0 price = ',df_fixed.Price.loc[df.Price==0].count())\n",
    "zero_price = df_fixed.loc[df.Price==0]\n",
    "zero_price"
   ]
  },
  {
   "cell_type": "code",
   "execution_count": 29,
   "id": "attached-chosen",
   "metadata": {},
   "outputs": [
    {
     "data": {
      "text/plain": [
       "6131"
      ]
     },
     "execution_count": 29,
     "metadata": {},
     "output_type": "execute_result"
    }
   ],
   "source": [
    "#which customers have 0 price and are nans\n",
    "(zero_price['Customer ID'].loc[df.Price==0]).isna().sum()\n"
   ]
  },
  {
   "cell_type": "markdown",
   "id": "unable-technical",
   "metadata": {},
   "source": [
    ">6131 rows that have zero for price also have nan for customer ID, 71 customers are not nan who got a price of 0. I notice also that there are negative quantities. Next look at the description and negative quantity. I will investigate this further later."
   ]
  },
  {
   "cell_type": "markdown",
   "id": "plastic-israel",
   "metadata": {},
   "source": [
    "___"
   ]
  },
  {
   "cell_type": "markdown",
   "id": "honey-suite",
   "metadata": {},
   "source": [
    "[Back To Top](#top)"
   ]
  },
  {
   "cell_type": "markdown",
   "id": "convertible-consideration",
   "metadata": {},
   "source": [
    "<a id ='quantity'></a>\n",
    "### Quantity"
   ]
  },
  {
   "cell_type": "code",
   "execution_count": 31,
   "id": "registered-printer",
   "metadata": {},
   "outputs": [
    {
     "data": {
      "image/png": "[encoded data removed]",
      "text/plain": [
       "<Figure size 576x396 with 1 Axes>"
      ]
     },
     "metadata": {},
     "output_type": "display_data"
    }
   ],
   "source": [
    "sns.boxplot(df_fixed.Quantity)\n",
    "plt.title('Quantity');"
   ]
  },
  {
   "cell_type": "code",
   "execution_count": 32,
   "id": "buried-battery",
   "metadata": {},
   "outputs": [
    {
     "data": {
      "text/plain": [
       "0"
      ]
     },
     "execution_count": 32,
     "metadata": {},
     "output_type": "execute_result"
    }
   ],
   "source": [
    "(df_fixed.Quantity==0).sum()"
   ]
  },
  {
   "cell_type": "markdown",
   "id": "personal-alert",
   "metadata": {},
   "source": [
    ">Negative quantities but there is no quantity equal to 0. Next look at the customers with 0 price who have an id"
   ]
  },
  {
   "cell_type": "code",
   "execution_count": 33,
   "id": "delayed-preliminary",
   "metadata": {},
   "outputs": [
    {
     "data": {
      "text/html": [
       "<div>\n",
       "<style scoped>\n",
       "    .dataframe tbody tr th:only-of-type {\n",
       "        vertical-align: middle;\n",
       "    }\n",
       "\n",
       "    .dataframe tbody tr th {\n",
       "        vertical-align: top;\n",
       "    }\n",
       "\n",
       "    .dataframe thead th {\n",
       "        text-align: right;\n",
       "    }\n",
       "</style>\n",
       "<table border=\"1\" class=\"dataframe\">\n",
       "  <thead>\n",
       "    <tr style=\"text-align: right;\">\n",
       "      <th></th>\n",
       "      <th>Invoice</th>\n",
       "      <th>StockCode</th>\n",
       "      <th>Description</th>\n",
       "      <th>Quantity</th>\n",
       "      <th>InvoiceDate</th>\n",
       "      <th>Price</th>\n",
       "      <th>Customer ID</th>\n",
       "      <th>Country</th>\n",
       "    </tr>\n",
       "  </thead>\n",
       "  <tbody>\n",
       "    <tr>\n",
       "      <th>4674</th>\n",
       "      <td>489825</td>\n",
       "      <td>22076</td>\n",
       "      <td>6 RIBBONS EMPIRE</td>\n",
       "      <td>12</td>\n",
       "      <td>2009-12-02 13:34:00</td>\n",
       "      <td>0.0</td>\n",
       "      <td>16126.0</td>\n",
       "      <td>United Kingdom</td>\n",
       "    </tr>\n",
       "    <tr>\n",
       "      <th>6781</th>\n",
       "      <td>489998</td>\n",
       "      <td>48185</td>\n",
       "      <td>DOOR MAT FAIRY CAKE</td>\n",
       "      <td>2</td>\n",
       "      <td>2009-12-03 11:19:00</td>\n",
       "      <td>0.0</td>\n",
       "      <td>15658.0</td>\n",
       "      <td>United Kingdom</td>\n",
       "    </tr>\n",
       "    <tr>\n",
       "      <th>16107</th>\n",
       "      <td>490727</td>\n",
       "      <td>M</td>\n",
       "      <td>Manual</td>\n",
       "      <td>1</td>\n",
       "      <td>2009-12-07 16:38:00</td>\n",
       "      <td>0.0</td>\n",
       "      <td>17231.0</td>\n",
       "      <td>United Kingdom</td>\n",
       "    </tr>\n",
       "    <tr>\n",
       "      <th>18738</th>\n",
       "      <td>490961</td>\n",
       "      <td>22065</td>\n",
       "      <td>CHRISTMAS PUDDING TRINKET POT</td>\n",
       "      <td>1</td>\n",
       "      <td>2009-12-08 15:25:00</td>\n",
       "      <td>0.0</td>\n",
       "      <td>14108.0</td>\n",
       "      <td>United Kingdom</td>\n",
       "    </tr>\n",
       "    <tr>\n",
       "      <th>18739</th>\n",
       "      <td>490961</td>\n",
       "      <td>22142</td>\n",
       "      <td>CHRISTMAS CRAFT WHITE FAIRY</td>\n",
       "      <td>12</td>\n",
       "      <td>2009-12-08 15:25:00</td>\n",
       "      <td>0.0</td>\n",
       "      <td>14108.0</td>\n",
       "      <td>United Kingdom</td>\n",
       "    </tr>\n",
       "    <tr>\n",
       "      <th>...</th>\n",
       "      <td>...</td>\n",
       "      <td>...</td>\n",
       "      <td>...</td>\n",
       "      <td>...</td>\n",
       "      <td>...</td>\n",
       "      <td>...</td>\n",
       "      <td>...</td>\n",
       "      <td>...</td>\n",
       "    </tr>\n",
       "    <tr>\n",
       "      <th>1004540</th>\n",
       "      <td>577129</td>\n",
       "      <td>22464</td>\n",
       "      <td>HANGING METAL HEART LANTERN</td>\n",
       "      <td>4</td>\n",
       "      <td>2011-11-17 19:52:00</td>\n",
       "      <td>0.0</td>\n",
       "      <td>15602.0</td>\n",
       "      <td>United Kingdom</td>\n",
       "    </tr>\n",
       "    <tr>\n",
       "      <th>1005014</th>\n",
       "      <td>577168</td>\n",
       "      <td>M</td>\n",
       "      <td>Manual</td>\n",
       "      <td>1</td>\n",
       "      <td>2011-11-18 10:42:00</td>\n",
       "      <td>0.0</td>\n",
       "      <td>12603.0</td>\n",
       "      <td>Germany</td>\n",
       "    </tr>\n",
       "    <tr>\n",
       "      <th>1006110</th>\n",
       "      <td>577314</td>\n",
       "      <td>23407</td>\n",
       "      <td>SET OF 2 TRAYS HOME SWEET HOME</td>\n",
       "      <td>2</td>\n",
       "      <td>2011-11-18 13:23:00</td>\n",
       "      <td>0.0</td>\n",
       "      <td>12444.0</td>\n",
       "      <td>Norway</td>\n",
       "    </tr>\n",
       "    <tr>\n",
       "      <th>1011446</th>\n",
       "      <td>577696</td>\n",
       "      <td>M</td>\n",
       "      <td>Manual</td>\n",
       "      <td>1</td>\n",
       "      <td>2011-11-21 11:57:00</td>\n",
       "      <td>0.0</td>\n",
       "      <td>16406.0</td>\n",
       "      <td>United Kingdom</td>\n",
       "    </tr>\n",
       "    <tr>\n",
       "      <th>1027583</th>\n",
       "      <td>578841</td>\n",
       "      <td>84826</td>\n",
       "      <td>ASSTD DESIGN 3D PAPER STICKERS</td>\n",
       "      <td>12540</td>\n",
       "      <td>2011-11-25 15:57:00</td>\n",
       "      <td>0.0</td>\n",
       "      <td>13256.0</td>\n",
       "      <td>United Kingdom</td>\n",
       "    </tr>\n",
       "  </tbody>\n",
       "</table>\n",
       "<p>71 rows × 8 columns</p>\n",
       "</div>"
      ],
      "text/plain": [
       "        Invoice StockCode                     Description  Quantity  \\\n",
       "4674     489825     22076              6 RIBBONS EMPIRE          12   \n",
       "6781     489998     48185             DOOR MAT FAIRY CAKE         2   \n",
       "16107    490727         M                          Manual         1   \n",
       "18738    490961     22065  CHRISTMAS PUDDING TRINKET POT          1   \n",
       "18739    490961     22142    CHRISTMAS CRAFT WHITE FAIRY         12   \n",
       "...         ...       ...                             ...       ...   \n",
       "1004540  577129     22464     HANGING METAL HEART LANTERN         4   \n",
       "1005014  577168         M                          Manual         1   \n",
       "1006110  577314     23407  SET OF 2 TRAYS HOME SWEET HOME         2   \n",
       "1011446  577696         M                          Manual         1   \n",
       "1027583  578841     84826  ASSTD DESIGN 3D PAPER STICKERS     12540   \n",
       "\n",
       "                InvoiceDate  Price  Customer ID         Country  \n",
       "4674    2009-12-02 13:34:00    0.0      16126.0  United Kingdom  \n",
       "6781    2009-12-03 11:19:00    0.0      15658.0  United Kingdom  \n",
       "16107   2009-12-07 16:38:00    0.0      17231.0  United Kingdom  \n",
       "18738   2009-12-08 15:25:00    0.0      14108.0  United Kingdom  \n",
       "18739   2009-12-08 15:25:00    0.0      14108.0  United Kingdom  \n",
       "...                     ...    ...          ...             ...  \n",
       "1004540 2011-11-17 19:52:00    0.0      15602.0  United Kingdom  \n",
       "1005014 2011-11-18 10:42:00    0.0      12603.0         Germany  \n",
       "1006110 2011-11-18 13:23:00    0.0      12444.0          Norway  \n",
       "1011446 2011-11-21 11:57:00    0.0      16406.0  United Kingdom  \n",
       "1027583 2011-11-25 15:57:00    0.0      13256.0  United Kingdom  \n",
       "\n",
       "[71 rows x 8 columns]"
      ]
     },
     "execution_count": 33,
     "metadata": {},
     "output_type": "execute_result"
    }
   ],
   "source": [
    "\n",
    "zero_price[zero_price['Customer ID'].notna()]"
   ]
  },
  {
   "cell_type": "markdown",
   "id": "boring-karen",
   "metadata": {},
   "source": [
    ">These seem to be promotions, gifts or manuals"
   ]
  },
  {
   "cell_type": "code",
   "execution_count": 35,
   "id": "precise-illustration",
   "metadata": {},
   "outputs": [
    {
     "data": {
      "text/plain": [
       "Invoice        3457\n",
       "StockCode      3457\n",
       "Description     768\n",
       "Quantity       3457\n",
       "InvoiceDate    3457\n",
       "Price          3457\n",
       "Customer ID       0\n",
       "Country        3457\n",
       "dtype: int64"
      ]
     },
     "execution_count": 35,
     "metadata": {},
     "output_type": "execute_result"
    }
   ],
   "source": [
    "#negative quantity\n",
    "zero_price[zero_price.Quantity<0].count()\n",
    "\n",
    "\n"
   ]
  },
  {
   "cell_type": "code",
   "execution_count": 32,
   "id": "incorrect-offset",
   "metadata": {},
   "outputs": [
    {
     "data": {
      "text/plain": [
       "3457"
      ]
     },
     "execution_count": 32,
     "metadata": {},
     "output_type": "execute_result"
    }
   ],
   "source": [
    "#are all the customers unknown for negative quantity?\n",
    "zero_price[zero_price.Quantity<0]['Customer ID'].isna().sum()\n"
   ]
  },
  {
   "cell_type": "markdown",
   "id": "smart-chester",
   "metadata": {},
   "source": [
    ">There are 3457 rows with negative quantity and all the customers are unknown. Investigate their description"
   ]
  },
  {
   "cell_type": "code",
   "execution_count": 33,
   "id": "acting-victor",
   "metadata": {},
   "outputs": [
    {
     "name": "stdout",
     "output_type": "stream",
     "text": [
      "# of unique descroptions=  222\n"
     ]
    },
    {
     "data": {
      "text/plain": [
       "check                                  123\n",
       "damages                                 84\n",
       "?                                       83\n",
       "damaged                                 78\n",
       "missing                                 27\n",
       "sold as set on dotcom                   20\n",
       "Damaged                                 17\n",
       "Unsaleable, destroyed.                   9\n",
       "thrown away                              9\n",
       "smashed                                  9\n",
       "dotcom                                   8\n",
       "??                                       7\n",
       "damages?                                 7\n",
       "crushed                                  6\n",
       "given away                               6\n",
       "counted                                  5\n",
       "checked                                  5\n",
       "Damages                                  5\n",
       "MIA                                      5\n",
       "wet damaged                              5\n",
       "ebay                                     5\n",
       "ebay sales                               4\n",
       "Dotcom sales                             4\n",
       "Dotcom                                   3\n",
       "broken                                   3\n",
       "CHECK                                    3\n",
       "No Stock                                 3\n",
       "wet pallet                               3\n",
       "missing?                                 2\n",
       "MISSING                                  2\n",
       "wet/rusty                                2\n",
       "rusty throw away                         2\n",
       "mixed up                                 2\n",
       "wrong code                               2\n",
       "sold as 1                                2\n",
       "wet                                      2\n",
       "broken zips                              2\n",
       "damages wax                              2\n",
       "dotcom sales                             2\n",
       "incorrect stock entry.                   2\n",
       "lost                                     2\n",
       "printing smudges/thrown away             2\n",
       "Given away                               2\n",
       "faulty                                   2\n",
       "stock check                              2\n",
       "discoloured                              2\n",
       "wet rusty                                2\n",
       "mouldy                                   2\n",
       "???missing                               2\n",
       "reverse 21/5/10 adjustment               2\n",
       "lost in space                            2\n",
       "?missing                                 2\n",
       "gone                                     2\n",
       "damages, lost bits etc                   2\n",
       "adjustment                               2\n",
       "Donated to The Food Chain charity        2\n",
       "sold as set/6 on dotcom                  1\n",
       "wrongly marked. 23343 in box             1\n",
       "poor quality                             1\n",
       "sold as 22467                            1\n",
       "display stands                           1\n",
       "rusty thrown away                        1\n",
       "reverse mistake                          1\n",
       "incorrectly put back into stock          1\n",
       "sold as 17003?                           1\n",
       "Thrown away-rusty                        1\n",
       "bad quality                              1\n",
       "thrown away-can't sell                   1\n",
       "for show                                 1\n",
       "wrongly coded-23343                      1\n",
       "samples/damages                          1\n",
       "used for show display                    1\n",
       "Wrongly mrked had 85123a in box          1\n",
       "21494                                    1\n",
       "????missing                              1\n",
       "stock creditted wrongly                  1\n",
       "Wet pallet-thrown away                   1\n",
       "Amazon sold as set                       1\n",
       "wet damages                              1\n",
       "stock take                               1\n",
       "Carton qnty was 216 not 144 as stat      1\n",
       "Damp and rusty                           1\n",
       "thrown away-can't sell.                  1\n",
       "Breakages                                1\n",
       "Display                                  1\n",
       "20713 wrongly marked                     1\n",
       "wrongly sold as sets                     1\n",
       "incorrect credit                         1\n",
       "temp adjustment                          1\n",
       "Zebra invcing error                      1\n",
       "non colour fast                          1\n",
       "Dotcom set                               1\n",
       "sold in set?                             1\n",
       "wet ctn                                  1\n",
       "Dotcom sold as set                       1\n",
       "my error - connor                        1\n",
       "Mixed with blue                          1\n",
       "Damages/samples                          1\n",
       "POSSIBLE DAMAGES OR LOST?                1\n",
       "re-adjustment                            1\n",
       "Dotcom sold in 6's                       1\n",
       "damges                                   1\n",
       "Show Samples                             1\n",
       "water damaged                            1\n",
       "crushed ctn                              1\n",
       "Came as green?                           1\n",
       "Sold as 17003?                           1\n",
       "adjust                                   1\n",
       "cant find                                1\n",
       "sold with wrong barcode                  1\n",
       "missing (wrongly coded?)                 1\n",
       "damaged stock                            1\n",
       "Sold as C                                1\n",
       "code mix up? 84930                       1\n",
       "????damages????                          1\n",
       "DAMAGED                                  1\n",
       "damages/dotcom?                          1\n",
       "wrong barcode                            1\n",
       "wet/smashed/unsellable                   1\n",
       "sold as D?                               1\n",
       "wedding co returns?                      1\n",
       "wrong barcode (22467)                    1\n",
       "throw away                               1\n",
       "?? missing                               1\n",
       "donated to the Food Chain charity.       1\n",
       "water damage                             1\n",
       "???                                      1\n",
       "sold in wrong qnty                       1\n",
       "damaged?                                 1\n",
       "Sold as 1 on dotcom                      1\n",
       "???lost                                  1\n",
       "?display?                                1\n",
       "? sold as sets?                          1\n",
       "can't find                               1\n",
       "rex use                                  1\n",
       "Crushed                                  1\n",
       "damages/showroom etc                     1\n",
       "damages/display                          1\n",
       "crushed boxes                            1\n",
       "entry error                              1\n",
       "wrongly marked carton 22804              1\n",
       "Amazon sold sets                         1\n",
       "wrong code?                              1\n",
       "12'S SOLD AS 1?                          1\n",
       "Dotcom multiple                          1\n",
       "sold as set/6 by dotcom                  1\n",
       "wonky bottom/broken                      1\n",
       "sold as set by dotcom                    1\n",
       "Rusty                                    1\n",
       "?????                                    1\n",
       "historic computer difference?....se      1\n",
       "reverse previous adjustment              1\n",
       "broken, uneven bottom                    1\n",
       "cracked                                  1\n",
       "wrongly sold sets                        1\n",
       "?lost                                    1\n",
       "Incorrectly entered. should be 2279      1\n",
       "Wet, rusty-thrown away                   1\n",
       "sold as set on dotcom and amazon         1\n",
       "mystery! Only ever imported 1800         1\n",
       "damaged/dirty                            1\n",
       "Rusty connections                        1\n",
       "22467                                    1\n",
       "samples                                  1\n",
       "sold as gold                             1\n",
       "barcode problem                          1\n",
       "wet and rotting                          1\n",
       "mouldy, thrown away.                     1\n",
       "OOPS ! adjustment                        1\n",
       "coding mix up                            1\n",
       "stock credited from royal yacht inc      1\n",
       "missings                                 1\n",
       "wet cartons                              1\n",
       "invoice 506647                           1\n",
       "invcd as 84879?                          1\n",
       "mouldy, unsaleable.                      1\n",
       "wet boxes                                1\n",
       "incorrectly credited C550456 see 47      1\n",
       "Water damaged                            1\n",
       "display                                  1\n",
       "code mix up 72597                        1\n",
       "show display                             1\n",
       "rust,missing sets etc                    1\n",
       "dirty                                    1\n",
       "damages etc                              1\n",
       "damages/credits from ASOS.               1\n",
       "wet?                                     1\n",
       "re dotcom quick fix.                     1\n",
       "dirty, torn, thrown away.                1\n",
       "21733 mixed                              1\n",
       "showroom                                 1\n",
       "phil said so                             1\n",
       "DOTCOM SETS                              1\n",
       "MERCHANT CHANDLER CREDIT ERROR, STO      1\n",
       "?sold as sets?                           1\n",
       "Thrown away.                             1\n",
       "test                                     1\n",
       "Printing smudges/thrown away             1\n",
       "Dagamed                                  1\n",
       "lost??                                   1\n",
       "mix up with c                            1\n",
       "20713                                    1\n",
       "wet & rotting                            1\n",
       "show                                     1\n",
       "Incorrect stock entry.                   1\n",
       "17129c                                   1\n",
       "Not rcvd in 10/11/2010 delivery          1\n",
       "WET/MOULDY                               1\n",
       "dotcom sold sets                         1\n",
       "short                                    1\n",
       "wrong ctn size                           1\n",
       "broken glass                             1\n",
       "Ebay sales by the box.                   1\n",
       "85123a mixed                             1\n",
       "found some more on shelf                 1\n",
       "Dotcom multiples                         1\n",
       "incorrectly made-thrown away.            1\n",
       "Missing                                  1\n",
       "lost?                                    1\n",
       "wrongly coded 20713                      1\n",
       "label mix up                             1\n",
       "taig adjust no stock                     1\n",
       "Name: Description, dtype: int64"
      ]
     },
     "execution_count": 33,
     "metadata": {},
     "output_type": "execute_result"
    }
   ],
   "source": [
    "pd.set_option(\"display.max_rows\", None)\n",
    "print('# of unique descroptions= ',zero_price.Description[zero_price.Quantity<0].nunique())\n",
    "zero_price.Description[zero_price.Quantity<0].value_counts()"
   ]
  },
  {
   "cell_type": "markdown",
   "id": "absolute-intention",
   "metadata": {},
   "source": [
    ">All Products were returned because some sort of damage, so with customer id missing and no price and negative quantity, we can conclude that these products were damaged and so are not considered sales and we can safely drop them."
   ]
  },
  {
   "cell_type": "code",
   "execution_count": 36,
   "id": "equivalent-promise",
   "metadata": {},
   "outputs": [
    {
     "data": {
      "text/plain": [
       "(1063908, 8)"
      ]
     },
     "execution_count": 36,
     "metadata": {},
     "output_type": "execute_result"
    }
   ],
   "source": [
    "#drop rows with negative quantity and nan customer ID\n",
    "idx= zero_price[zero_price.Quantity<0].index\n",
    "df_fixed = df_fixed.drop(idx)\n",
    "df_fixed.shape"
   ]
  },
  {
   "cell_type": "code",
   "execution_count": 37,
   "id": "acoustic-machinery",
   "metadata": {},
   "outputs": [
    {
     "data": {
      "text/plain": [
       "<AxesSubplot:xlabel='Quantity'>"
      ]
     },
     "execution_count": 37,
     "metadata": {},
     "output_type": "execute_result"
    },
    {
     "data": {
      "image/png": "[encoded data removed]",
      "text/plain": [
       "<Figure size 576x396 with 1 Axes>"
      ]
     },
     "metadata": {},
     "output_type": "display_data"
    }
   ],
   "source": [
    "sns.boxplot(df_fixed.Quantity)"
   ]
  },
  {
   "cell_type": "markdown",
   "id": "cross-olive",
   "metadata": {},
   "source": [
    ">There still many negative quantity so this needs further investigation. There is also something weird about the quantity. There are two outliers in the negative and positive sides that seem to be equivalent. I wonder if these are mistakes that were deleted. So I will sort the dataframe by the quantity"
   ]
  },
  {
   "cell_type": "code",
   "execution_count": null,
   "id": "checked-pearl",
   "metadata": {},
   "outputs": [],
   "source": []
  },
  {
   "cell_type": "code",
   "execution_count": 38,
   "id": "sharp-stake",
   "metadata": {},
   "outputs": [
    {
     "name": "stdout",
     "output_type": "stream",
     "text": [
      "19493\n"
     ]
    },
    {
     "data": {
      "text/html": [
       "<div>\n",
       "<style scoped>\n",
       "    .dataframe tbody tr th:only-of-type {\n",
       "        vertical-align: middle;\n",
       "    }\n",
       "\n",
       "    .dataframe tbody tr th {\n",
       "        vertical-align: top;\n",
       "    }\n",
       "\n",
       "    .dataframe thead th {\n",
       "        text-align: right;\n",
       "    }\n",
       "</style>\n",
       "<table border=\"1\" class=\"dataframe\">\n",
       "  <thead>\n",
       "    <tr style=\"text-align: right;\">\n",
       "      <th></th>\n",
       "      <th>Invoice</th>\n",
       "      <th>StockCode</th>\n",
       "      <th>Description</th>\n",
       "      <th>Quantity</th>\n",
       "      <th>InvoiceDate</th>\n",
       "      <th>Price</th>\n",
       "      <th>Customer ID</th>\n",
       "      <th>Country</th>\n",
       "    </tr>\n",
       "  </thead>\n",
       "  <tbody>\n",
       "    <tr>\n",
       "      <th>1065882</th>\n",
       "      <td>581483</td>\n",
       "      <td>23843</td>\n",
       "      <td>PAPER CRAFT , LITTLE BIRDIE</td>\n",
       "      <td>80995</td>\n",
       "      <td>2011-12-09 09:15:00</td>\n",
       "      <td>2.08</td>\n",
       "      <td>16446.0</td>\n",
       "      <td>United Kingdom</td>\n",
       "    </tr>\n",
       "    <tr>\n",
       "      <th>587080</th>\n",
       "      <td>541431</td>\n",
       "      <td>23166</td>\n",
       "      <td>MEDIUM CERAMIC TOP STORAGE JAR</td>\n",
       "      <td>74215</td>\n",
       "      <td>2011-01-18 10:01:00</td>\n",
       "      <td>1.04</td>\n",
       "      <td>12346.0</td>\n",
       "      <td>United Kingdom</td>\n",
       "    </tr>\n",
       "    <tr>\n",
       "      <th>90857</th>\n",
       "      <td>497946</td>\n",
       "      <td>37410</td>\n",
       "      <td>BLACK AND WHITE PAISLEY FLOWER MUG</td>\n",
       "      <td>19152</td>\n",
       "      <td>2010-02-15 11:57:00</td>\n",
       "      <td>0.10</td>\n",
       "      <td>13902.0</td>\n",
       "      <td>Denmark</td>\n",
       "    </tr>\n",
       "    <tr>\n",
       "      <th>127166</th>\n",
       "      <td>501534</td>\n",
       "      <td>21099</td>\n",
       "      <td>SET/6 STRAWBERRY PAPER CUPS</td>\n",
       "      <td>12960</td>\n",
       "      <td>2010-03-17 13:09:00</td>\n",
       "      <td>0.10</td>\n",
       "      <td>13902.0</td>\n",
       "      <td>Denmark</td>\n",
       "    </tr>\n",
       "    <tr>\n",
       "      <th>127168</th>\n",
       "      <td>501534</td>\n",
       "      <td>21091</td>\n",
       "      <td>SET/6 WOODLAND PAPER PLATES</td>\n",
       "      <td>12960</td>\n",
       "      <td>2010-03-17 13:09:00</td>\n",
       "      <td>0.10</td>\n",
       "      <td>13902.0</td>\n",
       "      <td>Denmark</td>\n",
       "    </tr>\n",
       "  </tbody>\n",
       "</table>\n",
       "</div>"
      ],
      "text/plain": [
       "        Invoice StockCode                         Description  Quantity  \\\n",
       "1065882  581483     23843         PAPER CRAFT , LITTLE BIRDIE     80995   \n",
       "587080   541431     23166      MEDIUM CERAMIC TOP STORAGE JAR     74215   \n",
       "90857    497946     37410  BLACK AND WHITE PAISLEY FLOWER MUG     19152   \n",
       "127166   501534     21099         SET/6 STRAWBERRY PAPER CUPS     12960   \n",
       "127168   501534     21091         SET/6 WOODLAND PAPER PLATES     12960   \n",
       "\n",
       "                InvoiceDate  Price  Customer ID         Country  \n",
       "1065882 2011-12-09 09:15:00   2.08      16446.0  United Kingdom  \n",
       "587080  2011-01-18 10:01:00   1.04      12346.0  United Kingdom  \n",
       "90857   2010-02-15 11:57:00   0.10      13902.0         Denmark  \n",
       "127166  2010-03-17 13:09:00   0.10      13902.0         Denmark  \n",
       "127168  2010-03-17 13:09:00   0.10      13902.0         Denmark  "
      ]
     },
     "execution_count": 38,
     "metadata": {},
     "output_type": "execute_result"
    }
   ],
   "source": [
    "#sort descending\n",
    "print((df_fixed.Quantity<0).sum())\n",
    "df_fixed.sort_values('Quantity',ascending=False)[:5]"
   ]
  },
  {
   "cell_type": "code",
   "execution_count": 37,
   "id": "reserved-zoning",
   "metadata": {},
   "outputs": [
    {
     "data": {
      "text/html": [
       "<div>\n",
       "<style scoped>\n",
       "    .dataframe tbody tr th:only-of-type {\n",
       "        vertical-align: middle;\n",
       "    }\n",
       "\n",
       "    .dataframe tbody tr th {\n",
       "        vertical-align: top;\n",
       "    }\n",
       "\n",
       "    .dataframe thead th {\n",
       "        text-align: right;\n",
       "    }\n",
       "</style>\n",
       "<table border=\"1\" class=\"dataframe\">\n",
       "  <thead>\n",
       "    <tr style=\"text-align: right;\">\n",
       "      <th></th>\n",
       "      <th>Invoice</th>\n",
       "      <th>StockCode</th>\n",
       "      <th>Description</th>\n",
       "      <th>Quantity</th>\n",
       "      <th>InvoiceDate</th>\n",
       "      <th>Price</th>\n",
       "      <th>Customer ID</th>\n",
       "      <th>Country</th>\n",
       "    </tr>\n",
       "  </thead>\n",
       "  <tbody>\n",
       "    <tr>\n",
       "      <th>1065883</th>\n",
       "      <td>C581484</td>\n",
       "      <td>23843</td>\n",
       "      <td>PAPER CRAFT , LITTLE BIRDIE</td>\n",
       "      <td>-80995</td>\n",
       "      <td>2011-12-09 09:27:00</td>\n",
       "      <td>2.08</td>\n",
       "      <td>16446.0</td>\n",
       "      <td>United Kingdom</td>\n",
       "    </tr>\n",
       "    <tr>\n",
       "      <th>587085</th>\n",
       "      <td>C541433</td>\n",
       "      <td>23166</td>\n",
       "      <td>MEDIUM CERAMIC TOP STORAGE JAR</td>\n",
       "      <td>-74215</td>\n",
       "      <td>2011-01-18 10:17:00</td>\n",
       "      <td>1.04</td>\n",
       "      <td>12346.0</td>\n",
       "      <td>United Kingdom</td>\n",
       "    </tr>\n",
       "    <tr>\n",
       "      <th>529729</th>\n",
       "      <td>C536757</td>\n",
       "      <td>84347</td>\n",
       "      <td>ROTATING SILVER ANGELS T-LIGHT HLDR</td>\n",
       "      <td>-9360</td>\n",
       "      <td>2010-12-02 14:23:00</td>\n",
       "      <td>0.03</td>\n",
       "      <td>15838.0</td>\n",
       "      <td>United Kingdom</td>\n",
       "    </tr>\n",
       "    <tr>\n",
       "      <th>507225</th>\n",
       "      <td>C536757</td>\n",
       "      <td>84347</td>\n",
       "      <td>ROTATING SILVER ANGELS T-LIGHT HLDR</td>\n",
       "      <td>-9360</td>\n",
       "      <td>2010-12-02 14:23:00</td>\n",
       "      <td>0.03</td>\n",
       "      <td>15838.0</td>\n",
       "      <td>United Kingdom</td>\n",
       "    </tr>\n",
       "    <tr>\n",
       "      <th>359669</th>\n",
       "      <td>C524235</td>\n",
       "      <td>21088</td>\n",
       "      <td>SET/6 FRUIT SALAD PAPER CUPS</td>\n",
       "      <td>-7128</td>\n",
       "      <td>2010-09-28 11:02:00</td>\n",
       "      <td>0.08</td>\n",
       "      <td>14277.0</td>\n",
       "      <td>France</td>\n",
       "    </tr>\n",
       "    <tr>\n",
       "      <th>359670</th>\n",
       "      <td>C524235</td>\n",
       "      <td>21096</td>\n",
       "      <td>SET/6 FRUIT SALAD  PAPER PLATES</td>\n",
       "      <td>-7008</td>\n",
       "      <td>2010-09-28 11:02:00</td>\n",
       "      <td>0.13</td>\n",
       "      <td>14277.0</td>\n",
       "      <td>France</td>\n",
       "    </tr>\n",
       "    <tr>\n",
       "      <th>359630</th>\n",
       "      <td>C524235</td>\n",
       "      <td>16047</td>\n",
       "      <td>POP ART PEN CASE &amp; PENS</td>\n",
       "      <td>-5184</td>\n",
       "      <td>2010-09-28 11:02:00</td>\n",
       "      <td>0.08</td>\n",
       "      <td>14277.0</td>\n",
       "      <td>France</td>\n",
       "    </tr>\n",
       "    <tr>\n",
       "      <th>359636</th>\n",
       "      <td>C524235</td>\n",
       "      <td>37340</td>\n",
       "      <td>MULTICOLOUR SPRING FLOWER MUG</td>\n",
       "      <td>-4992</td>\n",
       "      <td>2010-09-28 11:02:00</td>\n",
       "      <td>0.10</td>\n",
       "      <td>14277.0</td>\n",
       "      <td>France</td>\n",
       "    </tr>\n",
       "    <tr>\n",
       "      <th>359653</th>\n",
       "      <td>C524235</td>\n",
       "      <td>85110</td>\n",
       "      <td>BLACK SILVER FLOWER T-LIGHT HOLDER</td>\n",
       "      <td>-4752</td>\n",
       "      <td>2010-09-28 11:02:00</td>\n",
       "      <td>0.07</td>\n",
       "      <td>14277.0</td>\n",
       "      <td>France</td>\n",
       "    </tr>\n",
       "    <tr>\n",
       "      <th>359658</th>\n",
       "      <td>C524235</td>\n",
       "      <td>16046</td>\n",
       "      <td>TEATIME PEN CASE &amp; PENS</td>\n",
       "      <td>-4608</td>\n",
       "      <td>2010-09-28 11:02:00</td>\n",
       "      <td>0.08</td>\n",
       "      <td>14277.0</td>\n",
       "      <td>France</td>\n",
       "    </tr>\n",
       "  </tbody>\n",
       "</table>\n",
       "</div>"
      ],
      "text/plain": [
       "         Invoice StockCode                          Description  Quantity  \\\n",
       "1065883  C581484     23843          PAPER CRAFT , LITTLE BIRDIE    -80995   \n",
       "587085   C541433     23166       MEDIUM CERAMIC TOP STORAGE JAR    -74215   \n",
       "529729   C536757     84347  ROTATING SILVER ANGELS T-LIGHT HLDR     -9360   \n",
       "507225   C536757     84347  ROTATING SILVER ANGELS T-LIGHT HLDR     -9360   \n",
       "359669   C524235     21088         SET/6 FRUIT SALAD PAPER CUPS     -7128   \n",
       "359670   C524235     21096      SET/6 FRUIT SALAD  PAPER PLATES     -7008   \n",
       "359630   C524235     16047              POP ART PEN CASE & PENS     -5184   \n",
       "359636   C524235     37340        MULTICOLOUR SPRING FLOWER MUG     -4992   \n",
       "359653   C524235     85110   BLACK SILVER FLOWER T-LIGHT HOLDER     -4752   \n",
       "359658   C524235     16046              TEATIME PEN CASE & PENS     -4608   \n",
       "\n",
       "                InvoiceDate  Price  Customer ID         Country  \n",
       "1065883 2011-12-09 09:27:00   2.08      16446.0  United Kingdom  \n",
       "587085  2011-01-18 10:17:00   1.04      12346.0  United Kingdom  \n",
       "529729  2010-12-02 14:23:00   0.03      15838.0  United Kingdom  \n",
       "507225  2010-12-02 14:23:00   0.03      15838.0  United Kingdom  \n",
       "359669  2010-09-28 11:02:00   0.08      14277.0          France  \n",
       "359670  2010-09-28 11:02:00   0.13      14277.0          France  \n",
       "359630  2010-09-28 11:02:00   0.08      14277.0          France  \n",
       "359636  2010-09-28 11:02:00   0.10      14277.0          France  \n",
       "359653  2010-09-28 11:02:00   0.07      14277.0          France  \n",
       "359658  2010-09-28 11:02:00   0.08      14277.0          France  "
      ]
     },
     "execution_count": 37,
     "metadata": {},
     "output_type": "execute_result"
    }
   ],
   "source": [
    "#sort ascending\n",
    "df_fixed.sort_values('Quantity',ascending=True)[:10]"
   ]
  },
  {
   "cell_type": "code",
   "execution_count": 38,
   "id": "informative-network",
   "metadata": {},
   "outputs": [
    {
     "data": {
      "text/html": [
       "<div>\n",
       "<style scoped>\n",
       "    .dataframe tbody tr th:only-of-type {\n",
       "        vertical-align: middle;\n",
       "    }\n",
       "\n",
       "    .dataframe tbody tr th {\n",
       "        vertical-align: top;\n",
       "    }\n",
       "\n",
       "    .dataframe thead th {\n",
       "        text-align: right;\n",
       "    }\n",
       "</style>\n",
       "<table border=\"1\" class=\"dataframe\">\n",
       "  <thead>\n",
       "    <tr style=\"text-align: right;\">\n",
       "      <th></th>\n",
       "      <th>Invoice</th>\n",
       "      <th>StockCode</th>\n",
       "      <th>Description</th>\n",
       "      <th>Quantity</th>\n",
       "      <th>InvoiceDate</th>\n",
       "      <th>Price</th>\n",
       "      <th>Customer ID</th>\n",
       "      <th>Country</th>\n",
       "    </tr>\n",
       "  </thead>\n",
       "  <tbody>\n",
       "    <tr>\n",
       "      <th>298941</th>\n",
       "      <td>518505</td>\n",
       "      <td>21096</td>\n",
       "      <td>SET/6 FRUIT SALAD  PAPER PLATES</td>\n",
       "      <td>7008</td>\n",
       "      <td>2010-08-09 13:10:00</td>\n",
       "      <td>0.13</td>\n",
       "      <td>14277.0</td>\n",
       "      <td>France</td>\n",
       "    </tr>\n",
       "    <tr>\n",
       "      <th>358763</th>\n",
       "      <td>524174</td>\n",
       "      <td>21096</td>\n",
       "      <td>SET/6 FRUIT SALAD  PAPER PLATES</td>\n",
       "      <td>7008</td>\n",
       "      <td>2010-09-27 16:30:00</td>\n",
       "      <td>0.13</td>\n",
       "      <td>13687.0</td>\n",
       "      <td>United Kingdom</td>\n",
       "    </tr>\n",
       "  </tbody>\n",
       "</table>\n",
       "</div>"
      ],
      "text/plain": [
       "       Invoice StockCode                      Description  Quantity  \\\n",
       "298941  518505     21096  SET/6 FRUIT SALAD  PAPER PLATES      7008   \n",
       "358763  524174     21096  SET/6 FRUIT SALAD  PAPER PLATES      7008   \n",
       "\n",
       "               InvoiceDate  Price  Customer ID         Country  \n",
       "298941 2010-08-09 13:10:00   0.13      14277.0          France  \n",
       "358763 2010-09-27 16:30:00   0.13      13687.0  United Kingdom  "
      ]
     },
     "execution_count": 38,
     "metadata": {},
     "output_type": "execute_result"
    }
   ],
   "source": [
    "df_fixed[df_fixed.Quantity==7008]"
   ]
  },
  {
   "cell_type": "markdown",
   "id": "serious-direction",
   "metadata": {},
   "source": [
    ">If I look at the sixth row there was an order made by the same customer and then canceled, meaning there was a mistake where a large order was made and then canceled. Does this mean that all the negative quantities have equivalent positive orders that cancels them. To find out I will test the theory that they are the same order canceled. Also I notice that the invoice starts with a c. Also the canceled orders have the same customer id and description"
   ]
  },
  {
   "cell_type": "code",
   "execution_count": 39,
   "id": "french-nickel",
   "metadata": {},
   "outputs": [
    {
     "data": {
      "text/plain": [
       "(19494, 8)"
      ]
     },
     "execution_count": 39,
     "metadata": {},
     "output_type": "execute_result"
    }
   ],
   "source": [
    "#dataframe with all invoices that start with a C\n",
    "c_invoice = df_fixed[df_fixed.Invoice.str.startswith('C',na=False)]\n",
    "c_invoice.shape"
   ]
  },
  {
   "cell_type": "code",
   "execution_count": 40,
   "id": "cutting-first",
   "metadata": {},
   "outputs": [
    {
     "data": {
      "text/html": [
       "<div>\n",
       "<style scoped>\n",
       "    .dataframe tbody tr th:only-of-type {\n",
       "        vertical-align: middle;\n",
       "    }\n",
       "\n",
       "    .dataframe tbody tr th {\n",
       "        vertical-align: top;\n",
       "    }\n",
       "\n",
       "    .dataframe thead th {\n",
       "        text-align: right;\n",
       "    }\n",
       "</style>\n",
       "<table border=\"1\" class=\"dataframe\">\n",
       "  <thead>\n",
       "    <tr style=\"text-align: right;\">\n",
       "      <th></th>\n",
       "      <th>Invoice</th>\n",
       "      <th>StockCode</th>\n",
       "      <th>Description</th>\n",
       "      <th>Quantity</th>\n",
       "      <th>InvoiceDate</th>\n",
       "      <th>Price</th>\n",
       "      <th>Customer ID</th>\n",
       "      <th>Country</th>\n",
       "    </tr>\n",
       "  </thead>\n",
       "  <tbody>\n",
       "    <tr>\n",
       "      <th>76799</th>\n",
       "      <td>C496350</td>\n",
       "      <td>M</td>\n",
       "      <td>Manual</td>\n",
       "      <td>1</td>\n",
       "      <td>2010-02-01 08:24:00</td>\n",
       "      <td>373.57</td>\n",
       "      <td>NaN</td>\n",
       "      <td>United Kingdom</td>\n",
       "    </tr>\n",
       "  </tbody>\n",
       "</table>\n",
       "</div>"
      ],
      "text/plain": [
       "       Invoice StockCode Description  Quantity         InvoiceDate   Price  \\\n",
       "76799  C496350         M      Manual         1 2010-02-01 08:24:00  373.57   \n",
       "\n",
       "       Customer ID         Country  \n",
       "76799          NaN  United Kingdom  "
      ]
     },
     "execution_count": 40,
     "metadata": {},
     "output_type": "execute_result"
    }
   ],
   "source": [
    "#check if all invoices that start with c are negative quantity\n",
    "(c_invoice.Quantity<0).sum()\n",
    "c_invoice[c_invoice.Quantity>0]"
   ]
  },
  {
   "cell_type": "markdown",
   "id": "burning-overhead",
   "metadata": {},
   "source": [
    ">This is a weird entry, it is the only entry where invoice start with a C and it is positive quantity. I am going to delete it."
   ]
  },
  {
   "cell_type": "code",
   "execution_count": 41,
   "id": "efficient-lightweight",
   "metadata": {},
   "outputs": [
    {
     "data": {
      "text/html": [
       "<div>\n",
       "<style scoped>\n",
       "    .dataframe tbody tr th:only-of-type {\n",
       "        vertical-align: middle;\n",
       "    }\n",
       "\n",
       "    .dataframe tbody tr th {\n",
       "        vertical-align: top;\n",
       "    }\n",
       "\n",
       "    .dataframe thead th {\n",
       "        text-align: right;\n",
       "    }\n",
       "</style>\n",
       "<table border=\"1\" class=\"dataframe\">\n",
       "  <thead>\n",
       "    <tr style=\"text-align: right;\">\n",
       "      <th></th>\n",
       "      <th>Invoice</th>\n",
       "      <th>StockCode</th>\n",
       "      <th>Description</th>\n",
       "      <th>Quantity</th>\n",
       "      <th>InvoiceDate</th>\n",
       "      <th>Price</th>\n",
       "      <th>Customer ID</th>\n",
       "      <th>Country</th>\n",
       "    </tr>\n",
       "  </thead>\n",
       "  <tbody>\n",
       "  </tbody>\n",
       "</table>\n",
       "</div>"
      ],
      "text/plain": [
       "Empty DataFrame\n",
       "Columns: [Invoice, StockCode, Description, Quantity, InvoiceDate, Price, Customer ID, Country]\n",
       "Index: []"
      ]
     },
     "execution_count": 41,
     "metadata": {},
     "output_type": "execute_result"
    }
   ],
   "source": [
    "df_fixed = df_fixed.drop(76799)\n",
    "df_fixed[df_fixed.Invoice=='C496350']\n"
   ]
  },
  {
   "cell_type": "markdown",
   "id": "sitting-conversation",
   "metadata": {},
   "source": [
    "___"
   ]
  },
  {
   "cell_type": "markdown",
   "id": "pretty-reducing",
   "metadata": {},
   "source": [
    ">Before investigating this any further, I will strip the date from InvoiceDate and make it into a datetime object"
   ]
  },
  {
   "cell_type": "code",
   "execution_count": 42,
   "id": "outdoor-motorcycle",
   "metadata": {},
   "outputs": [
    {
     "name": "stdout",
     "output_type": "stream",
     "text": [
      "<class 'pandas.core.frame.DataFrame'>\n",
      "Int64Index: 1063907 entries, 0 to 1067370\n",
      "Data columns (total 9 columns):\n",
      " #   Column       Non-Null Count    Dtype         \n",
      "---  ------       --------------    -----         \n",
      " 0   Invoice      1063907 non-null  object        \n",
      " 1   StockCode    1063907 non-null  object        \n",
      " 2   Description  1062214 non-null  object        \n",
      " 3   Quantity     1063907 non-null  int64         \n",
      " 4   InvoiceDate  1063907 non-null  datetime64[ns]\n",
      " 5   Price        1063907 non-null  float64       \n",
      " 6   Customer ID  824364 non-null   float64       \n",
      " 7   Country      1063907 non-null  object        \n",
      " 8   Date         1063907 non-null  datetime64[ns]\n",
      "dtypes: datetime64[ns](2), float64(2), int64(1), object(4)\n",
      "memory usage: 81.2+ MB\n"
     ]
    }
   ],
   "source": [
    "df_fixed['Date'] = df_fixed.InvoiceDate.apply(lambda x: x.strftime('%Y/%m/%d'))\n",
    "df_fixed['Date'] = pd.to_datetime(df_fixed['Date'])\n",
    "df_fixed.info()"
   ]
  },
  {
   "cell_type": "markdown",
   "id": "broadband-deadline",
   "metadata": {},
   "source": [
    "___"
   ]
  },
  {
   "cell_type": "markdown",
   "id": "electoral-lease",
   "metadata": {},
   "source": [
    ">check that items with positive quantities do not have an invoice beginning with C.\n"
   ]
  },
  {
   "cell_type": "code",
   "execution_count": 43,
   "id": "universal-pepper",
   "metadata": {},
   "outputs": [
    {
     "data": {
      "text/plain": [
       "0"
      ]
     },
     "execution_count": 43,
     "metadata": {},
     "output_type": "execute_result"
    }
   ],
   "source": [
    "#create dataframe with positive quantities \n",
    "pos_quantity=df_fixed[df_fixed.Quantity>0]\n",
    "#make sure no positve quantity entry has an invoice that starts with c\n",
    "(pos_quantity.Invoice.astype(str).str.startswith('C',na=False)).sum()"
   ]
  },
  {
   "cell_type": "markdown",
   "id": "attractive-probe",
   "metadata": {},
   "source": [
    ">All negative quantity transactions have an invoice that starts with C which I am guessing means credit. Next I will check if the negative transactions have a positive transaction that is opposite and which cancels them. I will do this by merging the pos_quantity and neg_quantity dataframes using inner merge, so it will only keep rows in common between the two.\n"
   ]
  },
  {
   "cell_type": "code",
   "execution_count": 46,
   "id": "statistical-tunisia",
   "metadata": {},
   "outputs": [
    {
     "name": "stdout",
     "output_type": "stream",
     "text": [
      "<class 'pandas.core.frame.DataFrame'>\n",
      "Int64Index: 19493 entries, 178 to 1067178\n",
      "Data columns (total 9 columns):\n",
      " #   Column       Non-Null Count  Dtype         \n",
      "---  ------       --------------  -----         \n",
      " 0   Invoice      19493 non-null  object        \n",
      " 1   StockCode    19493 non-null  object        \n",
      " 2   Description  19493 non-null  object        \n",
      " 3   Quantity     19493 non-null  int64         \n",
      " 4   InvoiceDate  19493 non-null  datetime64[ns]\n",
      " 5   Price        19493 non-null  float64       \n",
      " 6   Customer ID  18744 non-null  float64       \n",
      " 7   Country      19493 non-null  object        \n",
      " 8   Date         19493 non-null  datetime64[ns]\n",
      "dtypes: datetime64[ns](2), float64(2), int64(1), object(4)\n",
      "memory usage: 1.5+ MB\n"
     ]
    }
   ],
   "source": [
    "#crate a dataframe with negative quantity\n",
    "neg_quantity = df_fixed[df_fixed.Quantity<0]\n",
    "neg_quantity.info()"
   ]
  },
  {
   "cell_type": "code",
   "execution_count": 47,
   "id": "intimate-infrastructure",
   "metadata": {},
   "outputs": [
    {
     "data": {
      "text/html": [
       "<div>\n",
       "<style scoped>\n",
       "    .dataframe tbody tr th:only-of-type {\n",
       "        vertical-align: middle;\n",
       "    }\n",
       "\n",
       "    .dataframe tbody tr th {\n",
       "        vertical-align: top;\n",
       "    }\n",
       "\n",
       "    .dataframe thead th {\n",
       "        text-align: right;\n",
       "    }\n",
       "</style>\n",
       "<table border=\"1\" class=\"dataframe\">\n",
       "  <thead>\n",
       "    <tr style=\"text-align: right;\">\n",
       "      <th></th>\n",
       "      <th>Invoice</th>\n",
       "      <th>StockCode</th>\n",
       "      <th>Description</th>\n",
       "      <th>Quantity</th>\n",
       "      <th>InvoiceDate</th>\n",
       "      <th>Price</th>\n",
       "      <th>Customer ID</th>\n",
       "      <th>Country</th>\n",
       "      <th>Date</th>\n",
       "    </tr>\n",
       "  </thead>\n",
       "  <tbody>\n",
       "    <tr>\n",
       "      <th>43706</th>\n",
       "      <td>493188</td>\n",
       "      <td>72800D</td>\n",
       "      <td>S/4 BLUE DINNER CANDLE SILVER FLOCK</td>\n",
       "      <td>1</td>\n",
       "      <td>2009-12-22 12:38:00</td>\n",
       "      <td>2.55</td>\n",
       "      <td>15581.0</td>\n",
       "      <td>United Kingdom</td>\n",
       "      <td>2009-12-22</td>\n",
       "    </tr>\n",
       "    <tr>\n",
       "      <th>43710</th>\n",
       "      <td>493188</td>\n",
       "      <td>72800D</td>\n",
       "      <td>S/4 BLUE DINNER CANDLE SILVER FLOCK</td>\n",
       "      <td>1</td>\n",
       "      <td>2009-12-22 12:38:00</td>\n",
       "      <td>2.55</td>\n",
       "      <td>15581.0</td>\n",
       "      <td>United Kingdom</td>\n",
       "      <td>2009-12-22</td>\n",
       "    </tr>\n",
       "  </tbody>\n",
       "</table>\n",
       "</div>"
      ],
      "text/plain": [
       "      Invoice StockCode                          Description  Quantity  \\\n",
       "43706  493188    72800D  S/4 BLUE DINNER CANDLE SILVER FLOCK         1   \n",
       "43710  493188    72800D  S/4 BLUE DINNER CANDLE SILVER FLOCK         1   \n",
       "\n",
       "              InvoiceDate  Price  Customer ID         Country       Date  \n",
       "43706 2009-12-22 12:38:00   2.55      15581.0  United Kingdom 2009-12-22  \n",
       "43710 2009-12-22 12:38:00   2.55      15581.0  United Kingdom 2009-12-22  "
      ]
     },
     "execution_count": 47,
     "metadata": {},
     "output_type": "execute_result"
    }
   ],
   "source": [
    "#testing\n",
    "pos_quantity[(pos_quantity.StockCode == '72800D') & (pos_quantity.Quantity == 1)& (pos_quantity['Customer ID']== 15581.0) & (pos_quantity.Country == 'United Kingdom')]\n",
    "\n",
    "\n"
   ]
  },
  {
   "cell_type": "markdown",
   "id": "going-genome",
   "metadata": {},
   "source": [
    ">There are duplicates in the dataframe where some ordered more than once then canceled, so I need to cancel the orders that were canceled."
   ]
  },
  {
   "cell_type": "code",
   "execution_count": 48,
   "id": "medieval-pilot",
   "metadata": {},
   "outputs": [],
   "source": [
    "\"\"\"\n",
    "Function that takes \n",
    "        the negative quantity and positive quantity dataframes and the columns to check on, \n",
    "        iterate through dataframe rows and match on stockcode, quantity, customer id and country\n",
    "        drop the row from df of negative quantity\n",
    "returns \n",
    "    the indices of first matching row. It also deletes the matched row from the neg_quantity df\"\"\"\n",
    "def find_duplicate_rows(neg_df,pos_df,stockcode,quantity,customerid,country):\n",
    "    matches = []\n",
    "    for indx,row in neg_df.iterrows():\n",
    "        df_stockcode = pos_df[pos_df[stockcode]==row[stockcode]]\n",
    "        df_stockcode = df_stockcode[df_stockcode[quantity].abs()==abs(row[quantity])]\n",
    "        df_stockcode = df_stockcode[(df_stockcode[customerid] == row[customerid]) & (df_stockcode[country] == row[country])]\n",
    "        if df_stockcode.empty==False:\n",
    "            neg_df = neg_df.drop(indx)\n",
    "            matches.append(df_stockcode[0:1].index.tolist())\n",
    "    ind = [x for l in matches for x in l]#since matches returns a list of lists, iterate through to get a list of indices\n",
    "    return ind,neg_df\n"
   ]
  },
  {
   "cell_type": "code",
   "execution_count": 50,
   "id": "union-candy",
   "metadata": {},
   "outputs": [
    {
     "data": {
      "text/plain": [
       "(7573, (11920, 9), (19493, 9))"
      ]
     },
     "execution_count": 50,
     "metadata": {},
     "output_type": "execute_result"
    }
   ],
   "source": [
    "#call find_duplicate_rows function\n",
    "ind,neg_df = find_duplicate_rows(neg_quantity,pos_quantity,'StockCode','Quantity','Customer ID','Country')\n"
   ]
  },
  {
   "cell_type": "code",
   "execution_count": 52,
   "id": "opposite-picnic",
   "metadata": {},
   "outputs": [
    {
     "name": "stdout",
     "output_type": "stream",
     "text": [
      "7573 (11920, 9) (19493, 9)\n"
     ]
    },
    {
     "data": {
      "text/plain": [
       "(1044414, 9)"
      ]
     },
     "execution_count": 52,
     "metadata": {},
     "output_type": "execute_result"
    }
   ],
   "source": [
    "print(len(ind),neg_df.shape, neg_quantity.shape)\n",
    "pos_quantity.shape"
   ]
  },
  {
   "cell_type": "code",
   "execution_count": 53,
   "id": "higher-dominant",
   "metadata": {},
   "outputs": [
    {
     "data": {
      "text/plain": [
       "(1037629, 9)"
      ]
     },
     "execution_count": 53,
     "metadata": {},
     "output_type": "execute_result"
    }
   ],
   "source": [
    "#drop all the indices that are returned\n",
    "pos_quantity = pos_quantity.drop(ind)\n",
    "pos_quantity.shape"
   ]
  },
  {
   "cell_type": "markdown",
   "id": "fatty-great",
   "metadata": {},
   "source": [
    ">I still have negative quantities which do not hava a match in the dataframe. These entries are weird and do not count as sales so I will drop them"
   ]
  },
  {
   "cell_type": "code",
   "execution_count": 168,
   "id": "enormous-subscriber",
   "metadata": {},
   "outputs": [
    {
     "data": {
      "text/html": [
       "<div>\n",
       "<style scoped>\n",
       "    .dataframe tbody tr th:only-of-type {\n",
       "        vertical-align: middle;\n",
       "    }\n",
       "\n",
       "    .dataframe tbody tr th {\n",
       "        vertical-align: top;\n",
       "    }\n",
       "\n",
       "    .dataframe thead th {\n",
       "        text-align: right;\n",
       "    }\n",
       "</style>\n",
       "<table border=\"1\" class=\"dataframe\">\n",
       "  <thead>\n",
       "    <tr style=\"text-align: right;\">\n",
       "      <th></th>\n",
       "      <th>Quantity</th>\n",
       "      <th>Price</th>\n",
       "      <th>Customer ID</th>\n",
       "    </tr>\n",
       "  </thead>\n",
       "  <tbody>\n",
       "    <tr>\n",
       "      <th>count</th>\n",
       "      <td>1.037629e+06</td>\n",
       "      <td>1.037629e+06</td>\n",
       "      <td>798835.000000</td>\n",
       "    </tr>\n",
       "    <tr>\n",
       "      <th>mean</th>\n",
       "      <td>1.086278e+01</td>\n",
       "      <td>3.974669e+00</td>\n",
       "      <td>15333.940694</td>\n",
       "    </tr>\n",
       "    <tr>\n",
       "      <th>std</th>\n",
       "      <td>6.918814e+01</td>\n",
       "      <td>4.581618e+01</td>\n",
       "      <td>1696.622486</td>\n",
       "    </tr>\n",
       "    <tr>\n",
       "      <th>min</th>\n",
       "      <td>1.000000e+00</td>\n",
       "      <td>0.000000e+00</td>\n",
       "      <td>12346.000000</td>\n",
       "    </tr>\n",
       "    <tr>\n",
       "      <th>25%</th>\n",
       "      <td>1.000000e+00</td>\n",
       "      <td>1.250000e+00</td>\n",
       "      <td>13983.000000</td>\n",
       "    </tr>\n",
       "    <tr>\n",
       "      <th>50%</th>\n",
       "      <td>3.000000e+00</td>\n",
       "      <td>2.100000e+00</td>\n",
       "      <td>15271.000000</td>\n",
       "    </tr>\n",
       "    <tr>\n",
       "      <th>75%</th>\n",
       "      <td>1.000000e+01</td>\n",
       "      <td>4.130000e+00</td>\n",
       "      <td>16807.000000</td>\n",
       "    </tr>\n",
       "    <tr>\n",
       "      <th>max</th>\n",
       "      <td>1.915200e+04</td>\n",
       "      <td>2.511109e+04</td>\n",
       "      <td>18287.000000</td>\n",
       "    </tr>\n",
       "  </tbody>\n",
       "</table>\n",
       "</div>"
      ],
      "text/plain": [
       "           Quantity         Price    Customer ID\n",
       "count  1.037629e+06  1.037629e+06  798835.000000\n",
       "mean   1.086278e+01  3.974669e+00   15333.940694\n",
       "std    6.918814e+01  4.581618e+01    1696.622486\n",
       "min    1.000000e+00  0.000000e+00   12346.000000\n",
       "25%    1.000000e+00  1.250000e+00   13983.000000\n",
       "50%    3.000000e+00  2.100000e+00   15271.000000\n",
       "75%    1.000000e+01  4.130000e+00   16807.000000\n",
       "max    1.915200e+04  2.511109e+04   18287.000000"
      ]
     },
     "execution_count": 168,
     "metadata": {},
     "output_type": "execute_result"
    }
   ],
   "source": [
    "#data frame with no negative quantities\n",
    "df_new = pos_quantity.copy()\n",
    "df_new.describe()"
   ]
  },
  {
   "cell_type": "code",
   "execution_count": 169,
   "id": "welsh-photograph",
   "metadata": {},
   "outputs": [
    {
     "data": {
      "image/png": "[encoded data removed]",
      "text/plain": [
       "<Figure size 576x396 with 1 Axes>"
      ]
     },
     "metadata": {},
     "output_type": "display_data"
    }
   ],
   "source": [
    "#boxplot of quantity\n",
    "#sns.boxplot(df_new.Quantity)\n",
    "df_new[['Quantity','Price']].boxplot()\n",
    "plt.title('Quantity and Price Distribution');"
   ]
  },
  {
   "cell_type": "markdown",
   "id": "increasing-holiday",
   "metadata": {},
   "source": [
    ">Looks like the quantity and price have many outliers. I cannot remove them now because I am going to be clustering after. "
   ]
  },
  {
   "cell_type": "markdown",
   "id": "collect-deadline",
   "metadata": {},
   "source": [
    "<a id='description'></a>\n",
    "### Description"
   ]
  },
  {
   "cell_type": "code",
   "execution_count": 170,
   "id": "played-alpha",
   "metadata": {},
   "outputs": [
    {
     "data": {
      "text/plain": [
       "(1693, 9)"
      ]
     },
     "execution_count": 170,
     "metadata": {},
     "output_type": "execute_result"
    }
   ],
   "source": [
    "#Are there any missing descriptions\n",
    "df_new[df_new.Description.isna()].shape"
   ]
  },
  {
   "cell_type": "markdown",
   "id": "earlier-familiar",
   "metadata": {},
   "source": [
    "___\n",
    ">Look at capitalization of description"
   ]
  },
  {
   "cell_type": "code",
   "execution_count": 171,
   "id": "offshore-irrigation",
   "metadata": {},
   "outputs": [
    {
     "name": "stdout",
     "output_type": "stream",
     "text": [
      "<class 'pandas.core.frame.DataFrame'>\n",
      "Int64Index: 1037629 entries, 0 to 1067370\n",
      "Data columns (total 9 columns):\n",
      " #   Column       Non-Null Count    Dtype         \n",
      "---  ------       --------------    -----         \n",
      " 0   Invoice      1037629 non-null  object        \n",
      " 1   StockCode    1037629 non-null  object        \n",
      " 2   Description  1035936 non-null  object        \n",
      " 3   Quantity     1037629 non-null  int64         \n",
      " 4   InvoiceDate  1037629 non-null  datetime64[ns]\n",
      " 5   Price        1037629 non-null  float64       \n",
      " 6   Customer ID  798835 non-null   float64       \n",
      " 7   Country      1037629 non-null  object        \n",
      " 8   Date         1037629 non-null  datetime64[ns]\n",
      "dtypes: datetime64[ns](2), float64(2), int64(1), object(4)\n",
      "memory usage: 111.4+ MB\n"
     ]
    }
   ],
   "source": [
    "df_new.info()"
   ]
  },
  {
   "cell_type": "code",
   "execution_count": 172,
   "id": "twelve-flesh",
   "metadata": {},
   "outputs": [
    {
     "name": "stdout",
     "output_type": "stream",
     "text": [
      "(1031601, 9)\n"
     ]
    },
    {
     "data": {
      "text/html": [
       "<div>\n",
       "<style scoped>\n",
       "    .dataframe tbody tr th:only-of-type {\n",
       "        vertical-align: middle;\n",
       "    }\n",
       "\n",
       "    .dataframe tbody tr th {\n",
       "        vertical-align: top;\n",
       "    }\n",
       "\n",
       "    .dataframe thead th {\n",
       "        text-align: right;\n",
       "    }\n",
       "</style>\n",
       "<table border=\"1\" class=\"dataframe\">\n",
       "  <thead>\n",
       "    <tr style=\"text-align: right;\">\n",
       "      <th></th>\n",
       "      <th>Invoice</th>\n",
       "      <th>StockCode</th>\n",
       "      <th>Description</th>\n",
       "      <th>Quantity</th>\n",
       "      <th>InvoiceDate</th>\n",
       "      <th>Price</th>\n",
       "      <th>Customer ID</th>\n",
       "      <th>Country</th>\n",
       "      <th>Date</th>\n",
       "    </tr>\n",
       "  </thead>\n",
       "  <tbody>\n",
       "    <tr>\n",
       "      <th>1067366</th>\n",
       "      <td>581587</td>\n",
       "      <td>22899</td>\n",
       "      <td>CHILDREN'S APRON DOLLY GIRL</td>\n",
       "      <td>6</td>\n",
       "      <td>2011-12-09 12:50:00</td>\n",
       "      <td>2.10</td>\n",
       "      <td>12680.0</td>\n",
       "      <td>France</td>\n",
       "      <td>2011-12-09</td>\n",
       "    </tr>\n",
       "    <tr>\n",
       "      <th>1067367</th>\n",
       "      <td>581587</td>\n",
       "      <td>23254</td>\n",
       "      <td>CHILDRENS CUTLERY DOLLY GIRL</td>\n",
       "      <td>4</td>\n",
       "      <td>2011-12-09 12:50:00</td>\n",
       "      <td>4.15</td>\n",
       "      <td>12680.0</td>\n",
       "      <td>France</td>\n",
       "      <td>2011-12-09</td>\n",
       "    </tr>\n",
       "    <tr>\n",
       "      <th>1067368</th>\n",
       "      <td>581587</td>\n",
       "      <td>23255</td>\n",
       "      <td>CHILDRENS CUTLERY CIRCUS PARADE</td>\n",
       "      <td>4</td>\n",
       "      <td>2011-12-09 12:50:00</td>\n",
       "      <td>4.15</td>\n",
       "      <td>12680.0</td>\n",
       "      <td>France</td>\n",
       "      <td>2011-12-09</td>\n",
       "    </tr>\n",
       "    <tr>\n",
       "      <th>1067369</th>\n",
       "      <td>581587</td>\n",
       "      <td>22138</td>\n",
       "      <td>BAKING SET 9 PIECE RETROSPOT</td>\n",
       "      <td>3</td>\n",
       "      <td>2011-12-09 12:50:00</td>\n",
       "      <td>4.95</td>\n",
       "      <td>12680.0</td>\n",
       "      <td>France</td>\n",
       "      <td>2011-12-09</td>\n",
       "    </tr>\n",
       "    <tr>\n",
       "      <th>1067370</th>\n",
       "      <td>581587</td>\n",
       "      <td>POST</td>\n",
       "      <td>POSTAGE</td>\n",
       "      <td>1</td>\n",
       "      <td>2011-12-09 12:50:00</td>\n",
       "      <td>18.00</td>\n",
       "      <td>12680.0</td>\n",
       "      <td>France</td>\n",
       "      <td>2011-12-09</td>\n",
       "    </tr>\n",
       "  </tbody>\n",
       "</table>\n",
       "</div>"
      ],
      "text/plain": [
       "        Invoice StockCode                      Description  Quantity  \\\n",
       "1067366  581587     22899      CHILDREN'S APRON DOLLY GIRL         6   \n",
       "1067367  581587     23254     CHILDRENS CUTLERY DOLLY GIRL         4   \n",
       "1067368  581587     23255  CHILDRENS CUTLERY CIRCUS PARADE         4   \n",
       "1067369  581587     22138     BAKING SET 9 PIECE RETROSPOT         3   \n",
       "1067370  581587      POST                          POSTAGE         1   \n",
       "\n",
       "                InvoiceDate  Price  Customer ID Country       Date  \n",
       "1067366 2011-12-09 12:50:00   2.10      12680.0  France 2011-12-09  \n",
       "1067367 2011-12-09 12:50:00   4.15      12680.0  France 2011-12-09  \n",
       "1067368 2011-12-09 12:50:00   4.15      12680.0  France 2011-12-09  \n",
       "1067369 2011-12-09 12:50:00   4.95      12680.0  France 2011-12-09  \n",
       "1067370 2011-12-09 12:50:00  18.00      12680.0  France 2011-12-09  "
      ]
     },
     "execution_count": 172,
     "metadata": {},
     "output_type": "execute_result"
    }
   ],
   "source": [
    "#strip white spaces from discount and stockcode. I used astype to avoid getting nans in case there are entries that are int\n",
    "df_new['Description'] = df_new['Description'].astype(str).str.strip()\n",
    "df_new['StockCode'] = df_new['StockCode'].astype(str).str.strip()\n",
    "\n",
    "print(df_new[df_fixed.Description.str.isupper()==True].shape)\n",
    "df_new[df_new.Description.str.isupper()==True].tail()\n"
   ]
  },
  {
   "cell_type": "markdown",
   "id": "silent-healing",
   "metadata": {},
   "source": [
    ">Upper case description seems to be product description. What about lower case description"
   ]
  },
  {
   "cell_type": "code",
   "execution_count": 77,
   "id": "russian-amateur",
   "metadata": {},
   "outputs": [
    {
     "data": {
      "text/plain": [
       "array(['85048', '79323P', '79323W', '22041', '21232', '22064', '21871',\n",
       "       '21523', '22350', '22349', '22195', '22353', '48173C', '21755',\n",
       "       '21754', '84879', '22119', '22142', '22296', '22295', '22109',\n",
       "       '22107', '22194', '35004B', '82582', '21181', '21756', '21333',\n",
       "       '84596F', '84596L', '22111', '22143', '22145', '22130', '21364',\n",
       "       '21360', '21351', '21352', '35400', '20695', '37370', '10002',\n",
       "       '84507B', '20703', '21987', '21989', '84970S', '20971', '22271',\n",
       "       '22272', '22274', '21912', '22112', '21329', '21252', '21100',\n",
       "       '21033', '20711', '21410', '21411', '84031A', '84031B', '84032A',\n",
       "       '84032B', '84519A', '84519B', '85132A', '85132C', '85183A',\n",
       "       '85183B', '22065', '22138', '22139', '22352', '85014A', '85014B',\n",
       "       '16161P', '16169N', '21491', '22333', '85216', '21493', '21731',\n",
       "       '85232B', '84691', '20749', 'POST', '22321', '84029E', '21955',\n",
       "       '84899E', '85123A', '21582', '21586', '21590', '22091', '84251J',\n",
       "       '22024', '22026', '22029'], dtype=object)"
      ]
     },
     "execution_count": 77,
     "metadata": {},
     "output_type": "execute_result"
    }
   ],
   "source": [
    "#first 100 unique stockcodes\n",
    "df_new.StockCode.unique()[:100]"
   ]
  },
  {
   "cell_type": "code",
   "execution_count": 173,
   "id": "sporting-oklahoma",
   "metadata": {},
   "outputs": [
    {
     "name": "stdout",
     "output_type": "stream",
     "text": [
      "(6028, 9)\n"
     ]
    },
    {
     "data": {
      "text/html": [
       "<div>\n",
       "<style scoped>\n",
       "    .dataframe tbody tr th:only-of-type {\n",
       "        vertical-align: middle;\n",
       "    }\n",
       "\n",
       "    .dataframe tbody tr th {\n",
       "        vertical-align: top;\n",
       "    }\n",
       "\n",
       "    .dataframe thead th {\n",
       "        text-align: right;\n",
       "    }\n",
       "</style>\n",
       "<table border=\"1\" class=\"dataframe\">\n",
       "  <thead>\n",
       "    <tr style=\"text-align: right;\">\n",
       "      <th></th>\n",
       "      <th>Invoice</th>\n",
       "      <th>StockCode</th>\n",
       "      <th>Description</th>\n",
       "      <th>Quantity</th>\n",
       "      <th>InvoiceDate</th>\n",
       "      <th>Price</th>\n",
       "      <th>Customer ID</th>\n",
       "      <th>Country</th>\n",
       "      <th>Date</th>\n",
       "    </tr>\n",
       "  </thead>\n",
       "  <tbody>\n",
       "    <tr>\n",
       "      <th>361</th>\n",
       "      <td>489517</td>\n",
       "      <td>21705</td>\n",
       "      <td>BAG 500g SWIRLY MARBLES</td>\n",
       "      <td>1</td>\n",
       "      <td>2009-12-01 11:34:00</td>\n",
       "      <td>1.65</td>\n",
       "      <td>16329.0</td>\n",
       "      <td>United Kingdom</td>\n",
       "      <td>2009-12-01</td>\n",
       "    </tr>\n",
       "    <tr>\n",
       "      <th>618</th>\n",
       "      <td>489526</td>\n",
       "      <td>46000S</td>\n",
       "      <td>POLYESTER FILLER PAD 40x40cm</td>\n",
       "      <td>2</td>\n",
       "      <td>2009-12-01 11:50:00</td>\n",
       "      <td>1.45</td>\n",
       "      <td>12533.0</td>\n",
       "      <td>Germany</td>\n",
       "      <td>2009-12-01</td>\n",
       "    </tr>\n",
       "    <tr>\n",
       "      <th>619</th>\n",
       "      <td>489526</td>\n",
       "      <td>20964</td>\n",
       "      <td>POLYESTER FILLER PAD 60x40cm</td>\n",
       "      <td>3</td>\n",
       "      <td>2009-12-01 11:50:00</td>\n",
       "      <td>2.55</td>\n",
       "      <td>12533.0</td>\n",
       "      <td>Germany</td>\n",
       "      <td>2009-12-01</td>\n",
       "    </tr>\n",
       "    <tr>\n",
       "      <th>1898</th>\n",
       "      <td>489597</td>\n",
       "      <td>20739</td>\n",
       "      <td>*USB Office Glitter Lamp</td>\n",
       "      <td>1</td>\n",
       "      <td>2009-12-01 14:28:00</td>\n",
       "      <td>8.65</td>\n",
       "      <td>NaN</td>\n",
       "      <td>United Kingdom</td>\n",
       "      <td>2009-12-01</td>\n",
       "    </tr>\n",
       "    <tr>\n",
       "      <th>2052</th>\n",
       "      <td>489597</td>\n",
       "      <td>21704</td>\n",
       "      <td>BAG 250g SWIRLY MARBLES</td>\n",
       "      <td>1</td>\n",
       "      <td>2009-12-01 14:28:00</td>\n",
       "      <td>1.70</td>\n",
       "      <td>NaN</td>\n",
       "      <td>United Kingdom</td>\n",
       "      <td>2009-12-01</td>\n",
       "    </tr>\n",
       "    <tr>\n",
       "      <th>2664</th>\n",
       "      <td>489607</td>\n",
       "      <td>21596</td>\n",
       "      <td>Hypochondriac Pill Stress Ball</td>\n",
       "      <td>1</td>\n",
       "      <td>2009-12-01 14:49:00</td>\n",
       "      <td>4.30</td>\n",
       "      <td>NaN</td>\n",
       "      <td>United Kingdom</td>\n",
       "      <td>2009-12-01</td>\n",
       "    </tr>\n",
       "    <tr>\n",
       "      <th>2697</th>\n",
       "      <td>489609</td>\n",
       "      <td>M</td>\n",
       "      <td>Manual</td>\n",
       "      <td>1</td>\n",
       "      <td>2009-12-01 14:50:00</td>\n",
       "      <td>4.00</td>\n",
       "      <td>NaN</td>\n",
       "      <td>United Kingdom</td>\n",
       "      <td>2009-12-01</td>\n",
       "    </tr>\n",
       "    <tr>\n",
       "      <th>2710</th>\n",
       "      <td>489609</td>\n",
       "      <td>21596</td>\n",
       "      <td>Hypochondriac Pill Stress Ball</td>\n",
       "      <td>1</td>\n",
       "      <td>2009-12-01 14:50:00</td>\n",
       "      <td>4.30</td>\n",
       "      <td>NaN</td>\n",
       "      <td>United Kingdom</td>\n",
       "      <td>2009-12-01</td>\n",
       "    </tr>\n",
       "    <tr>\n",
       "      <th>2844</th>\n",
       "      <td>489617</td>\n",
       "      <td>46000P</td>\n",
       "      <td>POLYESTER FILLER PAD 65CMx65CM</td>\n",
       "      <td>2</td>\n",
       "      <td>2009-12-01 14:59:00</td>\n",
       "      <td>4.25</td>\n",
       "      <td>13442.0</td>\n",
       "      <td>United Kingdom</td>\n",
       "      <td>2009-12-01</td>\n",
       "    </tr>\n",
       "    <tr>\n",
       "      <th>2845</th>\n",
       "      <td>489617</td>\n",
       "      <td>46000M</td>\n",
       "      <td>POLYESTER FILLER PAD 45x45cm</td>\n",
       "      <td>4</td>\n",
       "      <td>2009-12-01 14:59:00</td>\n",
       "      <td>1.55</td>\n",
       "      <td>13442.0</td>\n",
       "      <td>United Kingdom</td>\n",
       "      <td>2009-12-01</td>\n",
       "    </tr>\n",
       "  </tbody>\n",
       "</table>\n",
       "</div>"
      ],
      "text/plain": [
       "     Invoice StockCode                     Description  Quantity  \\\n",
       "361   489517     21705         BAG 500g SWIRLY MARBLES         1   \n",
       "618   489526    46000S    POLYESTER FILLER PAD 40x40cm         2   \n",
       "619   489526     20964    POLYESTER FILLER PAD 60x40cm         3   \n",
       "1898  489597     20739        *USB Office Glitter Lamp         1   \n",
       "2052  489597     21704         BAG 250g SWIRLY MARBLES         1   \n",
       "2664  489607     21596  Hypochondriac Pill Stress Ball         1   \n",
       "2697  489609         M                          Manual         1   \n",
       "2710  489609     21596  Hypochondriac Pill Stress Ball         1   \n",
       "2844  489617    46000P  POLYESTER FILLER PAD 65CMx65CM         2   \n",
       "2845  489617    46000M    POLYESTER FILLER PAD 45x45cm         4   \n",
       "\n",
       "             InvoiceDate  Price  Customer ID         Country       Date  \n",
       "361  2009-12-01 11:34:00   1.65      16329.0  United Kingdom 2009-12-01  \n",
       "618  2009-12-01 11:50:00   1.45      12533.0         Germany 2009-12-01  \n",
       "619  2009-12-01 11:50:00   2.55      12533.0         Germany 2009-12-01  \n",
       "1898 2009-12-01 14:28:00   8.65          NaN  United Kingdom 2009-12-01  \n",
       "2052 2009-12-01 14:28:00   1.70          NaN  United Kingdom 2009-12-01  \n",
       "2664 2009-12-01 14:49:00   4.30          NaN  United Kingdom 2009-12-01  \n",
       "2697 2009-12-01 14:50:00   4.00          NaN  United Kingdom 2009-12-01  \n",
       "2710 2009-12-01 14:50:00   4.30          NaN  United Kingdom 2009-12-01  \n",
       "2844 2009-12-01 14:59:00   4.25      13442.0  United Kingdom 2009-12-01  \n",
       "2845 2009-12-01 14:59:00   1.55      13442.0  United Kingdom 2009-12-01  "
      ]
     },
     "execution_count": 173,
     "metadata": {},
     "output_type": "execute_result"
    }
   ],
   "source": [
    "#lets look at the description that is not upper case\n",
    "print(df_new[df_new.Description.str.isupper()==False].shape)\n",
    "df_new[df_new.Description.str.isupper()==False].head(10)\n"
   ]
  },
  {
   "cell_type": "code",
   "execution_count": 174,
   "id": "mechanical-plenty",
   "metadata": {},
   "outputs": [
    {
     "name": "stdout",
     "output_type": "stream",
     "text": [
      "['Manual']\n",
      "number of manuals sold:  (803, 9)\n"
     ]
    },
    {
     "data": {
      "text/html": [
       "<div>\n",
       "<style scoped>\n",
       "    .dataframe tbody tr th:only-of-type {\n",
       "        vertical-align: middle;\n",
       "    }\n",
       "\n",
       "    .dataframe tbody tr th {\n",
       "        vertical-align: top;\n",
       "    }\n",
       "\n",
       "    .dataframe thead th {\n",
       "        text-align: right;\n",
       "    }\n",
       "</style>\n",
       "<table border=\"1\" class=\"dataframe\">\n",
       "  <thead>\n",
       "    <tr style=\"text-align: right;\">\n",
       "      <th></th>\n",
       "      <th>Invoice</th>\n",
       "      <th>StockCode</th>\n",
       "      <th>Description</th>\n",
       "      <th>Quantity</th>\n",
       "      <th>InvoiceDate</th>\n",
       "      <th>Price</th>\n",
       "      <th>Customer ID</th>\n",
       "      <th>Country</th>\n",
       "      <th>Date</th>\n",
       "    </tr>\n",
       "  </thead>\n",
       "  <tbody>\n",
       "    <tr>\n",
       "      <th>2697</th>\n",
       "      <td>489609</td>\n",
       "      <td>M</td>\n",
       "      <td>Manual</td>\n",
       "      <td>1</td>\n",
       "      <td>2009-12-01 14:50:00</td>\n",
       "      <td>4.00</td>\n",
       "      <td>NaN</td>\n",
       "      <td>United Kingdom</td>\n",
       "      <td>2009-12-01</td>\n",
       "    </tr>\n",
       "    <tr>\n",
       "      <th>11310</th>\n",
       "      <td>490300</td>\n",
       "      <td>M</td>\n",
       "      <td>Manual</td>\n",
       "      <td>1</td>\n",
       "      <td>2009-12-04 14:19:00</td>\n",
       "      <td>0.85</td>\n",
       "      <td>12970.0</td>\n",
       "      <td>United Kingdom</td>\n",
       "      <td>2009-12-04</td>\n",
       "    </tr>\n",
       "    <tr>\n",
       "      <th>11311</th>\n",
       "      <td>490300</td>\n",
       "      <td>M</td>\n",
       "      <td>Manual</td>\n",
       "      <td>1</td>\n",
       "      <td>2009-12-04 14:19:00</td>\n",
       "      <td>0.21</td>\n",
       "      <td>12970.0</td>\n",
       "      <td>United Kingdom</td>\n",
       "      <td>2009-12-04</td>\n",
       "    </tr>\n",
       "    <tr>\n",
       "      <th>16107</th>\n",
       "      <td>490727</td>\n",
       "      <td>M</td>\n",
       "      <td>Manual</td>\n",
       "      <td>1</td>\n",
       "      <td>2009-12-07 16:38:00</td>\n",
       "      <td>0.00</td>\n",
       "      <td>17231.0</td>\n",
       "      <td>United Kingdom</td>\n",
       "      <td>2009-12-07</td>\n",
       "    </tr>\n",
       "    <tr>\n",
       "      <th>17386</th>\n",
       "      <td>490760</td>\n",
       "      <td>M</td>\n",
       "      <td>Manual</td>\n",
       "      <td>1</td>\n",
       "      <td>2009-12-08 09:49:00</td>\n",
       "      <td>10.00</td>\n",
       "      <td>14295.0</td>\n",
       "      <td>United Kingdom</td>\n",
       "      <td>2009-12-08</td>\n",
       "    </tr>\n",
       "  </tbody>\n",
       "</table>\n",
       "</div>"
      ],
      "text/plain": [
       "      Invoice StockCode Description  Quantity         InvoiceDate  Price  \\\n",
       "2697   489609         M      Manual         1 2009-12-01 14:50:00   4.00   \n",
       "11310  490300         M      Manual         1 2009-12-04 14:19:00   0.85   \n",
       "11311  490300         M      Manual         1 2009-12-04 14:19:00   0.21   \n",
       "16107  490727         M      Manual         1 2009-12-07 16:38:00   0.00   \n",
       "17386  490760         M      Manual         1 2009-12-08 09:49:00  10.00   \n",
       "\n",
       "       Customer ID         Country       Date  \n",
       "2697           NaN  United Kingdom 2009-12-01  \n",
       "11310      12970.0  United Kingdom 2009-12-04  \n",
       "11311      12970.0  United Kingdom 2009-12-04  \n",
       "16107      17231.0  United Kingdom 2009-12-07  \n",
       "17386      14295.0  United Kingdom 2009-12-08  "
      ]
     },
     "execution_count": 174,
     "metadata": {},
     "output_type": "execute_result"
    }
   ],
   "source": [
    "#stockcode M means manual\n",
    "print(df_new[df_new.StockCode == 'M']['Description'].unique())\n",
    "print('number of manuals sold: ', df_new[df_new.StockCode == 'M'].shape)\n",
    "df_new[df_new.StockCode == 'M'].head()"
   ]
  },
  {
   "cell_type": "code",
   "execution_count": 175,
   "id": "sublime-fairy",
   "metadata": {},
   "outputs": [
    {
     "data": {
      "text/plain": [
       "array(['BAG 500g SWIRLY MARBLES', 'POLYESTER FILLER PAD 40x40cm',\n",
       "       'POLYESTER FILLER PAD 60x40cm', '*USB Office Glitter Lamp',\n",
       "       'BAG 250g SWIRLY MARBLES', 'Hypochondriac Pill Stress Ball',\n",
       "       'Manual', 'POLYESTER FILLER PAD 65CMx65CM',\n",
       "       'POLYESTER FILLER PAD 45x45cm', 'nan', 'BAG 125g SWIRLY MARBLES',\n",
       "       'ESSENTIAL BALM 3.5g TIN IN ENVELOPE',\n",
       "       'FOLK ART GREETING CARD,pack/12', '*USB Office Mirror Ball',\n",
       "       \"Dad's Cab Electronic Meter\", 'POLYESTER FILLER PAD 30CMx30CM',\n",
       "       'Bank Charges', \"Dr. Jam's Arouzer Stress Ball\",\n",
       "       'This is a test product.', 'Electronic Talking Breath-A-Loser',\n",
       "       'Dotcomgiftshop Gift Voucher £80.00',\n",
       "       'Dotcomgiftshop Gift Voucher £20.00',\n",
       "       'Dotcomgiftshop Gift Voucher £10.00',\n",
       "       'Glow In The Dark Shot Glasses',\n",
       "       'Dotcomgiftshop Gift Voucher £50.00',\n",
       "       'Dotcomgiftshop Gift Voucher £30.00', '?',\n",
       "       'POLYESTER FILLER PAD 45x30cm',\n",
       "       'Adjustment by john on 26/01/2010 16',\n",
       "       'Adjustment by john on 26/01/2010 17', 'found', 'temp',\n",
       "       'found again', 'Discount', 'wrong invc',\n",
       "       'SET Of 6 SOLDIER SKITTLES', 'Found', 'mailout',\n",
       "       'Dotcomgiftshop Gift Voucher £70.00',\n",
       "       'THE KING GIFT BAG 25x24x12cm', 'Rust fixed', 'update',\n",
       "       'Adjustment by Peter on Jun 25 2010',\n",
       "       'correct previous adjustment', 'checked', '22719',\n",
       "       'tk maxx mix up with pink', 'Dotcomgiftshop Gift Voucher £40.00',\n",
       "       'FRENCH BLUE METAL DOOR SIGN, No', 'debenhams', 'Sold as A/B',\n",
       "       'amendment', 'dotcom email', 'eurobargain invc/credit',\n",
       "       'CHROME EURO HOOK 20cm', 'NUMBER TILE COTTAGE GARDEN, No',\n",
       "       'damaged', 'NUMBER TILE VINTAGE FONT, No',\n",
       "       'FRENCH BLUE METAL DOOR SIGN No', 'NUMBER TILE COTTAGE GARDEN No',\n",
       "       '?sold individually?', 'NUMBER TILE VINTAGE FONT No',\n",
       "       '3 TRADITIONAl BISCUIT CUTTERS  SET', 'amazon adjustment',\n",
       "       'mailout addition', 'Mailout', 'amazon', '*Boombox Ipod Classic',\n",
       "       'amazon sales', 'Adjustment', 'wrongly sold (22719) barcode',\n",
       "       'rcvd be air temp fix for dotcom sit',\n",
       "       'did  a credit  and did not tick ret', 'adjustment', 'returned',\n",
       "       'FLOWERS HANDBAG blue and orange', 'on cargo order',\n",
       "       'incorrectly credited C550456 see 47', 'Next Day Carriage',\n",
       "       'to push order througha s stock was', 'came coded as 20713',\n",
       "       'alan hodge cant mamage this section', 'dotcom',\n",
       "       'Dotcomgiftshop Gift Voucher £100.00', 'test', 'taig adjust',\n",
       "       'allocate stock for dotcom orders ta',\n",
       "       'add stock to allocate online orders', 'for online retail orders',\n",
       "       'Amazon', 'found box', 'Found in w/hse', 'website fixed',\n",
       "       'Lighthouse Trading zero invc incorr', 'michel oops',\n",
       "       'wrongly coded 20713', 'Had been put aside.', 'Sale error',\n",
       "       'High Resolution Image', 'Amazon Adjustment',\n",
       "       'wrongly marked 23343', 'Marked as 23343', 'wrongly coded 23343',\n",
       "       'Found by jackie', 'check', 'wrongly marked', 'had been put aside',\n",
       "       'amazon adjust', 'dotcomstock', 'John Lewis', 'dotcom adjust',\n",
       "       'check?'], dtype=object)"
      ]
     },
     "execution_count": 175,
     "metadata": {},
     "output_type": "execute_result"
    }
   ],
   "source": [
    "#look at the lower case unique descriptions\n",
    "df_new[df_new.Description.str.isupper()==False]['Description'].unique()\n"
   ]
  },
  {
   "cell_type": "code",
   "execution_count": 176,
   "id": "saved-platform",
   "metadata": {},
   "outputs": [
    {
     "data": {
      "text/plain": [
       "array(['POSTAGE', 'DOTCOM POSTAGE', 'Manual', 'Bank Charges',\n",
       "       'AMAZON FEE'], dtype=object)"
      ]
     },
     "execution_count": 176,
     "metadata": {},
     "output_type": "execute_result"
    }
   ],
   "source": [
    "#There are bank charges and commisions which are not sales. Look also for fee and postage\n",
    "search = ['charges','commission','postage','amazon fee','manual']\n",
    "df_new[df_new.Description.str.contains('(?i)|'.join(search))==True]['Description'].unique()#?i to ignore case of str\n",
    "\n"
   ]
  },
  {
   "cell_type": "markdown",
   "id": "cellular-stupid",
   "metadata": {},
   "source": [
    ">Amazon fee, postage, bank charges and DOTCOM POSTAGE are not sales so they need to be deleted. Also Manual is not a product so it does not make sense to include it in sales."
   ]
  },
  {
   "cell_type": "code",
   "execution_count": 177,
   "id": "adjustable-accessory",
   "metadata": {},
   "outputs": [
    {
     "data": {
      "text/plain": [
       "(4117, 9)"
      ]
     },
     "execution_count": 177,
     "metadata": {},
     "output_type": "execute_result"
    }
   ],
   "source": [
    "#how many rows have these descriptions\n",
    "df_new[df_new.Description.str.contains('(?i)|'.join(search))==True].shape"
   ]
  },
  {
   "cell_type": "code",
   "execution_count": 178,
   "id": "realistic-saying",
   "metadata": {},
   "outputs": [],
   "source": [
    "#These are not sales so they can be deleted\n",
    "\n",
    "searchFor = df_new[df_new.Description.str.contains('(?i)|'.join(search))==True]['Description'].index#?i to ignore case of str\n",
    "\n",
    "df_new = df_new.drop(searchFor)\n"
   ]
  },
  {
   "cell_type": "code",
   "execution_count": 179,
   "id": "relevant-saturday",
   "metadata": {},
   "outputs": [
    {
     "data": {
      "text/plain": [
       "(0,)"
      ]
     },
     "execution_count": 179,
     "metadata": {},
     "output_type": "execute_result"
    }
   ],
   "source": [
    "#making sure they were deleted\n",
    "df_new[df_new.Description.str.contains('(?i)|'.join(search))==True]['Description'].shape"
   ]
  },
  {
   "cell_type": "code",
   "execution_count": 85,
   "id": "impressed-diploma",
   "metadata": {},
   "outputs": [
    {
     "data": {
      "image/png": "[encoded data removed]",
      "text/plain": [
       "<Figure size 1080x504 with 1 Axes>"
      ]
     },
     "metadata": {},
     "output_type": "display_data"
    }
   ],
   "source": [
    "#plot most common description\n",
    "common_descriptions = df_new[df_new['Customer ID'].notna()]['Description'].value_counts().sort_values(ascending=False).iloc[0:40]\n",
    "plt.subplots(figsize=(15,7))\n",
    "sns.barplot(common_descriptions.index,common_descriptions.values,palette='Oranges_r')\n",
    "plt.xlabel('Descriptions')\n",
    "plt.ylabel('Count')\n",
    "plt.xticks(rotation=90)\n",
    "plt.title('Most Common Product Descriptions');"
   ]
  },
  {
   "cell_type": "markdown",
   "id": "industrial-hours",
   "metadata": {},
   "source": [
    "___"
   ]
  },
  {
   "cell_type": "markdown",
   "id": "alpha-aerospace",
   "metadata": {},
   "source": [
    "[Back To Top](#top)"
   ]
  },
  {
   "cell_type": "markdown",
   "id": "continuous-above",
   "metadata": {},
   "source": [
    "<a id='stockcode'></a>\n",
    "### StockCode"
   ]
  },
  {
   "cell_type": "code",
   "execution_count": 180,
   "id": "rubber-chuck",
   "metadata": {},
   "outputs": [],
   "source": [
    "#reset how many rows are displayed\n",
    "pd.reset_option('display.max_rows')\n"
   ]
  },
  {
   "cell_type": "markdown",
   "id": "shared-midnight",
   "metadata": {},
   "source": [
    ">Check StockCodes. It seems that if the code has many letters instead of mostly numbers, it indicates some weird entry. But first check most common stockcodes"
   ]
  },
  {
   "cell_type": "code",
   "execution_count": 181,
   "id": "attended-certificate",
   "metadata": {},
   "outputs": [
    {
     "data": {
      "text/plain": [
       "4973"
      ]
     },
     "execution_count": 181,
     "metadata": {},
     "output_type": "execute_result"
    }
   ],
   "source": [
    "# number of unique stockcodes \n",
    "df_new.StockCode.nunique()"
   ]
  },
  {
   "cell_type": "code",
   "execution_count": 182,
   "id": "suspended-maintenance",
   "metadata": {},
   "outputs": [
    {
     "data": {
      "image/png": "[encoded data removed]",
      "text/plain": [
       "<Figure size 1080x720 with 3 Axes>"
      ]
     },
     "metadata": {},
     "output_type": "display_data"
    }
   ],
   "source": [
    "#plot most common stockcodes\n",
    "f,ax = plt.subplots(3,1,figsize=(15,10))\n",
    "common_stockcodes = df_new.groupby('StockCode')['Description'].count().sort_values(ascending=False)\n",
    "sns.barplot(common_stockcodes.index[:40],common_stockcodes.values[:40],ax=ax[0],palette = 'Reds_r')\n",
    "ax[0].tick_params(axis='x', rotation= 90)\n",
    "ax[0].set_title('Top 40 Most Common StockCodes')\n",
    "ax[0].set_ylabel('count')\n",
    "\n",
    "most_ordered = df_new.groupby('StockCode')['Quantity'].sum().sort_values(ascending=False)\n",
    "sns.barplot(most_ordered .index[:40],most_ordered .values[:40],ax=ax[1],palette = 'Purples_r')\n",
    "ax[1].tick_params(axis='x', rotation= 90)\n",
    "ax[1].set_title('Top 40 Most ordered StockCodes')\n",
    "ax[1].set_ylabel('Quantity')\n",
    "\n",
    "percent_stockcode = most_ordered/df_new.shape[0] \n",
    "#df_new.groupby('StockCode')['Description'].count().sort_values(ascending=False)/df_new.shape[0]\n",
    "percent_stockcode=round(percent_stockcode*100,2)\n",
    "ax[2].hist(percent_stockcode,bins=40,color='red')\n",
    "#sns.barplot(percent_stockcode.index[:40],percent_stockcode.values[:40],ax=ax[1],palette = 'Purples_r')\n",
    "#ax[1].tick_params(axis='x', rotation= 90)\n",
    "ax[2].set_title('Percent of Data that have this stock code')\n",
    "ax[2].set_ylabel('Frequency of Stock Code')\n",
    "ax[2].set_xlabel('percent of data with the stock code')\n",
    "\n",
    "plt.tight_layout()"
   ]
  },
  {
   "cell_type": "markdown",
   "id": "dutch-council",
   "metadata": {},
   "source": [
    ">- Most stockcodes are not very frequent, meaning that the seller sells many types of products and that there are no specialty products. But this could be misleading because the same product could have different stock code like for example if it has a different color, so I need to see if there are stock codes that differ only by a letter that could represent the same product.\n",
    ">- So I will count the number of digits and letters in stock codes and see if there is a pattern."
   ]
  },
  {
   "cell_type": "code",
   "execution_count": 183,
   "id": "large-teacher",
   "metadata": {},
   "outputs": [
    {
     "data": {
      "image/png": "[encoded data removed]",
      "text/plain": [
       "<Figure size 576x396 with 1 Axes>"
      ]
     },
     "metadata": {},
     "output_type": "display_data"
    }
   ],
   "source": [
    "#count number of digits and letters, create a column with length to make it easier\n",
    "df_new['length_stockCodes']=df_new.StockCode.apply(lambda x: len(x))\n",
    "\n",
    "sns.countplot(df_new['length_stockCodes'],color='orange')\n",
    "plt.title('length of stock codes');"
   ]
  },
  {
   "cell_type": "markdown",
   "id": "developmental-economics",
   "metadata": {},
   "source": [
    ">Most stock codes are 5 characters long, but there are a few that are longer"
   ]
  },
  {
   "cell_type": "code",
   "execution_count": 184,
   "id": "organic-edition",
   "metadata": {},
   "outputs": [],
   "source": [
    "#count number of digits\n",
    "def count_digits_letters(code):\n",
    "    digits = sum(c.isdigit() for c in code)\n",
    "    letters = sum([c.isalpha() for c in code]) \n",
    "    return digits, letters"
   ]
  },
  {
   "cell_type": "code",
   "execution_count": 185,
   "id": "proud-batman",
   "metadata": {},
   "outputs": [],
   "source": [
    "df_new['digit_number'],df_new['letter_number'] = zip(*df_new.StockCode.apply(count_digits_letters))"
   ]
  },
  {
   "cell_type": "code",
   "execution_count": 186,
   "id": "ultimate-vancouver",
   "metadata": {},
   "outputs": [
    {
     "data": {
      "image/png": "[encoded data removed]",
      "text/plain": [
       "<Figure size 1080x360 with 2 Axes>"
      ]
     },
     "metadata": {},
     "output_type": "display_data"
    }
   ],
   "source": [
    "f,ax = plt.subplots(1,2,figsize=(15,5))\n",
    "sns.countplot(df_new.letter_number,color='green',ax=ax[0])\n",
    "ax[0].set_title('count of letters in stock code')\n",
    "sns.countplot(df_new.digit_number,color='yellow',ax=ax[1])\n",
    "ax[1].set_title('count of digits in stock code');"
   ]
  },
  {
   "cell_type": "markdown",
   "id": "prostate-huntington",
   "metadata": {},
   "source": [
    ">Most stock codes have 5 digits, but some also have letters. I will look at the ones with up to 9 letters"
   ]
  },
  {
   "cell_type": "code",
   "execution_count": 187,
   "id": "absolute-albuquerque",
   "metadata": {},
   "outputs": [
    {
     "data": {
      "image/png": "[encoded data removed]",
      "text/plain": [
       "<Figure size 576x396 with 1 Axes>"
      ]
     },
     "metadata": {},
     "output_type": "display_data"
    }
   ],
   "source": [
    "sns.countplot(df_new.letter_number[df_new.letter_number>1],color='green')\n",
    "plt.title('count of letters in stock code greater than 1');"
   ]
  },
  {
   "cell_type": "code",
   "execution_count": 188,
   "id": "approximate-rapid",
   "metadata": {},
   "outputs": [
    {
     "data": {
      "text/plain": [
       "StockCode\n",
       "15056BL    [EDWARDIAN PARASOL BLACK, nan]\n",
       "15056bl         [EDWARDIAN PARASOL BLACK]\n",
       "79323GR             [GREEN CHERRY LIGHTS]\n",
       "79323LP        [LIGHT PINK CHERRY LIGHTS]\n",
       "SP1002           [KID'S CHALKBOARD/EASEL]\n",
       "Name: Description, dtype: object"
      ]
     },
     "execution_count": 188,
     "metadata": {},
     "output_type": "execute_result"
    }
   ],
   "source": [
    "#look at stock codes with 2 letters\n",
    "df_new.loc[df_new.letter_number==2].groupby('StockCode')['Description'].unique()"
   ]
  },
  {
   "cell_type": "markdown",
   "id": "changed-license",
   "metadata": {},
   "source": [
    ">These look like products"
   ]
  },
  {
   "cell_type": "code",
   "execution_count": 189,
   "id": "extra-uniform",
   "metadata": {},
   "outputs": [
    {
     "name": "stdout",
     "output_type": "stream",
     "text": [
      "32\n"
     ]
    },
    {
     "data": {
      "text/plain": [
       "StockCode\n",
       "ADJUST          [Adjustment by john on 26/01/2010 16, Adjustme...\n",
       "ADJUST2                      [Adjustment by Peter on Jun 25 2010]\n",
       "DCGS0003                                    [BOXED GLASS ASHTRAY]\n",
       "DCGS0004                             [HAYNES CAMPER SHOULDER BAG]\n",
       "DCGS0037                                     [KEY-RING CORKSCREW]\n",
       "DCGS0041                       [HAYNES MINI-COOPER PLAYING CARDS]\n",
       "DCGS0044                                [HANDZ-OFF CAR FRESHENER]\n",
       "DCGS0058                                  [MISO PRETTY  GUM, nan]\n",
       "DCGS0062                                [ROAD-RAGE CAR FRESHENER]\n",
       "DCGS0066N                          [NAVY CUDDLES DOG HOODIE, nan]\n",
       "DCGS0068                                      [DOGS NIGHT COLLAR]\n",
       "DCGS0069                                  [OOH LA LA DOGS COLLAR]\n",
       "DCGS0070                                  [CAMOUFLAGE DOG COLLAR]\n",
       "DCGS0072                                 [CAT CAMOUFLAGUE COLLAR]\n",
       "DCGS0075                                   [CAMOUFLAGUE DOG LEAD]\n",
       "DCGS0076                           [SUNJAR LED NIGHT NIGHT LIGHT]\n",
       "DCGSSBOY                                 [update, BOYS PARTY BAG]\n",
       "DCGSSGIRL                               [update, GIRLS PARTY BAG]\n",
       "DOT                                                         [nan]\n",
       "PADS                                 [PADS TO MATCH ALL CUSHIONS]\n",
       "POST                                                        [nan]\n",
       "TEST001                                 [This is a test product.]\n",
       "TEST002                            [This is a test product., nan]\n",
       "gift_0001_10            [Dotcomgiftshop Gift Voucher £10.00, nan]\n",
       "gift_0001_20    [Dotcomgiftshop Gift Voucher £20.00, nan, to p...\n",
       "gift_0001_30            [Dotcomgiftshop Gift Voucher £30.00, nan]\n",
       "gift_0001_40            [nan, Dotcomgiftshop Gift Voucher £40.00]\n",
       "gift_0001_50            [Dotcomgiftshop Gift Voucher £50.00, nan]\n",
       "gift_0001_60                                                [nan]\n",
       "gift_0001_70            [nan, Dotcomgiftshop Gift Voucher £70.00]\n",
       "gift_0001_80            [nan, Dotcomgiftshop Gift Voucher £80.00]\n",
       "gift_0001_90                                                [nan]\n",
       "Name: Description, dtype: object"
      ]
     },
     "execution_count": 189,
     "metadata": {},
     "output_type": "execute_result"
    }
   ],
   "source": [
    "#look at description of stock code that have more than one letter\n",
    "print(df_new.StockCode.loc[df_new.letter_number>2].nunique())\n",
    "#only 21 unique codes, lets look at their description\n",
    "df_new.loc[df_new.letter_number>2].groupby('StockCode')['Description'].unique()"
   ]
  },
  {
   "cell_type": "markdown",
   "id": "mexican-lighting",
   "metadata": {},
   "source": [
    ">- Gift vouchers are fine\n",
    ">- test products are weird\n",
    ">- adjust is not a good entry, needs to be investigated"
   ]
  },
  {
   "cell_type": "code",
   "execution_count": 190,
   "id": "rocky-deviation",
   "metadata": {},
   "outputs": [
    {
     "data": {
      "text/html": [
       "<div>\n",
       "<style scoped>\n",
       "    .dataframe tbody tr th:only-of-type {\n",
       "        vertical-align: middle;\n",
       "    }\n",
       "\n",
       "    .dataframe tbody tr th {\n",
       "        vertical-align: top;\n",
       "    }\n",
       "\n",
       "    .dataframe thead th {\n",
       "        text-align: right;\n",
       "    }\n",
       "</style>\n",
       "<table border=\"1\" class=\"dataframe\">\n",
       "  <thead>\n",
       "    <tr style=\"text-align: right;\">\n",
       "      <th></th>\n",
       "      <th>Invoice</th>\n",
       "      <th>StockCode</th>\n",
       "      <th>Description</th>\n",
       "      <th>Quantity</th>\n",
       "      <th>InvoiceDate</th>\n",
       "      <th>Price</th>\n",
       "      <th>Customer ID</th>\n",
       "      <th>Country</th>\n",
       "      <th>Date</th>\n",
       "      <th>length_stockCodes</th>\n",
       "      <th>digit_number</th>\n",
       "      <th>letter_number</th>\n",
       "    </tr>\n",
       "  </thead>\n",
       "  <tbody>\n",
       "    <tr>\n",
       "      <th>70975</th>\n",
       "      <td>495732</td>\n",
       "      <td>ADJUST</td>\n",
       "      <td>Adjustment by john on 26/01/2010 16</td>\n",
       "      <td>1</td>\n",
       "      <td>2010-01-26 16:20:00</td>\n",
       "      <td>96.46</td>\n",
       "      <td>NaN</td>\n",
       "      <td>EIRE</td>\n",
       "      <td>2010-01-26</td>\n",
       "      <td>6</td>\n",
       "      <td>0</td>\n",
       "      <td>6</td>\n",
       "    </tr>\n",
       "    <tr>\n",
       "      <th>70976</th>\n",
       "      <td>495733</td>\n",
       "      <td>ADJUST</td>\n",
       "      <td>Adjustment by john on 26/01/2010 16</td>\n",
       "      <td>1</td>\n",
       "      <td>2010-01-26 16:21:00</td>\n",
       "      <td>68.34</td>\n",
       "      <td>14911.0</td>\n",
       "      <td>EIRE</td>\n",
       "      <td>2010-01-26</td>\n",
       "      <td>6</td>\n",
       "      <td>0</td>\n",
       "      <td>6</td>\n",
       "    </tr>\n",
       "    <tr>\n",
       "      <th>70977</th>\n",
       "      <td>495735</td>\n",
       "      <td>ADJUST</td>\n",
       "      <td>Adjustment by john on 26/01/2010 16</td>\n",
       "      <td>1</td>\n",
       "      <td>2010-01-26 16:22:00</td>\n",
       "      <td>201.56</td>\n",
       "      <td>12745.0</td>\n",
       "      <td>EIRE</td>\n",
       "      <td>2010-01-26</td>\n",
       "      <td>6</td>\n",
       "      <td>0</td>\n",
       "      <td>6</td>\n",
       "    </tr>\n",
       "    <tr>\n",
       "      <th>70978</th>\n",
       "      <td>495734</td>\n",
       "      <td>ADJUST</td>\n",
       "      <td>Adjustment by john on 26/01/2010 16</td>\n",
       "      <td>1</td>\n",
       "      <td>2010-01-26 16:22:00</td>\n",
       "      <td>205.82</td>\n",
       "      <td>14911.0</td>\n",
       "      <td>EIRE</td>\n",
       "      <td>2010-01-26</td>\n",
       "      <td>6</td>\n",
       "      <td>0</td>\n",
       "      <td>6</td>\n",
       "    </tr>\n",
       "    <tr>\n",
       "      <th>70980</th>\n",
       "      <td>495736</td>\n",
       "      <td>ADJUST</td>\n",
       "      <td>Adjustment by john on 26/01/2010 16</td>\n",
       "      <td>1</td>\n",
       "      <td>2010-01-26 16:23:00</td>\n",
       "      <td>21.00</td>\n",
       "      <td>12606.0</td>\n",
       "      <td>Spain</td>\n",
       "      <td>2010-01-26</td>\n",
       "      <td>6</td>\n",
       "      <td>0</td>\n",
       "      <td>6</td>\n",
       "    </tr>\n",
       "    <tr>\n",
       "      <th>70985</th>\n",
       "      <td>495742</td>\n",
       "      <td>ADJUST</td>\n",
       "      <td>Adjustment by john on 26/01/2010 16</td>\n",
       "      <td>1</td>\n",
       "      <td>2010-01-26 16:25:00</td>\n",
       "      <td>63.24</td>\n",
       "      <td>12404.0</td>\n",
       "      <td>Finland</td>\n",
       "      <td>2010-01-26</td>\n",
       "      <td>6</td>\n",
       "      <td>0</td>\n",
       "      <td>6</td>\n",
       "    </tr>\n",
       "    <tr>\n",
       "      <th>71022</th>\n",
       "      <td>495745</td>\n",
       "      <td>ADJUST</td>\n",
       "      <td>Adjustment by john on 26/01/2010 16</td>\n",
       "      <td>1</td>\n",
       "      <td>2010-01-26 16:26:00</td>\n",
       "      <td>56.73</td>\n",
       "      <td>12466.0</td>\n",
       "      <td>France</td>\n",
       "      <td>2010-01-26</td>\n",
       "      <td>6</td>\n",
       "      <td>0</td>\n",
       "      <td>6</td>\n",
       "    </tr>\n",
       "    <tr>\n",
       "      <th>71023</th>\n",
       "      <td>495748</td>\n",
       "      <td>ADJUST</td>\n",
       "      <td>Adjustment by john on 26/01/2010 16</td>\n",
       "      <td>1</td>\n",
       "      <td>2010-01-26 16:26:00</td>\n",
       "      <td>117.72</td>\n",
       "      <td>16291.0</td>\n",
       "      <td>Portugal</td>\n",
       "      <td>2010-01-26</td>\n",
       "      <td>6</td>\n",
       "      <td>0</td>\n",
       "      <td>6</td>\n",
       "    </tr>\n",
       "    <tr>\n",
       "      <th>71033</th>\n",
       "      <td>495747</td>\n",
       "      <td>ADJUST</td>\n",
       "      <td>Adjustment by john on 26/01/2010 16</td>\n",
       "      <td>1</td>\n",
       "      <td>2010-01-26 16:26:00</td>\n",
       "      <td>129.23</td>\n",
       "      <td>12555.0</td>\n",
       "      <td>Spain</td>\n",
       "      <td>2010-01-26</td>\n",
       "      <td>6</td>\n",
       "      <td>0</td>\n",
       "      <td>6</td>\n",
       "    </tr>\n",
       "    <tr>\n",
       "      <th>71034</th>\n",
       "      <td>495750</td>\n",
       "      <td>ADJUST</td>\n",
       "      <td>Adjustment by john on 26/01/2010 16</td>\n",
       "      <td>1</td>\n",
       "      <td>2010-01-26 16:27:00</td>\n",
       "      <td>132.79</td>\n",
       "      <td>14156.0</td>\n",
       "      <td>EIRE</td>\n",
       "      <td>2010-01-26</td>\n",
       "      <td>6</td>\n",
       "      <td>0</td>\n",
       "      <td>6</td>\n",
       "    </tr>\n",
       "    <tr>\n",
       "      <th>71035</th>\n",
       "      <td>495752</td>\n",
       "      <td>ADJUST</td>\n",
       "      <td>Adjustment by john on 26/01/2010 16</td>\n",
       "      <td>1</td>\n",
       "      <td>2010-01-26 16:28:00</td>\n",
       "      <td>130.56</td>\n",
       "      <td>NaN</td>\n",
       "      <td>EIRE</td>\n",
       "      <td>2010-01-26</td>\n",
       "      <td>6</td>\n",
       "      <td>0</td>\n",
       "      <td>6</td>\n",
       "    </tr>\n",
       "    <tr>\n",
       "      <th>71037</th>\n",
       "      <td>495756</td>\n",
       "      <td>ADJUST</td>\n",
       "      <td>Adjustment by john on 26/01/2010 16</td>\n",
       "      <td>1</td>\n",
       "      <td>2010-01-26 16:29:00</td>\n",
       "      <td>39.67</td>\n",
       "      <td>14912.0</td>\n",
       "      <td>Italy</td>\n",
       "      <td>2010-01-26</td>\n",
       "      <td>6</td>\n",
       "      <td>0</td>\n",
       "      <td>6</td>\n",
       "    </tr>\n",
       "    <tr>\n",
       "      <th>71038</th>\n",
       "      <td>495755</td>\n",
       "      <td>ADJUST</td>\n",
       "      <td>Adjustment by john on 26/01/2010 16</td>\n",
       "      <td>1</td>\n",
       "      <td>2010-01-26 16:29:00</td>\n",
       "      <td>342.80</td>\n",
       "      <td>14413.0</td>\n",
       "      <td>United Kingdom</td>\n",
       "      <td>2010-01-26</td>\n",
       "      <td>6</td>\n",
       "      <td>0</td>\n",
       "      <td>6</td>\n",
       "    </tr>\n",
       "    <tr>\n",
       "      <th>71039</th>\n",
       "      <td>495753</td>\n",
       "      <td>ADJUST</td>\n",
       "      <td>Adjustment by john on 26/01/2010 16</td>\n",
       "      <td>1</td>\n",
       "      <td>2010-01-26 16:29:00</td>\n",
       "      <td>178.31</td>\n",
       "      <td>14653.0</td>\n",
       "      <td>United Kingdom</td>\n",
       "      <td>2010-01-26</td>\n",
       "      <td>6</td>\n",
       "      <td>0</td>\n",
       "      <td>6</td>\n",
       "    </tr>\n",
       "    <tr>\n",
       "      <th>71040</th>\n",
       "      <td>495754</td>\n",
       "      <td>ADJUST</td>\n",
       "      <td>Adjustment by john on 26/01/2010 16</td>\n",
       "      <td>1</td>\n",
       "      <td>2010-01-26 16:29:00</td>\n",
       "      <td>15.58</td>\n",
       "      <td>12846.0</td>\n",
       "      <td>United Kingdom</td>\n",
       "      <td>2010-01-26</td>\n",
       "      <td>6</td>\n",
       "      <td>0</td>\n",
       "      <td>6</td>\n",
       "    </tr>\n",
       "    <tr>\n",
       "      <th>71042</th>\n",
       "      <td>495758</td>\n",
       "      <td>ADJUST</td>\n",
       "      <td>Adjustment by john on 26/01/2010 16</td>\n",
       "      <td>1</td>\n",
       "      <td>2010-01-26 16:30:00</td>\n",
       "      <td>274.20</td>\n",
       "      <td>14911.0</td>\n",
       "      <td>EIRE</td>\n",
       "      <td>2010-01-26</td>\n",
       "      <td>6</td>\n",
       "      <td>0</td>\n",
       "      <td>6</td>\n",
       "    </tr>\n",
       "    <tr>\n",
       "      <th>71044</th>\n",
       "      <td>495760</td>\n",
       "      <td>ADJUST</td>\n",
       "      <td>Adjustment by john on 26/01/2010 16</td>\n",
       "      <td>1</td>\n",
       "      <td>2010-01-26 16:31:00</td>\n",
       "      <td>64.13</td>\n",
       "      <td>14156.0</td>\n",
       "      <td>EIRE</td>\n",
       "      <td>2010-01-26</td>\n",
       "      <td>6</td>\n",
       "      <td>0</td>\n",
       "      <td>6</td>\n",
       "    </tr>\n",
       "    <tr>\n",
       "      <th>71047</th>\n",
       "      <td>495763</td>\n",
       "      <td>ADJUST</td>\n",
       "      <td>Adjustment by john on 26/01/2010 16</td>\n",
       "      <td>1</td>\n",
       "      <td>2010-01-26 16:34:00</td>\n",
       "      <td>107.14</td>\n",
       "      <td>16047.0</td>\n",
       "      <td>EIRE</td>\n",
       "      <td>2010-01-26</td>\n",
       "      <td>6</td>\n",
       "      <td>0</td>\n",
       "      <td>6</td>\n",
       "    </tr>\n",
       "    <tr>\n",
       "      <th>71050</th>\n",
       "      <td>495766</td>\n",
       "      <td>ADJUST</td>\n",
       "      <td>Adjustment by john on 26/01/2010 16</td>\n",
       "      <td>1</td>\n",
       "      <td>2010-01-26 16:38:00</td>\n",
       "      <td>84.58</td>\n",
       "      <td>12709.0</td>\n",
       "      <td>Germany</td>\n",
       "      <td>2010-01-26</td>\n",
       "      <td>6</td>\n",
       "      <td>0</td>\n",
       "      <td>6</td>\n",
       "    </tr>\n",
       "    <tr>\n",
       "      <th>71058</th>\n",
       "      <td>495776</td>\n",
       "      <td>ADJUST</td>\n",
       "      <td>Adjustment by john on 26/01/2010 17</td>\n",
       "      <td>1</td>\n",
       "      <td>2010-01-26 17:03:00</td>\n",
       "      <td>49.35</td>\n",
       "      <td>17940.0</td>\n",
       "      <td>United Kingdom</td>\n",
       "      <td>2010-01-26</td>\n",
       "      <td>6</td>\n",
       "      <td>0</td>\n",
       "      <td>6</td>\n",
       "    </tr>\n",
       "    <tr>\n",
       "      <th>71059</th>\n",
       "      <td>495777</td>\n",
       "      <td>ADJUST</td>\n",
       "      <td>Adjustment by john on 26/01/2010 17</td>\n",
       "      <td>1</td>\n",
       "      <td>2010-01-26 17:05:00</td>\n",
       "      <td>179.45</td>\n",
       "      <td>14156.0</td>\n",
       "      <td>EIRE</td>\n",
       "      <td>2010-01-26</td>\n",
       "      <td>6</td>\n",
       "      <td>0</td>\n",
       "      <td>6</td>\n",
       "    </tr>\n",
       "    <tr>\n",
       "      <th>71061</th>\n",
       "      <td>495780</td>\n",
       "      <td>ADJUST</td>\n",
       "      <td>Adjustment by john on 26/01/2010 17</td>\n",
       "      <td>1</td>\n",
       "      <td>2010-01-26 17:08:00</td>\n",
       "      <td>16.33</td>\n",
       "      <td>17867.0</td>\n",
       "      <td>United Kingdom</td>\n",
       "      <td>2010-01-26</td>\n",
       "      <td>6</td>\n",
       "      <td>0</td>\n",
       "      <td>6</td>\n",
       "    </tr>\n",
       "    <tr>\n",
       "      <th>71063</th>\n",
       "      <td>495781</td>\n",
       "      <td>ADJUST</td>\n",
       "      <td>Adjustment by john on 26/01/2010 17</td>\n",
       "      <td>1</td>\n",
       "      <td>2010-01-26 17:09:00</td>\n",
       "      <td>15.36</td>\n",
       "      <td>NaN</td>\n",
       "      <td>United Kingdom</td>\n",
       "      <td>2010-01-26</td>\n",
       "      <td>6</td>\n",
       "      <td>0</td>\n",
       "      <td>6</td>\n",
       "    </tr>\n",
       "    <tr>\n",
       "      <th>71064</th>\n",
       "      <td>495782</td>\n",
       "      <td>ADJUST</td>\n",
       "      <td>Adjustment by john on 26/01/2010 17</td>\n",
       "      <td>1</td>\n",
       "      <td>2010-01-26 17:10:00</td>\n",
       "      <td>139.71</td>\n",
       "      <td>14156.0</td>\n",
       "      <td>EIRE</td>\n",
       "      <td>2010-01-26</td>\n",
       "      <td>6</td>\n",
       "      <td>0</td>\n",
       "      <td>6</td>\n",
       "    </tr>\n",
       "    <tr>\n",
       "      <th>71065</th>\n",
       "      <td>495783</td>\n",
       "      <td>ADJUST</td>\n",
       "      <td>Adjustment by john on 26/01/2010 17</td>\n",
       "      <td>1</td>\n",
       "      <td>2010-01-26 17:11:00</td>\n",
       "      <td>48.96</td>\n",
       "      <td>14380.0</td>\n",
       "      <td>United Kingdom</td>\n",
       "      <td>2010-01-26</td>\n",
       "      <td>6</td>\n",
       "      <td>0</td>\n",
       "      <td>6</td>\n",
       "    </tr>\n",
       "    <tr>\n",
       "      <th>71066</th>\n",
       "      <td>495784</td>\n",
       "      <td>ADJUST</td>\n",
       "      <td>Adjustment by john on 26/01/2010 17</td>\n",
       "      <td>1</td>\n",
       "      <td>2010-01-26 17:11:00</td>\n",
       "      <td>11.31</td>\n",
       "      <td>14156.0</td>\n",
       "      <td>EIRE</td>\n",
       "      <td>2010-01-26</td>\n",
       "      <td>6</td>\n",
       "      <td>0</td>\n",
       "      <td>6</td>\n",
       "    </tr>\n",
       "    <tr>\n",
       "      <th>71068</th>\n",
       "      <td>495788</td>\n",
       "      <td>ADJUST</td>\n",
       "      <td>Adjustment by john on 26/01/2010 17</td>\n",
       "      <td>1</td>\n",
       "      <td>2010-01-26 17:16:00</td>\n",
       "      <td>11.90</td>\n",
       "      <td>14156.0</td>\n",
       "      <td>EIRE</td>\n",
       "      <td>2010-01-26</td>\n",
       "      <td>6</td>\n",
       "      <td>0</td>\n",
       "      <td>6</td>\n",
       "    </tr>\n",
       "    <tr>\n",
       "      <th>71071</th>\n",
       "      <td>495791</td>\n",
       "      <td>ADJUST</td>\n",
       "      <td>Adjustment by john on 26/01/2010 17</td>\n",
       "      <td>1</td>\n",
       "      <td>2010-01-26 17:19:00</td>\n",
       "      <td>243.63</td>\n",
       "      <td>14079.0</td>\n",
       "      <td>United Kingdom</td>\n",
       "      <td>2010-01-26</td>\n",
       "      <td>6</td>\n",
       "      <td>0</td>\n",
       "      <td>6</td>\n",
       "    </tr>\n",
       "    <tr>\n",
       "      <th>71072</th>\n",
       "      <td>495792</td>\n",
       "      <td>ADJUST</td>\n",
       "      <td>Adjustment by john on 26/01/2010 17</td>\n",
       "      <td>1</td>\n",
       "      <td>2010-01-26 17:20:00</td>\n",
       "      <td>114.89</td>\n",
       "      <td>17672.0</td>\n",
       "      <td>United Kingdom</td>\n",
       "      <td>2010-01-26</td>\n",
       "      <td>6</td>\n",
       "      <td>0</td>\n",
       "      <td>6</td>\n",
       "    </tr>\n",
       "    <tr>\n",
       "      <th>71074</th>\n",
       "      <td>495794</td>\n",
       "      <td>ADJUST</td>\n",
       "      <td>Adjustment by john on 26/01/2010 17</td>\n",
       "      <td>1</td>\n",
       "      <td>2010-01-26 17:22:00</td>\n",
       "      <td>41.09</td>\n",
       "      <td>12471.0</td>\n",
       "      <td>Germany</td>\n",
       "      <td>2010-01-26</td>\n",
       "      <td>6</td>\n",
       "      <td>0</td>\n",
       "      <td>6</td>\n",
       "    </tr>\n",
       "    <tr>\n",
       "      <th>71075</th>\n",
       "      <td>495795</td>\n",
       "      <td>ADJUST</td>\n",
       "      <td>Adjustment by john on 26/01/2010 17</td>\n",
       "      <td>1</td>\n",
       "      <td>2010-01-26 17:23:00</td>\n",
       "      <td>27.82</td>\n",
       "      <td>15702.0</td>\n",
       "      <td>Nigeria</td>\n",
       "      <td>2010-01-26</td>\n",
       "      <td>6</td>\n",
       "      <td>0</td>\n",
       "      <td>6</td>\n",
       "    </tr>\n",
       "    <tr>\n",
       "      <th>71077</th>\n",
       "      <td>495798</td>\n",
       "      <td>ADJUST</td>\n",
       "      <td>Adjustment by john on 26/01/2010 17</td>\n",
       "      <td>1</td>\n",
       "      <td>2010-01-26 17:25:00</td>\n",
       "      <td>5117.03</td>\n",
       "      <td>NaN</td>\n",
       "      <td>United Kingdom</td>\n",
       "      <td>2010-01-26</td>\n",
       "      <td>6</td>\n",
       "      <td>0</td>\n",
       "      <td>6</td>\n",
       "    </tr>\n",
       "    <tr>\n",
       "      <th>71079</th>\n",
       "      <td>495799</td>\n",
       "      <td>ADJUST</td>\n",
       "      <td>Adjustment by john on 26/01/2010 17</td>\n",
       "      <td>1</td>\n",
       "      <td>2010-01-26 17:26:00</td>\n",
       "      <td>81.61</td>\n",
       "      <td>13327.0</td>\n",
       "      <td>United Kingdom</td>\n",
       "      <td>2010-01-26</td>\n",
       "      <td>6</td>\n",
       "      <td>0</td>\n",
       "      <td>6</td>\n",
       "    </tr>\n",
       "    <tr>\n",
       "      <th>71081</th>\n",
       "      <td>495801</td>\n",
       "      <td>ADJUST</td>\n",
       "      <td>Adjustment by john on 26/01/2010 17</td>\n",
       "      <td>1</td>\n",
       "      <td>2010-01-26 17:28:00</td>\n",
       "      <td>77.52</td>\n",
       "      <td>12570.0</td>\n",
       "      <td>Spain</td>\n",
       "      <td>2010-01-26</td>\n",
       "      <td>6</td>\n",
       "      <td>0</td>\n",
       "      <td>6</td>\n",
       "    </tr>\n",
       "    <tr>\n",
       "      <th>71082</th>\n",
       "      <td>495802</td>\n",
       "      <td>ADJUST</td>\n",
       "      <td>Adjustment by john on 26/01/2010 17</td>\n",
       "      <td>1</td>\n",
       "      <td>2010-01-26 17:28:00</td>\n",
       "      <td>387.54</td>\n",
       "      <td>12748.0</td>\n",
       "      <td>United Kingdom</td>\n",
       "      <td>2010-01-26</td>\n",
       "      <td>6</td>\n",
       "      <td>0</td>\n",
       "      <td>6</td>\n",
       "    </tr>\n",
       "    <tr>\n",
       "      <th>249672</th>\n",
       "      <td>513564</td>\n",
       "      <td>ADJUST2</td>\n",
       "      <td>Adjustment by Peter on Jun 25 2010</td>\n",
       "      <td>1</td>\n",
       "      <td>2010-06-25 14:15:00</td>\n",
       "      <td>300.13</td>\n",
       "      <td>17050.0</td>\n",
       "      <td>United Kingdom</td>\n",
       "      <td>2010-06-25</td>\n",
       "      <td>7</td>\n",
       "      <td>1</td>\n",
       "      <td>6</td>\n",
       "    </tr>\n",
       "    <tr>\n",
       "      <th>249673</th>\n",
       "      <td>513566</td>\n",
       "      <td>ADJUST2</td>\n",
       "      <td>Adjustment by Peter on Jun 25 2010</td>\n",
       "      <td>1</td>\n",
       "      <td>2010-06-25 14:15:00</td>\n",
       "      <td>358.47</td>\n",
       "      <td>17364.0</td>\n",
       "      <td>United Kingdom</td>\n",
       "      <td>2010-06-25</td>\n",
       "      <td>7</td>\n",
       "      <td>1</td>\n",
       "      <td>6</td>\n",
       "    </tr>\n",
       "    <tr>\n",
       "      <th>249674</th>\n",
       "      <td>513565</td>\n",
       "      <td>ADJUST2</td>\n",
       "      <td>Adjustment by Peter on Jun 25 2010</td>\n",
       "      <td>1</td>\n",
       "      <td>2010-06-25 14:15:00</td>\n",
       "      <td>72.45</td>\n",
       "      <td>16422.0</td>\n",
       "      <td>United Kingdom</td>\n",
       "      <td>2010-06-25</td>\n",
       "      <td>7</td>\n",
       "      <td>1</td>\n",
       "      <td>6</td>\n",
       "    </tr>\n",
       "  </tbody>\n",
       "</table>\n",
       "</div>"
      ],
      "text/plain": [
       "       Invoice StockCode                          Description  Quantity  \\\n",
       "70975   495732    ADJUST  Adjustment by john on 26/01/2010 16         1   \n",
       "70976   495733    ADJUST  Adjustment by john on 26/01/2010 16         1   \n",
       "70977   495735    ADJUST  Adjustment by john on 26/01/2010 16         1   \n",
       "70978   495734    ADJUST  Adjustment by john on 26/01/2010 16         1   \n",
       "70980   495736    ADJUST  Adjustment by john on 26/01/2010 16         1   \n",
       "70985   495742    ADJUST  Adjustment by john on 26/01/2010 16         1   \n",
       "71022   495745    ADJUST  Adjustment by john on 26/01/2010 16         1   \n",
       "71023   495748    ADJUST  Adjustment by john on 26/01/2010 16         1   \n",
       "71033   495747    ADJUST  Adjustment by john on 26/01/2010 16         1   \n",
       "71034   495750    ADJUST  Adjustment by john on 26/01/2010 16         1   \n",
       "71035   495752    ADJUST  Adjustment by john on 26/01/2010 16         1   \n",
       "71037   495756    ADJUST  Adjustment by john on 26/01/2010 16         1   \n",
       "71038   495755    ADJUST  Adjustment by john on 26/01/2010 16         1   \n",
       "71039   495753    ADJUST  Adjustment by john on 26/01/2010 16         1   \n",
       "71040   495754    ADJUST  Adjustment by john on 26/01/2010 16         1   \n",
       "71042   495758    ADJUST  Adjustment by john on 26/01/2010 16         1   \n",
       "71044   495760    ADJUST  Adjustment by john on 26/01/2010 16         1   \n",
       "71047   495763    ADJUST  Adjustment by john on 26/01/2010 16         1   \n",
       "71050   495766    ADJUST  Adjustment by john on 26/01/2010 16         1   \n",
       "71058   495776    ADJUST  Adjustment by john on 26/01/2010 17         1   \n",
       "71059   495777    ADJUST  Adjustment by john on 26/01/2010 17         1   \n",
       "71061   495780    ADJUST  Adjustment by john on 26/01/2010 17         1   \n",
       "71063   495781    ADJUST  Adjustment by john on 26/01/2010 17         1   \n",
       "71064   495782    ADJUST  Adjustment by john on 26/01/2010 17         1   \n",
       "71065   495783    ADJUST  Adjustment by john on 26/01/2010 17         1   \n",
       "71066   495784    ADJUST  Adjustment by john on 26/01/2010 17         1   \n",
       "71068   495788    ADJUST  Adjustment by john on 26/01/2010 17         1   \n",
       "71071   495791    ADJUST  Adjustment by john on 26/01/2010 17         1   \n",
       "71072   495792    ADJUST  Adjustment by john on 26/01/2010 17         1   \n",
       "71074   495794    ADJUST  Adjustment by john on 26/01/2010 17         1   \n",
       "71075   495795    ADJUST  Adjustment by john on 26/01/2010 17         1   \n",
       "71077   495798    ADJUST  Adjustment by john on 26/01/2010 17         1   \n",
       "71079   495799    ADJUST  Adjustment by john on 26/01/2010 17         1   \n",
       "71081   495801    ADJUST  Adjustment by john on 26/01/2010 17         1   \n",
       "71082   495802    ADJUST  Adjustment by john on 26/01/2010 17         1   \n",
       "249672  513564   ADJUST2   Adjustment by Peter on Jun 25 2010         1   \n",
       "249673  513566   ADJUST2   Adjustment by Peter on Jun 25 2010         1   \n",
       "249674  513565   ADJUST2   Adjustment by Peter on Jun 25 2010         1   \n",
       "\n",
       "               InvoiceDate    Price  Customer ID         Country       Date  \\\n",
       "70975  2010-01-26 16:20:00    96.46          NaN            EIRE 2010-01-26   \n",
       "70976  2010-01-26 16:21:00    68.34      14911.0            EIRE 2010-01-26   \n",
       "70977  2010-01-26 16:22:00   201.56      12745.0            EIRE 2010-01-26   \n",
       "70978  2010-01-26 16:22:00   205.82      14911.0            EIRE 2010-01-26   \n",
       "70980  2010-01-26 16:23:00    21.00      12606.0           Spain 2010-01-26   \n",
       "70985  2010-01-26 16:25:00    63.24      12404.0         Finland 2010-01-26   \n",
       "71022  2010-01-26 16:26:00    56.73      12466.0          France 2010-01-26   \n",
       "71023  2010-01-26 16:26:00   117.72      16291.0        Portugal 2010-01-26   \n",
       "71033  2010-01-26 16:26:00   129.23      12555.0           Spain 2010-01-26   \n",
       "71034  2010-01-26 16:27:00   132.79      14156.0            EIRE 2010-01-26   \n",
       "71035  2010-01-26 16:28:00   130.56          NaN            EIRE 2010-01-26   \n",
       "71037  2010-01-26 16:29:00    39.67      14912.0           Italy 2010-01-26   \n",
       "71038  2010-01-26 16:29:00   342.80      14413.0  United Kingdom 2010-01-26   \n",
       "71039  2010-01-26 16:29:00   178.31      14653.0  United Kingdom 2010-01-26   \n",
       "71040  2010-01-26 16:29:00    15.58      12846.0  United Kingdom 2010-01-26   \n",
       "71042  2010-01-26 16:30:00   274.20      14911.0            EIRE 2010-01-26   \n",
       "71044  2010-01-26 16:31:00    64.13      14156.0            EIRE 2010-01-26   \n",
       "71047  2010-01-26 16:34:00   107.14      16047.0            EIRE 2010-01-26   \n",
       "71050  2010-01-26 16:38:00    84.58      12709.0         Germany 2010-01-26   \n",
       "71058  2010-01-26 17:03:00    49.35      17940.0  United Kingdom 2010-01-26   \n",
       "71059  2010-01-26 17:05:00   179.45      14156.0            EIRE 2010-01-26   \n",
       "71061  2010-01-26 17:08:00    16.33      17867.0  United Kingdom 2010-01-26   \n",
       "71063  2010-01-26 17:09:00    15.36          NaN  United Kingdom 2010-01-26   \n",
       "71064  2010-01-26 17:10:00   139.71      14156.0            EIRE 2010-01-26   \n",
       "71065  2010-01-26 17:11:00    48.96      14380.0  United Kingdom 2010-01-26   \n",
       "71066  2010-01-26 17:11:00    11.31      14156.0            EIRE 2010-01-26   \n",
       "71068  2010-01-26 17:16:00    11.90      14156.0            EIRE 2010-01-26   \n",
       "71071  2010-01-26 17:19:00   243.63      14079.0  United Kingdom 2010-01-26   \n",
       "71072  2010-01-26 17:20:00   114.89      17672.0  United Kingdom 2010-01-26   \n",
       "71074  2010-01-26 17:22:00    41.09      12471.0         Germany 2010-01-26   \n",
       "71075  2010-01-26 17:23:00    27.82      15702.0         Nigeria 2010-01-26   \n",
       "71077  2010-01-26 17:25:00  5117.03          NaN  United Kingdom 2010-01-26   \n",
       "71079  2010-01-26 17:26:00    81.61      13327.0  United Kingdom 2010-01-26   \n",
       "71081  2010-01-26 17:28:00    77.52      12570.0           Spain 2010-01-26   \n",
       "71082  2010-01-26 17:28:00   387.54      12748.0  United Kingdom 2010-01-26   \n",
       "249672 2010-06-25 14:15:00   300.13      17050.0  United Kingdom 2010-06-25   \n",
       "249673 2010-06-25 14:15:00   358.47      17364.0  United Kingdom 2010-06-25   \n",
       "249674 2010-06-25 14:15:00    72.45      16422.0  United Kingdom 2010-06-25   \n",
       "\n",
       "        length_stockCodes  digit_number  letter_number  \n",
       "70975                   6             0              6  \n",
       "70976                   6             0              6  \n",
       "70977                   6             0              6  \n",
       "70978                   6             0              6  \n",
       "70980                   6             0              6  \n",
       "70985                   6             0              6  \n",
       "71022                   6             0              6  \n",
       "71023                   6             0              6  \n",
       "71033                   6             0              6  \n",
       "71034                   6             0              6  \n",
       "71035                   6             0              6  \n",
       "71037                   6             0              6  \n",
       "71038                   6             0              6  \n",
       "71039                   6             0              6  \n",
       "71040                   6             0              6  \n",
       "71042                   6             0              6  \n",
       "71044                   6             0              6  \n",
       "71047                   6             0              6  \n",
       "71050                   6             0              6  \n",
       "71058                   6             0              6  \n",
       "71059                   6             0              6  \n",
       "71061                   6             0              6  \n",
       "71063                   6             0              6  \n",
       "71064                   6             0              6  \n",
       "71065                   6             0              6  \n",
       "71066                   6             0              6  \n",
       "71068                   6             0              6  \n",
       "71071                   6             0              6  \n",
       "71072                   6             0              6  \n",
       "71074                   6             0              6  \n",
       "71075                   6             0              6  \n",
       "71077                   6             0              6  \n",
       "71079                   6             0              6  \n",
       "71081                   6             0              6  \n",
       "71082                   6             0              6  \n",
       "249672                  7             1              6  \n",
       "249673                  7             1              6  \n",
       "249674                  7             1              6  "
      ]
     },
     "execution_count": 190,
     "metadata": {},
     "output_type": "execute_result"
    }
   ],
   "source": [
    "#look at Adjust\n",
    "df_new.loc[df_new.StockCode.str.contains('ADJUST')]"
   ]
  },
  {
   "cell_type": "code",
   "execution_count": 191,
   "id": "violent-compound",
   "metadata": {},
   "outputs": [
    {
     "data": {
      "text/html": [
       "<div>\n",
       "<style scoped>\n",
       "    .dataframe tbody tr th:only-of-type {\n",
       "        vertical-align: middle;\n",
       "    }\n",
       "\n",
       "    .dataframe tbody tr th {\n",
       "        vertical-align: top;\n",
       "    }\n",
       "\n",
       "    .dataframe thead th {\n",
       "        text-align: right;\n",
       "    }\n",
       "</style>\n",
       "<table border=\"1\" class=\"dataframe\">\n",
       "  <thead>\n",
       "    <tr style=\"text-align: right;\">\n",
       "      <th></th>\n",
       "      <th>Invoice</th>\n",
       "      <th>StockCode</th>\n",
       "      <th>Description</th>\n",
       "      <th>Quantity</th>\n",
       "      <th>InvoiceDate</th>\n",
       "      <th>Price</th>\n",
       "      <th>Customer ID</th>\n",
       "      <th>Country</th>\n",
       "      <th>Date</th>\n",
       "      <th>length_stockCodes</th>\n",
       "      <th>digit_number</th>\n",
       "      <th>letter_number</th>\n",
       "    </tr>\n",
       "  </thead>\n",
       "  <tbody>\n",
       "    <tr>\n",
       "      <th>27994</th>\n",
       "      <td>491725</td>\n",
       "      <td>TEST001</td>\n",
       "      <td>This is a test product.</td>\n",
       "      <td>10</td>\n",
       "      <td>2009-12-14 08:34:00</td>\n",
       "      <td>4.5</td>\n",
       "      <td>12346.0</td>\n",
       "      <td>United Kingdom</td>\n",
       "      <td>2009-12-14</td>\n",
       "      <td>7</td>\n",
       "      <td>3</td>\n",
       "      <td>4</td>\n",
       "    </tr>\n",
       "    <tr>\n",
       "      <th>28251</th>\n",
       "      <td>491742</td>\n",
       "      <td>TEST001</td>\n",
       "      <td>This is a test product.</td>\n",
       "      <td>5</td>\n",
       "      <td>2009-12-14 11:00:00</td>\n",
       "      <td>4.5</td>\n",
       "      <td>12346.0</td>\n",
       "      <td>United Kingdom</td>\n",
       "      <td>2009-12-14</td>\n",
       "      <td>7</td>\n",
       "      <td>3</td>\n",
       "      <td>4</td>\n",
       "    </tr>\n",
       "    <tr>\n",
       "      <th>28254</th>\n",
       "      <td>491744</td>\n",
       "      <td>TEST001</td>\n",
       "      <td>This is a test product.</td>\n",
       "      <td>5</td>\n",
       "      <td>2009-12-14 11:02:00</td>\n",
       "      <td>4.5</td>\n",
       "      <td>12346.0</td>\n",
       "      <td>United Kingdom</td>\n",
       "      <td>2009-12-14</td>\n",
       "      <td>7</td>\n",
       "      <td>3</td>\n",
       "      <td>4</td>\n",
       "    </tr>\n",
       "    <tr>\n",
       "      <th>39398</th>\n",
       "      <td>492718</td>\n",
       "      <td>TEST001</td>\n",
       "      <td>This is a test product.</td>\n",
       "      <td>5</td>\n",
       "      <td>2009-12-18 10:47:00</td>\n",
       "      <td>4.5</td>\n",
       "      <td>12346.0</td>\n",
       "      <td>United Kingdom</td>\n",
       "      <td>2009-12-18</td>\n",
       "      <td>7</td>\n",
       "      <td>3</td>\n",
       "      <td>4</td>\n",
       "    </tr>\n",
       "    <tr>\n",
       "      <th>39411</th>\n",
       "      <td>492722</td>\n",
       "      <td>TEST002</td>\n",
       "      <td>This is a test product.</td>\n",
       "      <td>1</td>\n",
       "      <td>2009-12-18 10:55:00</td>\n",
       "      <td>1.0</td>\n",
       "      <td>12346.0</td>\n",
       "      <td>United Kingdom</td>\n",
       "      <td>2009-12-18</td>\n",
       "      <td>7</td>\n",
       "      <td>3</td>\n",
       "      <td>4</td>\n",
       "    </tr>\n",
       "    <tr>\n",
       "      <th>44614</th>\n",
       "      <td>493294</td>\n",
       "      <td>TEST002</td>\n",
       "      <td>nan</td>\n",
       "      <td>1</td>\n",
       "      <td>2009-12-22 15:15:00</td>\n",
       "      <td>0.0</td>\n",
       "      <td>NaN</td>\n",
       "      <td>United Kingdom</td>\n",
       "      <td>2009-12-22</td>\n",
       "      <td>7</td>\n",
       "      <td>3</td>\n",
       "      <td>4</td>\n",
       "    </tr>\n",
       "    <tr>\n",
       "      <th>45228</th>\n",
       "      <td>493410</td>\n",
       "      <td>TEST001</td>\n",
       "      <td>This is a test product.</td>\n",
       "      <td>5</td>\n",
       "      <td>2010-01-04 09:24:00</td>\n",
       "      <td>4.5</td>\n",
       "      <td>12346.0</td>\n",
       "      <td>United Kingdom</td>\n",
       "      <td>2010-01-04</td>\n",
       "      <td>7</td>\n",
       "      <td>3</td>\n",
       "      <td>4</td>\n",
       "    </tr>\n",
       "    <tr>\n",
       "      <th>45230</th>\n",
       "      <td>493412</td>\n",
       "      <td>TEST001</td>\n",
       "      <td>This is a test product.</td>\n",
       "      <td>5</td>\n",
       "      <td>2010-01-04 09:53:00</td>\n",
       "      <td>4.5</td>\n",
       "      <td>12346.0</td>\n",
       "      <td>United Kingdom</td>\n",
       "      <td>2010-01-04</td>\n",
       "      <td>7</td>\n",
       "      <td>3</td>\n",
       "      <td>4</td>\n",
       "    </tr>\n",
       "    <tr>\n",
       "      <th>56117</th>\n",
       "      <td>494450</td>\n",
       "      <td>TEST001</td>\n",
       "      <td>This is a test product.</td>\n",
       "      <td>5</td>\n",
       "      <td>2010-01-14 13:50:00</td>\n",
       "      <td>4.5</td>\n",
       "      <td>12346.0</td>\n",
       "      <td>United Kingdom</td>\n",
       "      <td>2010-01-14</td>\n",
       "      <td>7</td>\n",
       "      <td>3</td>\n",
       "      <td>4</td>\n",
       "    </tr>\n",
       "    <tr>\n",
       "      <th>66084</th>\n",
       "      <td>495295</td>\n",
       "      <td>TEST001</td>\n",
       "      <td>This is a test product.</td>\n",
       "      <td>5</td>\n",
       "      <td>2010-01-22 13:30:00</td>\n",
       "      <td>4.5</td>\n",
       "      <td>12346.0</td>\n",
       "      <td>United Kingdom</td>\n",
       "      <td>2010-01-22</td>\n",
       "      <td>7</td>\n",
       "      <td>3</td>\n",
       "      <td>4</td>\n",
       "    </tr>\n",
       "    <tr>\n",
       "      <th>89084</th>\n",
       "      <td>497819</td>\n",
       "      <td>TEST001</td>\n",
       "      <td>This is a test product.</td>\n",
       "      <td>5</td>\n",
       "      <td>2010-02-12 14:58:00</td>\n",
       "      <td>0.0</td>\n",
       "      <td>14103.0</td>\n",
       "      <td>United Kingdom</td>\n",
       "      <td>2010-02-12</td>\n",
       "      <td>7</td>\n",
       "      <td>3</td>\n",
       "      <td>4</td>\n",
       "    </tr>\n",
       "    <tr>\n",
       "      <th>89180</th>\n",
       "      <td>497843</td>\n",
       "      <td>TEST001</td>\n",
       "      <td>This is a test product.</td>\n",
       "      <td>5</td>\n",
       "      <td>2010-02-12 15:47:00</td>\n",
       "      <td>0.0</td>\n",
       "      <td>14827.0</td>\n",
       "      <td>United Kingdom</td>\n",
       "      <td>2010-02-12</td>\n",
       "      <td>7</td>\n",
       "      <td>3</td>\n",
       "      <td>4</td>\n",
       "    </tr>\n",
       "    <tr>\n",
       "      <th>156017</th>\n",
       "      <td>504188</td>\n",
       "      <td>TEST001</td>\n",
       "      <td>This is a test product.</td>\n",
       "      <td>5</td>\n",
       "      <td>2010-04-12 09:52:00</td>\n",
       "      <td>4.5</td>\n",
       "      <td>16454.0</td>\n",
       "      <td>United Kingdom</td>\n",
       "      <td>2010-04-12</td>\n",
       "      <td>7</td>\n",
       "      <td>3</td>\n",
       "      <td>4</td>\n",
       "    </tr>\n",
       "  </tbody>\n",
       "</table>\n",
       "</div>"
      ],
      "text/plain": [
       "       Invoice StockCode              Description  Quantity  \\\n",
       "27994   491725   TEST001  This is a test product.        10   \n",
       "28251   491742   TEST001  This is a test product.         5   \n",
       "28254   491744   TEST001  This is a test product.         5   \n",
       "39398   492718   TEST001  This is a test product.         5   \n",
       "39411   492722   TEST002  This is a test product.         1   \n",
       "44614   493294   TEST002                      nan         1   \n",
       "45228   493410   TEST001  This is a test product.         5   \n",
       "45230   493412   TEST001  This is a test product.         5   \n",
       "56117   494450   TEST001  This is a test product.         5   \n",
       "66084   495295   TEST001  This is a test product.         5   \n",
       "89084   497819   TEST001  This is a test product.         5   \n",
       "89180   497843   TEST001  This is a test product.         5   \n",
       "156017  504188   TEST001  This is a test product.         5   \n",
       "\n",
       "               InvoiceDate  Price  Customer ID         Country       Date  \\\n",
       "27994  2009-12-14 08:34:00    4.5      12346.0  United Kingdom 2009-12-14   \n",
       "28251  2009-12-14 11:00:00    4.5      12346.0  United Kingdom 2009-12-14   \n",
       "28254  2009-12-14 11:02:00    4.5      12346.0  United Kingdom 2009-12-14   \n",
       "39398  2009-12-18 10:47:00    4.5      12346.0  United Kingdom 2009-12-18   \n",
       "39411  2009-12-18 10:55:00    1.0      12346.0  United Kingdom 2009-12-18   \n",
       "44614  2009-12-22 15:15:00    0.0          NaN  United Kingdom 2009-12-22   \n",
       "45228  2010-01-04 09:24:00    4.5      12346.0  United Kingdom 2010-01-04   \n",
       "45230  2010-01-04 09:53:00    4.5      12346.0  United Kingdom 2010-01-04   \n",
       "56117  2010-01-14 13:50:00    4.5      12346.0  United Kingdom 2010-01-14   \n",
       "66084  2010-01-22 13:30:00    4.5      12346.0  United Kingdom 2010-01-22   \n",
       "89084  2010-02-12 14:58:00    0.0      14103.0  United Kingdom 2010-02-12   \n",
       "89180  2010-02-12 15:47:00    0.0      14827.0  United Kingdom 2010-02-12   \n",
       "156017 2010-04-12 09:52:00    4.5      16454.0  United Kingdom 2010-04-12   \n",
       "\n",
       "        length_stockCodes  digit_number  letter_number  \n",
       "27994                   7             3              4  \n",
       "28251                   7             3              4  \n",
       "28254                   7             3              4  \n",
       "39398                   7             3              4  \n",
       "39411                   7             3              4  \n",
       "44614                   7             3              4  \n",
       "45228                   7             3              4  \n",
       "45230                   7             3              4  \n",
       "56117                   7             3              4  \n",
       "66084                   7             3              4  \n",
       "89084                   7             3              4  \n",
       "89180                   7             3              4  \n",
       "156017                  7             3              4  "
      ]
     },
     "execution_count": 191,
     "metadata": {},
     "output_type": "execute_result"
    }
   ],
   "source": [
    "#look at test\n",
    "df_new[df_new.StockCode.str.contains('TEST')]"
   ]
  },
  {
   "cell_type": "code",
   "execution_count": 192,
   "id": "removed-terminology",
   "metadata": {},
   "outputs": [
    {
     "name": "stdout",
     "output_type": "stream",
     "text": [
      "(99, 12)\n"
     ]
    },
    {
     "data": {
      "text/html": [
       "<div>\n",
       "<style scoped>\n",
       "    .dataframe tbody tr th:only-of-type {\n",
       "        vertical-align: middle;\n",
       "    }\n",
       "\n",
       "    .dataframe tbody tr th {\n",
       "        vertical-align: top;\n",
       "    }\n",
       "\n",
       "    .dataframe thead th {\n",
       "        text-align: right;\n",
       "    }\n",
       "</style>\n",
       "<table border=\"1\" class=\"dataframe\">\n",
       "  <thead>\n",
       "    <tr style=\"text-align: right;\">\n",
       "      <th></th>\n",
       "      <th>Invoice</th>\n",
       "      <th>StockCode</th>\n",
       "      <th>Description</th>\n",
       "      <th>Quantity</th>\n",
       "      <th>InvoiceDate</th>\n",
       "      <th>Price</th>\n",
       "      <th>Customer ID</th>\n",
       "      <th>Country</th>\n",
       "      <th>Date</th>\n",
       "      <th>length_stockCodes</th>\n",
       "      <th>digit_number</th>\n",
       "      <th>letter_number</th>\n",
       "    </tr>\n",
       "  </thead>\n",
       "  <tbody>\n",
       "    <tr>\n",
       "      <th>30620</th>\n",
       "      <td>491968</td>\n",
       "      <td>gift_0001_80</td>\n",
       "      <td>nan</td>\n",
       "      <td>2</td>\n",
       "      <td>2009-12-14 17:56:00</td>\n",
       "      <td>0.00</td>\n",
       "      <td>NaN</td>\n",
       "      <td>United Kingdom</td>\n",
       "      <td>2009-12-14</td>\n",
       "      <td>12</td>\n",
       "      <td>6</td>\n",
       "      <td>4</td>\n",
       "    </tr>\n",
       "    <tr>\n",
       "      <th>31079</th>\n",
       "      <td>491969</td>\n",
       "      <td>gift_0001_80</td>\n",
       "      <td>Dotcomgiftshop Gift Voucher £80.00</td>\n",
       "      <td>1</td>\n",
       "      <td>2009-12-14 17:57:00</td>\n",
       "      <td>69.56</td>\n",
       "      <td>NaN</td>\n",
       "      <td>United Kingdom</td>\n",
       "      <td>2009-12-14</td>\n",
       "      <td>12</td>\n",
       "      <td>6</td>\n",
       "      <td>4</td>\n",
       "    </tr>\n",
       "    <tr>\n",
       "      <th>32048</th>\n",
       "      <td>491971</td>\n",
       "      <td>gift_0001_20</td>\n",
       "      <td>Dotcomgiftshop Gift Voucher £20.00</td>\n",
       "      <td>2</td>\n",
       "      <td>2009-12-14 18:37:00</td>\n",
       "      <td>17.39</td>\n",
       "      <td>NaN</td>\n",
       "      <td>United Kingdom</td>\n",
       "      <td>2009-12-14</td>\n",
       "      <td>12</td>\n",
       "      <td>6</td>\n",
       "      <td>4</td>\n",
       "    </tr>\n",
       "    <tr>\n",
       "      <th>40904</th>\n",
       "      <td>492782</td>\n",
       "      <td>gift_0001_10</td>\n",
       "      <td>Dotcomgiftshop Gift Voucher £10.00</td>\n",
       "      <td>1</td>\n",
       "      <td>2009-12-18 17:06:00</td>\n",
       "      <td>8.69</td>\n",
       "      <td>NaN</td>\n",
       "      <td>United Kingdom</td>\n",
       "      <td>2009-12-18</td>\n",
       "      <td>12</td>\n",
       "      <td>6</td>\n",
       "      <td>4</td>\n",
       "    </tr>\n",
       "    <tr>\n",
       "      <th>40905</th>\n",
       "      <td>492782</td>\n",
       "      <td>gift_0001_20</td>\n",
       "      <td>Dotcomgiftshop Gift Voucher £20.00</td>\n",
       "      <td>1</td>\n",
       "      <td>2009-12-18 17:06:00</td>\n",
       "      <td>17.39</td>\n",
       "      <td>NaN</td>\n",
       "      <td>United Kingdom</td>\n",
       "      <td>2009-12-18</td>\n",
       "      <td>12</td>\n",
       "      <td>6</td>\n",
       "      <td>4</td>\n",
       "    </tr>\n",
       "    <tr>\n",
       "      <th>...</th>\n",
       "      <td>...</td>\n",
       "      <td>...</td>\n",
       "      <td>...</td>\n",
       "      <td>...</td>\n",
       "      <td>...</td>\n",
       "      <td>...</td>\n",
       "      <td>...</td>\n",
       "      <td>...</td>\n",
       "      <td>...</td>\n",
       "      <td>...</td>\n",
       "      <td>...</td>\n",
       "      <td>...</td>\n",
       "    </tr>\n",
       "    <tr>\n",
       "      <th>842962</th>\n",
       "      <td>564761</td>\n",
       "      <td>gift_0001_30</td>\n",
       "      <td>nan</td>\n",
       "      <td>30</td>\n",
       "      <td>2011-08-30 10:48:00</td>\n",
       "      <td>0.00</td>\n",
       "      <td>NaN</td>\n",
       "      <td>United Kingdom</td>\n",
       "      <td>2011-08-30</td>\n",
       "      <td>12</td>\n",
       "      <td>6</td>\n",
       "      <td>4</td>\n",
       "    </tr>\n",
       "    <tr>\n",
       "      <th>845901</th>\n",
       "      <td>564974</td>\n",
       "      <td>gift_0001_10</td>\n",
       "      <td>Dotcomgiftshop Gift Voucher £10.00</td>\n",
       "      <td>2</td>\n",
       "      <td>2011-08-31 15:32:00</td>\n",
       "      <td>8.33</td>\n",
       "      <td>NaN</td>\n",
       "      <td>United Kingdom</td>\n",
       "      <td>2011-08-31</td>\n",
       "      <td>12</td>\n",
       "      <td>6</td>\n",
       "      <td>4</td>\n",
       "    </tr>\n",
       "    <tr>\n",
       "      <th>847625</th>\n",
       "      <td>565231</td>\n",
       "      <td>gift_0001_30</td>\n",
       "      <td>Dotcomgiftshop Gift Voucher £30.00</td>\n",
       "      <td>1</td>\n",
       "      <td>2011-09-02 09:26:00</td>\n",
       "      <td>25.00</td>\n",
       "      <td>NaN</td>\n",
       "      <td>United Kingdom</td>\n",
       "      <td>2011-09-02</td>\n",
       "      <td>12</td>\n",
       "      <td>6</td>\n",
       "      <td>4</td>\n",
       "    </tr>\n",
       "    <tr>\n",
       "      <th>956810</th>\n",
       "      <td>573585</td>\n",
       "      <td>gift_0001_20</td>\n",
       "      <td>Dotcomgiftshop Gift Voucher £20.00</td>\n",
       "      <td>1</td>\n",
       "      <td>2011-10-31 14:41:00</td>\n",
       "      <td>16.67</td>\n",
       "      <td>NaN</td>\n",
       "      <td>United Kingdom</td>\n",
       "      <td>2011-10-31</td>\n",
       "      <td>12</td>\n",
       "      <td>6</td>\n",
       "      <td>4</td>\n",
       "    </tr>\n",
       "    <tr>\n",
       "      <th>1061508</th>\n",
       "      <td>581217</td>\n",
       "      <td>gift_0001_10</td>\n",
       "      <td>Dotcomgiftshop Gift Voucher £10.00</td>\n",
       "      <td>1</td>\n",
       "      <td>2011-12-08 09:20:00</td>\n",
       "      <td>8.33</td>\n",
       "      <td>NaN</td>\n",
       "      <td>United Kingdom</td>\n",
       "      <td>2011-12-08</td>\n",
       "      <td>12</td>\n",
       "      <td>6</td>\n",
       "      <td>4</td>\n",
       "    </tr>\n",
       "  </tbody>\n",
       "</table>\n",
       "<p>99 rows × 12 columns</p>\n",
       "</div>"
      ],
      "text/plain": [
       "        Invoice     StockCode                         Description  Quantity  \\\n",
       "30620    491968  gift_0001_80                                 nan         2   \n",
       "31079    491969  gift_0001_80  Dotcomgiftshop Gift Voucher £80.00         1   \n",
       "32048    491971  gift_0001_20  Dotcomgiftshop Gift Voucher £20.00         2   \n",
       "40904    492782  gift_0001_10  Dotcomgiftshop Gift Voucher £10.00         1   \n",
       "40905    492782  gift_0001_20  Dotcomgiftshop Gift Voucher £20.00         1   \n",
       "...         ...           ...                                 ...       ...   \n",
       "842962   564761  gift_0001_30                                 nan        30   \n",
       "845901   564974  gift_0001_10  Dotcomgiftshop Gift Voucher £10.00         2   \n",
       "847625   565231  gift_0001_30  Dotcomgiftshop Gift Voucher £30.00         1   \n",
       "956810   573585  gift_0001_20  Dotcomgiftshop Gift Voucher £20.00         1   \n",
       "1061508  581217  gift_0001_10  Dotcomgiftshop Gift Voucher £10.00         1   \n",
       "\n",
       "                InvoiceDate  Price  Customer ID         Country       Date  \\\n",
       "30620   2009-12-14 17:56:00   0.00          NaN  United Kingdom 2009-12-14   \n",
       "31079   2009-12-14 17:57:00  69.56          NaN  United Kingdom 2009-12-14   \n",
       "32048   2009-12-14 18:37:00  17.39          NaN  United Kingdom 2009-12-14   \n",
       "40904   2009-12-18 17:06:00   8.69          NaN  United Kingdom 2009-12-18   \n",
       "40905   2009-12-18 17:06:00  17.39          NaN  United Kingdom 2009-12-18   \n",
       "...                     ...    ...          ...             ...        ...   \n",
       "842962  2011-08-30 10:48:00   0.00          NaN  United Kingdom 2011-08-30   \n",
       "845901  2011-08-31 15:32:00   8.33          NaN  United Kingdom 2011-08-31   \n",
       "847625  2011-09-02 09:26:00  25.00          NaN  United Kingdom 2011-09-02   \n",
       "956810  2011-10-31 14:41:00  16.67          NaN  United Kingdom 2011-10-31   \n",
       "1061508 2011-12-08 09:20:00   8.33          NaN  United Kingdom 2011-12-08   \n",
       "\n",
       "         length_stockCodes  digit_number  letter_number  \n",
       "30620                   12             6              4  \n",
       "31079                   12             6              4  \n",
       "32048                   12             6              4  \n",
       "40904                   12             6              4  \n",
       "40905                   12             6              4  \n",
       "...                    ...           ...            ...  \n",
       "842962                  12             6              4  \n",
       "845901                  12             6              4  \n",
       "847625                  12             6              4  \n",
       "956810                  12             6              4  \n",
       "1061508                 12             6              4  \n",
       "\n",
       "[99 rows x 12 columns]"
      ]
     },
     "execution_count": 192,
     "metadata": {},
     "output_type": "execute_result"
    }
   ],
   "source": [
    "print(df_new[df_new.StockCode.str.contains ('(?i)gift')].shape)\n",
    "df_new[df_new.StockCode.str.contains ('(?i)gift')]"
   ]
  },
  {
   "cell_type": "markdown",
   "id": "clinical-warrant",
   "metadata": {},
   "source": [
    "> Adjust is not a product because there is no code or description for it. Same for test stock codes so they need to be deleted. It is interesting to see that for all gift vouchers sold, the customer id is nan, which hints at the fact that these customers are guests that do not have an account"
   ]
  },
  {
   "cell_type": "code",
   "execution_count": 193,
   "id": "interested-climate",
   "metadata": {},
   "outputs": [
    {
     "data": {
      "text/plain": [
       "(1033461, 12)"
      ]
     },
     "execution_count": 193,
     "metadata": {},
     "output_type": "execute_result"
    }
   ],
   "source": [
    "#delete adjust and test stock codes\n",
    "idx = (df_new[df_new.StockCode.str.contains ('TEST')].index).append(df_new.loc[df_new.StockCode.str.contains('ADJUST')].index)\n",
    "df_new = df_new.drop(idx)\n",
    "df_new.shape"
   ]
  },
  {
   "cell_type": "markdown",
   "id": "utility-marshall",
   "metadata": {},
   "source": [
    "___"
   ]
  },
  {
   "cell_type": "markdown",
   "id": "disturbed-banana",
   "metadata": {},
   "source": [
    "[Back To Top](#top)"
   ]
  },
  {
   "cell_type": "markdown",
   "id": "fancy-alfred",
   "metadata": {},
   "source": [
    "<a id = 'customers'></a>\n",
    "### Customers"
   ]
  },
  {
   "cell_type": "code",
   "execution_count": 194,
   "id": "potential-lending",
   "metadata": {},
   "outputs": [
    {
     "name": "stdout",
     "output_type": "stream",
     "text": [
      "number of unique customers:  5835\n"
     ]
    }
   ],
   "source": [
    "#number of unique customers\n",
    "print('number of unique customers: ',df_new['Customer ID'].nunique())\n",
    "#customers that order the most\n",
    "common_customers = df_new.groupby('Customer ID')['Customer ID'].count().sort_values(ascending=False).iloc[:40]\n",
    "#customers that order the most\n",
    "customers_with_most_orders = df_new.groupby('Customer ID')['Quantity'].sum().sort_values(ascending=False).iloc[:40]"
   ]
  },
  {
   "cell_type": "code",
   "execution_count": 195,
   "id": "amber-medicaid",
   "metadata": {},
   "outputs": [
    {
     "data": {
      "image/png": "[encoded data removed]",
      "text/plain": [
       "<Figure size 1080x504 with 2 Axes>"
      ]
     },
     "metadata": {},
     "output_type": "display_data"
    }
   ],
   "source": [
    "#plot the top 40 most common customers\n",
    "f,ax = plt.subplots(2,1,figsize=(15,7))\n",
    "\n",
    "sns.barplot(common_customers.index,common_customers.values,order=common_customers.index,ax=ax[0])\n",
    "ax[0].tick_params(axis='x',rotation=90)\n",
    "ax[0].set_title('Customers That make a lot of Orders')\n",
    "\n",
    "sns.barplot(customers_with_most_orders.index,customers_with_most_orders.values,order=customers_with_most_orders.index,ax=ax[1])\n",
    "ax[1].tick_params(axis='x',rotation=90)\n",
    "ax[1].set_title('Customers by Sum of Orders')\n",
    "plt.tight_layout();"
   ]
  },
  {
   "cell_type": "markdown",
   "id": "lucky-merchandise",
   "metadata": {},
   "source": [
    ">The store has many cutomers that are whole salers so it would explain high order volume for some of them. I still have many customers ids that are missing which I think are guests."
   ]
  },
  {
   "cell_type": "code",
   "execution_count": 205,
   "id": "concrete-syntax",
   "metadata": {},
   "outputs": [],
   "source": [
    "#copy the dataframe\n",
    "df = df_new.copy()"
   ]
  },
  {
   "cell_type": "code",
   "execution_count": 206,
   "id": "educated-spirituality",
   "metadata": {},
   "outputs": [
    {
     "data": {
      "text/plain": [
       "(1030733, 12)"
      ]
     },
     "execution_count": 206,
     "metadata": {},
     "output_type": "execute_result"
    }
   ],
   "source": [
    "#I will delete all the sales that have 0 for price because these are not sales\n",
    "df= df[df.Price!=0]\n",
    "df.shape"
   ]
  },
  {
   "cell_type": "code",
   "execution_count": 207,
   "id": "understood-therapist",
   "metadata": {},
   "outputs": [
    {
     "data": {
      "text/plain": [
       "0"
      ]
     },
     "execution_count": 207,
     "metadata": {},
     "output_type": "execute_result"
    }
   ],
   "source": [
    "#check if there are any missing description\n",
    "(df.Description.isna()).sum()"
   ]
  },
  {
   "cell_type": "markdown",
   "id": "imperial-burns",
   "metadata": {},
   "source": [
    "___"
   ]
  },
  {
   "cell_type": "markdown",
   "id": "behind-nylon",
   "metadata": {},
   "source": [
    "<a id=\"feature_engineering\"></a>\n",
    "### Create Features"
   ]
  },
  {
   "cell_type": "code",
   "execution_count": 208,
   "id": "younger-kingdom",
   "metadata": {},
   "outputs": [],
   "source": [
    "#I do not need the length of the stock code anymore so I will delete.\n",
    "df.drop(['length_stockCodes','digit_number','letter_number'],axis=1,inplace=True)\n"
   ]
  },
  {
   "cell_type": "code",
   "execution_count": 209,
   "id": "flexible-worcester",
   "metadata": {},
   "outputs": [
    {
     "data": {
      "text/html": [
       "<div>\n",
       "<style scoped>\n",
       "    .dataframe tbody tr th:only-of-type {\n",
       "        vertical-align: middle;\n",
       "    }\n",
       "\n",
       "    .dataframe tbody tr th {\n",
       "        vertical-align: top;\n",
       "    }\n",
       "\n",
       "    .dataframe thead th {\n",
       "        text-align: right;\n",
       "    }\n",
       "</style>\n",
       "<table border=\"1\" class=\"dataframe\">\n",
       "  <thead>\n",
       "    <tr style=\"text-align: right;\">\n",
       "      <th></th>\n",
       "      <th>Invoice</th>\n",
       "      <th>StockCode</th>\n",
       "      <th>Description</th>\n",
       "      <th>Quantity</th>\n",
       "      <th>InvoiceDate</th>\n",
       "      <th>Price</th>\n",
       "      <th>Customer ID</th>\n",
       "      <th>Country</th>\n",
       "      <th>Date</th>\n",
       "      <th>Revenue</th>\n",
       "    </tr>\n",
       "  </thead>\n",
       "  <tbody>\n",
       "    <tr>\n",
       "      <th>0</th>\n",
       "      <td>489434</td>\n",
       "      <td>85048</td>\n",
       "      <td>15CM CHRISTMAS GLASS BALL 20 LIGHTS</td>\n",
       "      <td>12</td>\n",
       "      <td>2009-12-01 07:45:00</td>\n",
       "      <td>6.95</td>\n",
       "      <td>13085.0</td>\n",
       "      <td>United Kingdom</td>\n",
       "      <td>2009-12-01</td>\n",
       "      <td>83.4</td>\n",
       "    </tr>\n",
       "    <tr>\n",
       "      <th>1</th>\n",
       "      <td>489434</td>\n",
       "      <td>79323P</td>\n",
       "      <td>PINK CHERRY LIGHTS</td>\n",
       "      <td>12</td>\n",
       "      <td>2009-12-01 07:45:00</td>\n",
       "      <td>6.75</td>\n",
       "      <td>13085.0</td>\n",
       "      <td>United Kingdom</td>\n",
       "      <td>2009-12-01</td>\n",
       "      <td>81.0</td>\n",
       "    </tr>\n",
       "    <tr>\n",
       "      <th>2</th>\n",
       "      <td>489434</td>\n",
       "      <td>79323W</td>\n",
       "      <td>WHITE CHERRY LIGHTS</td>\n",
       "      <td>12</td>\n",
       "      <td>2009-12-01 07:45:00</td>\n",
       "      <td>6.75</td>\n",
       "      <td>13085.0</td>\n",
       "      <td>United Kingdom</td>\n",
       "      <td>2009-12-01</td>\n",
       "      <td>81.0</td>\n",
       "    </tr>\n",
       "    <tr>\n",
       "      <th>3</th>\n",
       "      <td>489434</td>\n",
       "      <td>22041</td>\n",
       "      <td>RECORD FRAME 7\" SINGLE SIZE</td>\n",
       "      <td>48</td>\n",
       "      <td>2009-12-01 07:45:00</td>\n",
       "      <td>2.10</td>\n",
       "      <td>13085.0</td>\n",
       "      <td>United Kingdom</td>\n",
       "      <td>2009-12-01</td>\n",
       "      <td>100.8</td>\n",
       "    </tr>\n",
       "    <tr>\n",
       "      <th>4</th>\n",
       "      <td>489434</td>\n",
       "      <td>21232</td>\n",
       "      <td>STRAWBERRY CERAMIC TRINKET BOX</td>\n",
       "      <td>24</td>\n",
       "      <td>2009-12-01 07:45:00</td>\n",
       "      <td>1.25</td>\n",
       "      <td>13085.0</td>\n",
       "      <td>United Kingdom</td>\n",
       "      <td>2009-12-01</td>\n",
       "      <td>30.0</td>\n",
       "    </tr>\n",
       "  </tbody>\n",
       "</table>\n",
       "</div>"
      ],
      "text/plain": [
       "  Invoice StockCode                          Description  Quantity  \\\n",
       "0  489434     85048  15CM CHRISTMAS GLASS BALL 20 LIGHTS        12   \n",
       "1  489434    79323P                   PINK CHERRY LIGHTS        12   \n",
       "2  489434    79323W                  WHITE CHERRY LIGHTS        12   \n",
       "3  489434     22041          RECORD FRAME 7\" SINGLE SIZE        48   \n",
       "4  489434     21232       STRAWBERRY CERAMIC TRINKET BOX        24   \n",
       "\n",
       "          InvoiceDate  Price  Customer ID         Country       Date  Revenue  \n",
       "0 2009-12-01 07:45:00   6.95      13085.0  United Kingdom 2009-12-01     83.4  \n",
       "1 2009-12-01 07:45:00   6.75      13085.0  United Kingdom 2009-12-01     81.0  \n",
       "2 2009-12-01 07:45:00   6.75      13085.0  United Kingdom 2009-12-01     81.0  \n",
       "3 2009-12-01 07:45:00   2.10      13085.0  United Kingdom 2009-12-01    100.8  \n",
       "4 2009-12-01 07:45:00   1.25      13085.0  United Kingdom 2009-12-01     30.0  "
      ]
     },
     "execution_count": 209,
     "metadata": {},
     "output_type": "execute_result"
    }
   ],
   "source": [
    "#create a Revenue column\n",
    "df['Revenue'] = df_new['Quantity']*df_new['Price']\n",
    "\n",
    "#df_new.drop('')\n",
    "df.head()"
   ]
  },
  {
   "cell_type": "code",
   "execution_count": 210,
   "id": "valid-latter",
   "metadata": {},
   "outputs": [],
   "source": [
    "#create new features for modeling\n",
    "df['Year'] = df_new.Date.dt.year\n",
    "df['Month'] = df_new.Date.dt.month\n",
    "df['Day'] = df_new.Date.dt.day\n",
    "df['Quarter'] = df_new.Date.dt.quarter\n",
    "df['Week'] = df_new.Date.dt.week\n",
    "df['Week_day'] = df_new.Date.dt.weekday\n",
    "df['Day_of_year'] = df_new.Date.dt.dayofyear"
   ]
  },
  {
   "cell_type": "code",
   "execution_count": 211,
   "id": "descending-timber",
   "metadata": {},
   "outputs": [
    {
     "data": {
      "text/html": [
       "<div>\n",
       "<style scoped>\n",
       "    .dataframe tbody tr th:only-of-type {\n",
       "        vertical-align: middle;\n",
       "    }\n",
       "\n",
       "    .dataframe tbody tr th {\n",
       "        vertical-align: top;\n",
       "    }\n",
       "\n",
       "    .dataframe thead th {\n",
       "        text-align: right;\n",
       "    }\n",
       "</style>\n",
       "<table border=\"1\" class=\"dataframe\">\n",
       "  <thead>\n",
       "    <tr style=\"text-align: right;\">\n",
       "      <th></th>\n",
       "      <th>Invoice</th>\n",
       "      <th>StockCode</th>\n",
       "      <th>Description</th>\n",
       "      <th>Quantity</th>\n",
       "      <th>InvoiceDate</th>\n",
       "      <th>Price</th>\n",
       "      <th>Customer ID</th>\n",
       "      <th>Country</th>\n",
       "      <th>Date</th>\n",
       "      <th>Revenue</th>\n",
       "      <th>Year</th>\n",
       "      <th>Month</th>\n",
       "      <th>Day</th>\n",
       "      <th>Quarter</th>\n",
       "      <th>Week</th>\n",
       "      <th>Week_day</th>\n",
       "      <th>Day_of_year</th>\n",
       "    </tr>\n",
       "  </thead>\n",
       "  <tbody>\n",
       "    <tr>\n",
       "      <th>0</th>\n",
       "      <td>489434</td>\n",
       "      <td>85048</td>\n",
       "      <td>15CM CHRISTMAS GLASS BALL 20 LIGHTS</td>\n",
       "      <td>12</td>\n",
       "      <td>2009-12-01 07:45:00</td>\n",
       "      <td>6.95</td>\n",
       "      <td>13085.0</td>\n",
       "      <td>United Kingdom</td>\n",
       "      <td>2009-12-01</td>\n",
       "      <td>83.4</td>\n",
       "      <td>2009</td>\n",
       "      <td>12</td>\n",
       "      <td>1</td>\n",
       "      <td>4</td>\n",
       "      <td>49</td>\n",
       "      <td>1</td>\n",
       "      <td>335</td>\n",
       "    </tr>\n",
       "    <tr>\n",
       "      <th>1</th>\n",
       "      <td>489434</td>\n",
       "      <td>79323P</td>\n",
       "      <td>PINK CHERRY LIGHTS</td>\n",
       "      <td>12</td>\n",
       "      <td>2009-12-01 07:45:00</td>\n",
       "      <td>6.75</td>\n",
       "      <td>13085.0</td>\n",
       "      <td>United Kingdom</td>\n",
       "      <td>2009-12-01</td>\n",
       "      <td>81.0</td>\n",
       "      <td>2009</td>\n",
       "      <td>12</td>\n",
       "      <td>1</td>\n",
       "      <td>4</td>\n",
       "      <td>49</td>\n",
       "      <td>1</td>\n",
       "      <td>335</td>\n",
       "    </tr>\n",
       "  </tbody>\n",
       "</table>\n",
       "</div>"
      ],
      "text/plain": [
       "  Invoice StockCode                          Description  Quantity  \\\n",
       "0  489434     85048  15CM CHRISTMAS GLASS BALL 20 LIGHTS        12   \n",
       "1  489434    79323P                   PINK CHERRY LIGHTS        12   \n",
       "\n",
       "          InvoiceDate  Price  Customer ID         Country       Date  Revenue  \\\n",
       "0 2009-12-01 07:45:00   6.95      13085.0  United Kingdom 2009-12-01     83.4   \n",
       "1 2009-12-01 07:45:00   6.75      13085.0  United Kingdom 2009-12-01     81.0   \n",
       "\n",
       "   Year  Month  Day  Quarter  Week  Week_day  Day_of_year  \n",
       "0  2009     12    1        4    49         1          335  \n",
       "1  2009     12    1        4    49         1          335  "
      ]
     },
     "execution_count": 211,
     "metadata": {},
     "output_type": "execute_result"
    }
   ],
   "source": [
    "#last thing is to drop duplicates\n",
    "df.drop_duplicates(inplace=True)\n",
    "df.head(2)\n"
   ]
  },
  {
   "cell_type": "code",
   "execution_count": 212,
   "id": "realistic-israel",
   "metadata": {},
   "outputs": [
    {
     "data": {
      "text/plain": [
       "(997246, 17)"
      ]
     },
     "execution_count": 212,
     "metadata": {},
     "output_type": "execute_result"
    }
   ],
   "source": [
    "df.shape"
   ]
  },
  {
   "cell_type": "markdown",
   "id": "vocal-spokesman",
   "metadata": {},
   "source": [
    "<a id=\"missing_customerid\"></a>\n",
    "### Customers with nans"
   ]
  },
  {
   "cell_type": "code",
   "execution_count": 213,
   "id": "monetary-things",
   "metadata": {},
   "outputs": [
    {
     "data": {
      "text/plain": [
       "226860"
      ]
     },
     "execution_count": 213,
     "metadata": {},
     "output_type": "execute_result"
    }
   ],
   "source": [
    "#number of customers with no id\n",
    "df['Customer ID'].isna().sum()"
   ]
  },
  {
   "cell_type": "code",
   "execution_count": 214,
   "id": "french-deployment",
   "metadata": {},
   "outputs": [
    {
     "data": {
      "text/plain": [
       "29.447575630917488"
      ]
     },
     "execution_count": 214,
     "metadata": {},
     "output_type": "execute_result"
    }
   ],
   "source": [
    "#percentage of customer with nans for id\n",
    "df['Customer ID'].isna().sum()/df['Customer ID'].notna().sum() *100\n",
    "#df_new['Customer ID'].describe()"
   ]
  },
  {
   "cell_type": "markdown",
   "id": "violent-visibility",
   "metadata": {},
   "source": [
    ">30% of customers have no ID, I am guessing that these are customers who have no account and have ordered as guests"
   ]
  },
  {
   "cell_type": "code",
   "execution_count": 215,
   "id": "radio-script",
   "metadata": {},
   "outputs": [
    {
     "data": {
      "text/plain": [
       "(226860, 17)"
      ]
     },
     "execution_count": 215,
     "metadata": {},
     "output_type": "execute_result"
    }
   ],
   "source": [
    "#create a dataframe with missing cutomers\n",
    "df_nan_cusotmers = df[df['Customer ID'].isna()] \n",
    "df_nan_cusotmers.shape\n"
   ]
  },
  {
   "cell_type": "code",
   "execution_count": 216,
   "id": "furnished-fairy",
   "metadata": {},
   "outputs": [
    {
     "data": {
      "text/plain": [
       "United Kingdom          224039\n",
       "EIRE                      1583\n",
       "Hong Kong                  347\n",
       "Unspecified                230\n",
       "France                     128\n",
       "Switzerland                117\n",
       "Portugal                   114\n",
       "United Arab Emirates        82\n",
       "Bahrain                     65\n",
       "Israel                      47\n",
       "RSA                         44\n",
       "Bermuda                     34\n",
       "Sweden                      18\n",
       "Lebanon                     12\n",
       "Name: Country, dtype: int64"
      ]
     },
     "execution_count": 216,
     "metadata": {},
     "output_type": "execute_result"
    }
   ],
   "source": [
    "#do these customers belong to a specific country\n",
    "df_nan_cusotmers.Country.value_counts()"
   ]
  },
  {
   "cell_type": "markdown",
   "id": "arranged-ebony",
   "metadata": {},
   "source": [
    ">They are not connected in any one country, but are spread out. So I will replace nans with 1 to indicate guest and change customer id type to int"
   ]
  },
  {
   "cell_type": "markdown",
   "id": "driving-rochester",
   "metadata": {},
   "source": [
    ">I will drop the customer with no ID from df_new and put them in a separate dataframe, for  customer segmentation."
   ]
  },
  {
   "cell_type": "code",
   "execution_count": 217,
   "id": "attempted-trader",
   "metadata": {},
   "outputs": [],
   "source": [
    "#drop cusotmer that are nans\n",
    "df = df[df['Customer ID'].notna()]"
   ]
  },
  {
   "cell_type": "code",
   "execution_count": 225,
   "id": "nominated-template",
   "metadata": {},
   "outputs": [
    {
     "data": {
      "text/plain": [
       "5834"
      ]
     },
     "execution_count": 225,
     "metadata": {},
     "output_type": "execute_result"
    }
   ],
   "source": [
    "#number of customers\n",
    "df['Customer ID'].nunique()"
   ]
  },
  {
   "cell_type": "code",
   "execution_count": 221,
   "id": "infinite-unknown",
   "metadata": {},
   "outputs": [
    {
     "data": {
      "text/html": [
       "<div>\n",
       "<style scoped>\n",
       "    .dataframe tbody tr th:only-of-type {\n",
       "        vertical-align: middle;\n",
       "    }\n",
       "\n",
       "    .dataframe tbody tr th {\n",
       "        vertical-align: top;\n",
       "    }\n",
       "\n",
       "    .dataframe thead th {\n",
       "        text-align: right;\n",
       "    }\n",
       "</style>\n",
       "<table border=\"1\" class=\"dataframe\">\n",
       "  <thead>\n",
       "    <tr style=\"text-align: right;\">\n",
       "      <th></th>\n",
       "      <th>Invoice</th>\n",
       "      <th>StockCode</th>\n",
       "      <th>Description</th>\n",
       "      <th>Quantity</th>\n",
       "      <th>InvoiceDate</th>\n",
       "      <th>Price</th>\n",
       "      <th>Customer ID</th>\n",
       "      <th>Country</th>\n",
       "      <th>Date</th>\n",
       "      <th>Revenue</th>\n",
       "      <th>Year</th>\n",
       "      <th>Month</th>\n",
       "      <th>Day</th>\n",
       "      <th>Quarter</th>\n",
       "      <th>Week</th>\n",
       "      <th>Week_day</th>\n",
       "      <th>Day_of_year</th>\n",
       "    </tr>\n",
       "  </thead>\n",
       "  <tbody>\n",
       "  </tbody>\n",
       "</table>\n",
       "</div>"
      ],
      "text/plain": [
       "Empty DataFrame\n",
       "Columns: [Invoice, StockCode, Description, Quantity, InvoiceDate, Price, Customer ID, Country, Date, Revenue, Year, Month, Day, Quarter, Week, Week_day, Day_of_year]\n",
       "Index: []"
      ]
     },
     "execution_count": 221,
     "metadata": {},
     "output_type": "execute_result"
    }
   ],
   "source": [
    "df[df.Revenue==0]"
   ]
  },
  {
   "cell_type": "markdown",
   "id": "antique-timber",
   "metadata": {},
   "source": [
    "[Back To Top](#top)"
   ]
  },
  {
   "cell_type": "markdown",
   "id": "joined-meeting",
   "metadata": {},
   "source": [
    "<a id='save_file'></a>\n",
    "### Save Dataframe"
   ]
  },
  {
   "cell_type": "code",
   "execution_count": 222,
   "id": "quick-python",
   "metadata": {},
   "outputs": [],
   "source": [
    "#save dataframe \n",
    "data_path = '../cleaned_data'\n",
    "df.to_csv(data_path+'/clean_sales_df.csv')\n",
    "#save the dataframe with nan customers\n",
    "df_nan_cusotmers.to_csv(data_path + '/nan_customers.csv')"
   ]
  },
  {
   "cell_type": "markdown",
   "id": "coupled-billy",
   "metadata": {},
   "source": [
    "___"
   ]
  },
  {
   "cell_type": "markdown",
   "id": "amateur-transformation",
   "metadata": {},
   "source": [
    "[Back To Top](#top)"
   ]
  },
  {
   "cell_type": "markdown",
   "id": "exact-destruction",
   "metadata": {},
   "source": [
    "<a id=summary></a>\n",
    "### Summary:\n",
    "- Read data from an excel file with two sheets, the first with sale information for year 2010 and second for 2011\n",
    "- There were negative values for price and quantity\n",
    "- Negative prices were deleted\n",
    "- Negative quantity were returned damaged item so the dataframe was searched for identical rows that were positive quantity and were deleted. Then the rest of the negative quantities were deleted because they are not sales\n",
    "_ Nan customers were separated in a different dataframe \n",
    "- Features added were revenue that is calculated from price * quantity\n",
    "- Other features created were year, month, week, day, day of week day of year and quarter\n",
    "- The dataframe was saved as an csv file"
   ]
  },
  {
   "cell_type": "markdown",
   "id": "intermediate-national",
   "metadata": {},
   "source": [
    "[Back to Menu](#top)"
   ]
  },
  {
   "cell_type": "code",
   "execution_count": null,
   "id": "provincial-medicine",
   "metadata": {},
   "outputs": [],
   "source": []
  }
 ],
 "metadata": {
  "kernelspec": {
   "display_name": "Python 3",
   "language": "python",
   "name": "python3"
  },
  "language_info": {
   "codemirror_mode": {
    "name": "ipython",
    "version": 3
   },
   "file_extension": ".py",
   "mimetype": "text/x-python",
   "name": "python",
   "nbconvert_exporter": "python",
   "pygments_lexer": "ipython3",
   "version": "3.7.3"
  }
 },
 "nbformat": 4,
 "nbformat_minor": 5
}
